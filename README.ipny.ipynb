{
 "cells": [
  {
   "cell_type": "markdown",
   "metadata": {},
   "source": [
    "# MOVIE ANALYSIS\n",
    "\n",
    "\n",
    "## Libraries Used\n",
    "**numpy** - Used for quick math functions <br>\n",
    "**pandas** - Used for working and analyzing dataframes<br>\n",
    "**os** - Interface with the underlying operating system<br>\n",
    "**matplotlib.pyplot** - Plot the dataframes into graphs<br>\n",
    "**glob** - Generates lists of files matching given patterns<br>\n",
    "**sqlite3** - Allows us to work with sql"
   ]
  },
  {
   "cell_type": "markdown",
   "metadata": {},
   "source": [
    "## Project\n",
    "\n",
    "Help Microsoft understand more about the movie industry.<br>\n",
    "<br>\n",
    "Analyize the data to help the understand the movie industry and create presentation about what types of movies are doing the best. <br>\n",
    "<br>\n",
    "Find insights to help the CEO decide on what types of movies to create\n"
   ]
  },
  {
   "cell_type": "markdown",
   "metadata": {},
   "source": [
    "## Data Used\n",
    "\n",
    "* IMDB\n",
    "* Rotten Tomatoes\n",
    "* Box Office Mojo\n",
    "* The Movie DB"
   ]
  },
  {
   "cell_type": "markdown",
   "metadata": {},
   "source": [
    "## Files \n",
    "* This README\n",
    "* Data Analysis\n",
    "* Power Point PDF\n",
    "* Video "
   ]
  },
  {
   "cell_type": "markdown",
   "metadata": {},
   "source": [
    "## First Data Frame\n",
    "* Merged tn_movie_budgets with the imdb_title_basics\n",
    "* Merged again with the imdb_title_crew\n",
    "* An inner join by titles\n",
    "* Drop any of the columns that not going to use\n",
    "* Create a column for profit margin calculations\n",
    "* Create columns for each genre\n",
    "* Crerate column for month release"
   ]
  },
  {
   "cell_type": "markdown",
   "metadata": {},
   "source": [
    "## Second Data Frame\n",
    "* Merge the first data frame with tmdb_movies\n",
    "* Join with an inner merge to not have as many missing values \n",
    "* Get ride of unnecessary columns"
   ]
  },
  {
   "cell_type": "markdown",
   "metadata": {},
   "source": [
    "## Data Cleaning\n",
    "* Started with dropping any duplicated titles/title id\n",
    "* Change all the money vales by getting rid of $ and commas <br>\n",
    "* Change all the columns with the numerical values into **int** types\n",
    "* Change the date column into a **datetime** type\n",
    "* Drop missing values or fill missing values"
   ]
  },
  {
   "cell_type": "markdown",
   "metadata": {},
   "source": [
    "## What are the most profitable movies?\n",
    "<br>\n",
    "**The most profitable movies are:** <br>\n",
    "The Gallow <br>\n",
    "Bambi <br>\n",
    "Rocky <br>\n",
    "\n",
    "<img src=\"Project Helpers/most profitable movies.png\"> <br>\n",
    "\n"
   ]
  },
  {
   "cell_type": "markdown",
   "metadata": {},
   "source": [
    "## What movies have the best review and most votes? \n",
    "\n",
    "**The best rated movies are :** <br>\n",
    "Avengers: Civil War <br>\n",
    "Inception <br>\n",
    "Shutter Island <br>\n",
    "\n",
    "<img src=\"Project Helpers/25 best most reviews.png\">,\n"
   ]
  },
  {
   "cell_type": "markdown",
   "metadata": {},
   "source": [
    "## What is the gross profit per release month?\n",
    "<br>\n",
    "The Release month of June-July  have a higher worldwide gross profit. <br>\n",
    "\n",
    "<img src=\"Project Helpers/world wide gross by months.png\">,\n"
   ]
  },
  {
   "cell_type": "markdown",
   "metadata": {},
   "source": [
    "## Who are the most profitable directors?\n",
    "<br>\n",
    "**The most profitable directors:** <br>\n",
    "Travis Cluff <br>\n",
    "Sebastian Lifshitz <br>\n",
    "William Brent Bell <br>\n",
    "<img src=\"Project Helpers/top directors profitable.png\">,"
   ]
  }
 ],
 "metadata": {
  "kernelspec": {
   "display_name": "Python [conda env:learn-env] *",
   "language": "python",
   "name": "conda-env-learn-env-py"
  },
  "language_info": {
   "codemirror_mode": {
    "name": "ipython",
    "version": 3
   },
   "file_extension": ".py",
   "mimetype": "text/x-python",
   "name": "python",
   "nbconvert_exporter": "python",
   "pygments_lexer": "ipython3",
   "version": "3.6.9"
  }
 },
 "nbformat": 4,
 "nbformat_minor": 2
}
