{
 "cells": [
  {
   "cell_type": "markdown",
   "metadata": {},
   "source": [
    "# MOVIE ANALYSIS\n",
    "\n",
    "\n",
    "## Libraries Used\n",
    "**numpy** - Used for quick math functions <br>\n",
    "**pandas** - Used for working and analyzing dataframes<br>\n",
    "**os** - Interface with the underlying operating system<br>\n",
    "**matplotlib.pyplot** - Plot the dataframes into graphs<br>\n",
    "**glob** - Generates lists of files matching given patterns<br>\n",
    "**sqlite3** - Allows us to work with sql"
   ]
  },
  {
   "cell_type": "markdown",
   "metadata": {},
   "source": [
    "## Project\n",
    "\n",
    "Help Microsoft understand more about the movie industry.<br>\n",
    "<br>\n",
    "Analyize the data to help the understand the movie industry and create presentation about what types of movies are doing the best. <br>\n",
    "<br>\n",
    "Find insights to help the CEO decide on what types of movies to create\n"
   ]
  },
  {
   "cell_type": "markdown",
   "metadata": {},
   "source": [
    "## Data Used\n",
    "\n",
    "* IMDB\n",
    "* Rotten Tomatoes\n",
    "* Box Office Mojo\n",
    "* The Movie DB"
   ]
  },
  {
   "cell_type": "markdown",
   "metadata": {},
   "source": [
    "## Files \n",
    "* This README as a guide of the analysis\n",
    "* *Exploratory Notebook* - importing and exploring all of the data given.\n",
    "* *Student Data Analysis* - the complete understanding of the data and analysis.\n",
    "* *Power Point PDF* - Full/easy analysis\n",
    "* Video - youtube video walkthrough (not updated)"
   ]
  },
  {
   "cell_type": "markdown",
   "metadata": {},
   "source": [
    "## Genres Dataframe\n",
    "* Join imdb_title_ratings with the imdb_title_basics\n",
    "* Join again with the tn_movie_budgets\n",
    "* An inner join by titles\n",
    "* Drop any of the columns that not going to use\n",
    "* Create a column for profit margin calculations\n",
    "* Create columns for each genre\n",
    "* Crerate column for month release"
   ]
  },
  {
   "cell_type": "markdown",
   "metadata": {},
   "source": [
    "## Directors Dataframe\n",
    "\n",
    "* Join the tn_movie_budgets with imdb_title_crew\n",
    "* Join with an inner merge to not have as many missing values \n",
    "* Get rid of unnecessary columns"
   ]
  },
  {
   "cell_type": "markdown",
   "metadata": {},
   "source": [
    "## Popularity Dataframe\n",
    "\n",
    "* Join the tmdb_movies with directors dataframe\n",
    "* Join with an inner merge to not have as many missing values \n",
    "* Get rid of unnecessary columns and sorted"
   ]
  },
  {
   "cell_type": "markdown",
   "metadata": {},
   "source": [
    "## Finance Dataframe\n",
    "\n",
    "* Using the tn_movie_budgets \n",
    "* Clean dataframe \n",
    "* Get rid of unnecessary columns"
   ]
  },
  {
   "cell_type": "markdown",
   "metadata": {},
   "source": [
    "## Data Cleaning\n",
    "* Started with dropping any duplicated titles/title id\n",
    "* Change all the money vales by getting rid of $ and commas <br>\n",
    "* Change all the columns with the numerical values into **int** types\n",
    "* Change the date column into a **datetime** type\n",
    "* Drop missing values or fill missing values"
   ]
  },
  {
   "cell_type": "markdown",
   "metadata": {},
   "source": [
    "## Questions Answering\n",
    "**Genres** <br>\n",
    "    * What genres are the most profitable movies?\n",
    "**Directors** <br>\n",
    "    * Who are the the directors of the most profitable movies?\n",
    "**Popularity/Directors** <br>\n",
    "    * Which movies are the most popular?\n",
    "    * Which movies are the most popular with the most votes?\n",
    "    * What is the correlation between popularity and the production budget?\n",
    "    * Is there a correlation between popularity and the release day?\n",
    "    * Is there a correlation between popularity and the release month?    \n",
    "**Finaces** <br>\n",
    "    * What are the most profitable movies?\n",
    "    * What is the correlation between profit and release day?\n",
    "    * What is the correlation between production budget and the profit?\n"
   ]
  },
  {
   "cell_type": "code",
   "execution_count": null,
   "metadata": {},
   "outputs": [],
   "source": []
  }
 ],
 "metadata": {
  "kernelspec": {
   "display_name": "Python [conda env:learn-env] *",
   "language": "python",
   "name": "conda-env-learn-env-py"
  },
  "language_info": {
   "codemirror_mode": {
    "name": "ipython",
    "version": 3
   },
   "file_extension": ".py",
   "mimetype": "text/x-python",
   "name": "python",
   "nbconvert_exporter": "python",
   "pygments_lexer": "ipython3",
   "version": "3.6.9"
  }
 },
 "nbformat": 4,
 "nbformat_minor": 2
}
