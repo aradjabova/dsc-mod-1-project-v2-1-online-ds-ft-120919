{
 "cells": [
  {
   "cell_type": "markdown",
   "metadata": {},
   "source": [
    "                                        Importing all needed libraries"
   ]
  },
  {
   "cell_type": "code",
   "execution_count": 1,
   "metadata": {},
   "outputs": [],
   "source": [
    "import numpy as np\n",
    "import pandas as pd\n",
    "import seaborn as sns\n",
    "\n",
    "import os\n",
    "import matplotlib.pyplot as plt\n",
    "%matplotlib inline\n",
    "\n",
    "from glob import glob\n",
    "import sqlite3"
   ]
  },
  {
   "cell_type": "markdown",
   "metadata": {},
   "source": [
    "                          Decompressed all the csv files with 'gunzip' in terminal\n",
    "                                  Select only the csv files to work with"
   ]
  },
  {
   "cell_type": "code",
   "execution_count": 2,
   "metadata": {
    "scrolled": true
   },
   "outputs": [
    {
     "data": {
      "text/plain": [
       "['zippedData/tmdb.movies.csv',\n",
       " 'zippedData/imdb.title.crew.csv',\n",
       " 'zippedData/tn.movie_budgets.csv',\n",
       " 'zippedData/imdb.title.ratings.csv',\n",
       " 'zippedData/imdb.name.basics.csv',\n",
       " 'zippedData/imdb.title.principals.csv',\n",
       " 'zippedData/imdb.title.akas.csv',\n",
       " 'zippedData/bom.movie_gross.csv',\n",
       " 'zippedData/imdb.title.basics.csv']"
      ]
     },
     "execution_count": 2,
     "metadata": {},
     "output_type": "execute_result"
    }
   ],
   "source": [
    "csv_files = glob('zippedData/*.csv')\n",
    "csv_files"
   ]
  },
  {
   "cell_type": "markdown",
   "metadata": {},
   "source": [
    "                         Put all the files into a dictonary for easier access\n",
    "                                Renamed to easier names\n",
    "                                Explored the dataframes\n",
    "                                "
   ]
  },
  {
   "cell_type": "code",
   "execution_count": 3,
   "metadata": {},
   "outputs": [],
   "source": [
    "files_dict = {}\n",
    "for file in csv_files:\n",
    "    file_cleaned = os.path.basename(file).replace(\".csv\", \"\").replace(\".\", \"_\")\n",
    "    file_df = pd.read_csv(file)\n",
    "    files_dict[file_cleaned] = file_df"
   ]
  },
  {
   "cell_type": "code",
   "execution_count": 4,
   "metadata": {},
   "outputs": [
    {
     "data": {
      "text/plain": [
       "dict_keys(['tmdb_movies', 'imdb_title_crew', 'tn_movie_budgets', 'imdb_title_ratings', 'imdb_name_basics', 'imdb_title_principals', 'imdb_title_akas', 'bom_movie_gross', 'imdb_title_basics'])"
      ]
     },
     "execution_count": 4,
     "metadata": {},
     "output_type": "execute_result"
    }
   ],
   "source": [
    "files_dict.keys()"
   ]
  },
  {
   "cell_type": "code",
   "execution_count": 5,
   "metadata": {},
   "outputs": [
    {
     "data": {
      "text/plain": [
       "dict_values([       Unnamed: 0            genre_ids      id original_language  \\\n",
       "0               0      [12, 14, 10751]   12444                en   \n",
       "1               1  [14, 12, 16, 10751]   10191                en   \n",
       "2               2        [12, 28, 878]   10138                en   \n",
       "3               3      [16, 35, 10751]     862                en   \n",
       "4               4        [28, 878, 12]   27205                en   \n",
       "...           ...                  ...     ...               ...   \n",
       "26512       26512             [27, 18]  488143                en   \n",
       "26513       26513             [18, 53]  485975                en   \n",
       "26514       26514         [14, 28, 12]  381231                en   \n",
       "26515       26515      [10751, 12, 28]  366854                en   \n",
       "26516       26516             [53, 27]  309885                en   \n",
       "\n",
       "                                     original_title  popularity release_date  \\\n",
       "0      Harry Potter and the Deathly Hallows: Part 1      33.533   2010-11-19   \n",
       "1                          How to Train Your Dragon      28.734   2010-03-26   \n",
       "2                                        Iron Man 2      28.515   2010-05-07   \n",
       "3                                         Toy Story      28.005   1995-11-22   \n",
       "4                                         Inception      27.920   2010-07-16   \n",
       "...                                             ...         ...          ...   \n",
       "26512                         Laboratory Conditions       0.600   2018-10-13   \n",
       "26513                               _EXHIBIT_84xxx_       0.600   2018-05-01   \n",
       "26514                                  The Last One       0.600   2018-10-01   \n",
       "26515                                  Trailer Made       0.600   2018-06-22   \n",
       "26516                                    The Church       0.600   2018-10-05   \n",
       "\n",
       "                                              title  vote_average  vote_count  \n",
       "0      Harry Potter and the Deathly Hallows: Part 1           7.7       10788  \n",
       "1                          How to Train Your Dragon           7.7        7610  \n",
       "2                                        Iron Man 2           6.8       12368  \n",
       "3                                         Toy Story           7.9       10174  \n",
       "4                                         Inception           8.3       22186  \n",
       "...                                             ...           ...         ...  \n",
       "26512                         Laboratory Conditions           0.0           1  \n",
       "26513                               _EXHIBIT_84xxx_           0.0           1  \n",
       "26514                                  The Last One           0.0           1  \n",
       "26515                                  Trailer Made           0.0           1  \n",
       "26516                                    The Church           0.0           1  \n",
       "\n",
       "[26517 rows x 10 columns],            tconst                      directors              writers\n",
       "0       tt0285252                      nm0899854            nm0899854\n",
       "1       tt0438973                            NaN  nm0175726,nm1802864\n",
       "2       tt0462036                      nm1940585            nm1940585\n",
       "3       tt0835418                      nm0151540  nm0310087,nm0841532\n",
       "4       tt0878654  nm0089502,nm2291498,nm2292011            nm0284943\n",
       "...           ...                            ...                  ...\n",
       "146139  tt8999974                     nm10122357           nm10122357\n",
       "146140  tt9001390                      nm6711477            nm6711477\n",
       "146141  tt9001494          nm10123242,nm10123248                  NaN\n",
       "146142  tt9004986                      nm4993825            nm4993825\n",
       "146143  tt9010172                            NaN            nm8352242\n",
       "\n",
       "[146144 rows x 3 columns],       id  release_date                                        movie  \\\n",
       "0      1  Dec 18, 2009                                       Avatar   \n",
       "1      2  May 20, 2011  Pirates of the Caribbean: On Stranger Tides   \n",
       "2      3   Jun 7, 2019                                 Dark Phoenix   \n",
       "3      4   May 1, 2015                      Avengers: Age of Ultron   \n",
       "4      5  Dec 15, 2017            Star Wars Ep. VIII: The Last Jedi   \n",
       "...   ..           ...                                          ...   \n",
       "5777  78  Dec 31, 2018                                       Red 11   \n",
       "5778  79   Apr 2, 1999                                    Following   \n",
       "5779  80  Jul 13, 2005                Return to the Land of Wonders   \n",
       "5780  81  Sep 29, 2015                         A Plague So Pleasant   \n",
       "5781  82   Aug 5, 2005                            My Date With Drew   \n",
       "\n",
       "     production_budget domestic_gross worldwide_gross  \n",
       "0         $425,000,000   $760,507,625  $2,776,345,279  \n",
       "1         $410,600,000   $241,063,875  $1,045,663,875  \n",
       "2         $350,000,000    $42,762,350    $149,762,350  \n",
       "3         $330,600,000   $459,005,868  $1,403,013,963  \n",
       "4         $317,000,000   $620,181,382  $1,316,721,747  \n",
       "...                ...            ...             ...  \n",
       "5777            $7,000             $0              $0  \n",
       "5778            $6,000        $48,482        $240,495  \n",
       "5779            $5,000         $1,338          $1,338  \n",
       "5780            $1,400             $0              $0  \n",
       "5781            $1,100       $181,041        $181,041  \n",
       "\n",
       "[5782 rows x 6 columns],            tconst  averagerating  numvotes\n",
       "0      tt10356526            8.3        31\n",
       "1      tt10384606            8.9       559\n",
       "2       tt1042974            6.4        20\n",
       "3       tt1043726            4.2     50352\n",
       "4       tt1060240            6.5        21\n",
       "...           ...            ...       ...\n",
       "73851   tt9805820            8.1        25\n",
       "73852   tt9844256            7.5        24\n",
       "73853   tt9851050            4.7        14\n",
       "73854   tt9886934            7.0         5\n",
       "73855   tt9894098            6.3       128\n",
       "\n",
       "[73856 rows x 3 columns],            nconst         primary_name  birth_year  death_year  \\\n",
       "0       nm0061671    Mary Ellen Bauder         NaN         NaN   \n",
       "1       nm0061865         Joseph Bauer         NaN         NaN   \n",
       "2       nm0062070           Bruce Baum         NaN         NaN   \n",
       "3       nm0062195         Axel Baumann         NaN         NaN   \n",
       "4       nm0062798          Pete Baxter         NaN         NaN   \n",
       "...           ...                  ...         ...         ...   \n",
       "606643  nm9990381         Susan Grobes         NaN         NaN   \n",
       "606644  nm9990690          Joo Yeon So         NaN         NaN   \n",
       "606645  nm9991320       Madeline Smith         NaN         NaN   \n",
       "606646  nm9991786  Michelle Modigliani         NaN         NaN   \n",
       "606647  nm9993380       Pegasus Envoyé         NaN         NaN   \n",
       "\n",
       "                                      primary_profession  \\\n",
       "0              miscellaneous,production_manager,producer   \n",
       "1             composer,music_department,sound_department   \n",
       "2                             miscellaneous,actor,writer   \n",
       "3       camera_department,cinematographer,art_department   \n",
       "4       production_designer,art_department,set_decorator   \n",
       "...                                                  ...   \n",
       "606643                                           actress   \n",
       "606644                                           actress   \n",
       "606645                                           actress   \n",
       "606646                                          producer   \n",
       "606647                             director,actor,writer   \n",
       "\n",
       "                               known_for_titles  \n",
       "0       tt0837562,tt2398241,tt0844471,tt0118553  \n",
       "1       tt0896534,tt6791238,tt0287072,tt1682940  \n",
       "2       tt1470654,tt0363631,tt0104030,tt0102898  \n",
       "3       tt0114371,tt2004304,tt1618448,tt1224387  \n",
       "4       tt0452644,tt0452692,tt3458030,tt2178256  \n",
       "...                                         ...  \n",
       "606643                                      NaN  \n",
       "606644                      tt9090932,tt8737130  \n",
       "606645                      tt8734436,tt9615610  \n",
       "606646                                      NaN  \n",
       "606647                                tt8743182  \n",
       "\n",
       "[606648 rows x 6 columns],             tconst  ordering      nconst  category       job  \\\n",
       "0        tt0111414         1   nm0246005     actor       NaN   \n",
       "1        tt0111414         2   nm0398271  director       NaN   \n",
       "2        tt0111414         3   nm3739909  producer  producer   \n",
       "3        tt0323808        10   nm0059247    editor       NaN   \n",
       "4        tt0323808         1   nm3579312   actress       NaN   \n",
       "...            ...       ...         ...       ...       ...   \n",
       "1028181  tt9692684         1   nm0186469     actor       NaN   \n",
       "1028182  tt9692684         2   nm4929530      self       NaN   \n",
       "1028183  tt9692684         3  nm10441594  director       NaN   \n",
       "1028184  tt9692684         4   nm6009913    writer    writer   \n",
       "1028185  tt9692684         5  nm10441595  producer  producer   \n",
       "\n",
       "                   characters  \n",
       "0                 [\"The Man\"]  \n",
       "1                         NaN  \n",
       "2                         NaN  \n",
       "3                         NaN  \n",
       "4            [\"Beth Boothby\"]  \n",
       "...                       ...  \n",
       "1028181  [\"Ebenezer Scrooge\"]  \n",
       "1028182   [\"Herself\",\"Regan\"]  \n",
       "1028183                   NaN  \n",
       "1028184                   NaN  \n",
       "1028185                   NaN  \n",
       "\n",
       "[1028186 rows x 6 columns],          title_id  ordering                                    title region  \\\n",
       "0       tt0369610        10                            Джурасик свят     BG   \n",
       "1       tt0369610        11                        Jurashikku warudo     JP   \n",
       "2       tt0369610        12  Jurassic World: O Mundo dos Dinossauros     BR   \n",
       "3       tt0369610        13                  O Mundo dos Dinossauros     BR   \n",
       "4       tt0369610        14                           Jurassic World     FR   \n",
       "...           ...       ...                                      ...    ...   \n",
       "331698  tt9827784         2                       Sayonara kuchibiru    NaN   \n",
       "331699  tt9827784         3                            Farewell Song    XWW   \n",
       "331700  tt9880178         1                              La atención    NaN   \n",
       "331701  tt9880178         2                              La atención     ES   \n",
       "331702  tt9880178         3                            The Attention    XWW   \n",
       "\n",
       "       language        types   attributes  is_original_title  \n",
       "0            bg          NaN          NaN                0.0  \n",
       "1           NaN  imdbDisplay          NaN                0.0  \n",
       "2           NaN  imdbDisplay          NaN                0.0  \n",
       "3           NaN          NaN  short title                0.0  \n",
       "4           NaN  imdbDisplay          NaN                0.0  \n",
       "...         ...          ...          ...                ...  \n",
       "331698      NaN     original          NaN                1.0  \n",
       "331699       en  imdbDisplay          NaN                0.0  \n",
       "331700      NaN     original          NaN                1.0  \n",
       "331701      NaN          NaN          NaN                0.0  \n",
       "331702       en  imdbDisplay          NaN                0.0  \n",
       "\n",
       "[331703 rows x 8 columns],                                             title      studio  domestic_gross  \\\n",
       "0                                     Toy Story 3          BV     415000000.0   \n",
       "1                      Alice in Wonderland (2010)          BV     334200000.0   \n",
       "2     Harry Potter and the Deathly Hallows Part 1          WB     296000000.0   \n",
       "3                                       Inception          WB     292600000.0   \n",
       "4                             Shrek Forever After        P/DW     238700000.0   \n",
       "...                                           ...         ...             ...   \n",
       "3382                                    The Quake       Magn.          6200.0   \n",
       "3383                  Edward II (2018 re-release)          FM          4800.0   \n",
       "3384                                     El Pacto        Sony          2500.0   \n",
       "3385                                     The Swan  Synergetic          2400.0   \n",
       "3386                            An Actor Prepares       Grav.          1700.0   \n",
       "\n",
       "     foreign_gross  year  \n",
       "0        652000000  2010  \n",
       "1        691300000  2010  \n",
       "2        664300000  2010  \n",
       "3        535700000  2010  \n",
       "4        513900000  2010  \n",
       "...            ...   ...  \n",
       "3382           NaN  2018  \n",
       "3383           NaN  2018  \n",
       "3384           NaN  2018  \n",
       "3385           NaN  2018  \n",
       "3386           NaN  2018  \n",
       "\n",
       "[3387 rows x 5 columns],            tconst                                primary_title  \\\n",
       "0       tt0063540                                    Sunghursh   \n",
       "1       tt0066787              One Day Before the Rainy Season   \n",
       "2       tt0069049                   The Other Side of the Wind   \n",
       "3       tt0069204                              Sabse Bada Sukh   \n",
       "4       tt0100275                     The Wandering Soap Opera   \n",
       "...           ...                                          ...   \n",
       "146139  tt9916538                          Kuambil Lagi Hatiku   \n",
       "146140  tt9916622  Rodolpho Teóphilo - O Legado de um Pioneiro   \n",
       "146141  tt9916706                              Dankyavar Danka   \n",
       "146142  tt9916730                                       6 Gunn   \n",
       "146143  tt9916754               Chico Albuquerque - Revelações   \n",
       "\n",
       "                                     original_title  start_year  \\\n",
       "0                                         Sunghursh        2013   \n",
       "1                                   Ashad Ka Ek Din        2019   \n",
       "2                        The Other Side of the Wind        2018   \n",
       "3                                   Sabse Bada Sukh        2018   \n",
       "4                             La Telenovela Errante        2017   \n",
       "...                                             ...         ...   \n",
       "146139                          Kuambil Lagi Hatiku        2019   \n",
       "146140  Rodolpho Teóphilo - O Legado de um Pioneiro        2015   \n",
       "146141                              Dankyavar Danka        2013   \n",
       "146142                                       6 Gunn        2017   \n",
       "146143               Chico Albuquerque - Revelações        2013   \n",
       "\n",
       "        runtime_minutes                genres  \n",
       "0                 175.0    Action,Crime,Drama  \n",
       "1                 114.0       Biography,Drama  \n",
       "2                 122.0                 Drama  \n",
       "3                   NaN          Comedy,Drama  \n",
       "4                  80.0  Comedy,Drama,Fantasy  \n",
       "...                 ...                   ...  \n",
       "146139            123.0                 Drama  \n",
       "146140              NaN           Documentary  \n",
       "146141              NaN                Comedy  \n",
       "146142            116.0                   NaN  \n",
       "146143              NaN           Documentary  \n",
       "\n",
       "[146144 rows x 6 columns]])"
      ]
     },
     "execution_count": 5,
     "metadata": {},
     "output_type": "execute_result"
    }
   ],
   "source": [
    "files_dict.values()"
   ]
  },
  {
   "cell_type": "markdown",
   "metadata": {},
   "source": [
    "                                                    .\n",
    "                                                    .\n",
    "                                                    .\n",
    "                                                    .\n",
    "                                                    .\n",
    "                                                SEE ALL DF   \n",
    "                Shows all the dataframes in the dictornary to call (in pd.Df format) THE KEYS\n",
    "                                                INFO/CHOOSE DF\n",
    "                                                    .\n",
    "                                                    .\n",
    "                                                    .\n",
    "                                                    .\n",
    "                                                    ."
   ]
  },
  {
   "cell_type": "code",
   "execution_count": 6,
   "metadata": {},
   "outputs": [
    {
     "name": "stdout",
     "output_type": "stream",
     "text": [
      "<class 'pandas.core.frame.DataFrame'>\n",
      "RangeIndex: 26517 entries, 0 to 26516\n",
      "Data columns (total 10 columns):\n",
      "Unnamed: 0           26517 non-null int64\n",
      "genre_ids            26517 non-null object\n",
      "id                   26517 non-null int64\n",
      "original_language    26517 non-null object\n",
      "original_title       26517 non-null object\n",
      "popularity           26517 non-null float64\n",
      "release_date         26517 non-null object\n",
      "title                26517 non-null object\n",
      "vote_average         26517 non-null float64\n",
      "vote_count           26517 non-null int64\n",
      "dtypes: float64(2), int64(3), object(5)\n",
      "memory usage: 2.0+ MB\n"
     ]
    }
   ],
   "source": [
    "files_dict['tmdb_movies'].info()"
   ]
  },
  {
   "cell_type": "code",
   "execution_count": 7,
   "metadata": {
    "scrolled": true
   },
   "outputs": [
    {
     "name": "stdout",
     "output_type": "stream",
     "text": [
      "<class 'pandas.core.frame.DataFrame'>\n",
      "RangeIndex: 5782 entries, 0 to 5781\n",
      "Data columns (total 6 columns):\n",
      "id                   5782 non-null int64\n",
      "release_date         5782 non-null object\n",
      "movie                5782 non-null object\n",
      "production_budget    5782 non-null object\n",
      "domestic_gross       5782 non-null object\n",
      "worldwide_gross      5782 non-null object\n",
      "dtypes: int64(1), object(5)\n",
      "memory usage: 271.2+ KB\n"
     ]
    }
   ],
   "source": [
    "files_dict['tn_movie_budgets'].info()"
   ]
  },
  {
   "cell_type": "code",
   "execution_count": 8,
   "metadata": {},
   "outputs": [],
   "source": [
    "# files_dict['tn_movie_budgets'].shape()"
   ]
  },
  {
   "cell_type": "markdown",
   "metadata": {},
   "source": [
    "                                                    .\n",
    "                                                    .\n",
    "                                                    .\n",
    "                                                    .\n",
    "                                                    .\n",
    "                                          Merge df to be  useable  \n",
    "                                                    .\n",
    "                                                    .\n",
    "                                                    .\n",
    "                                                    .\n",
    "                                                    ."
   ]
  },
  {
   "cell_type": "code",
   "execution_count": 9,
   "metadata": {},
   "outputs": [],
   "source": [
    "df1 = files_dict['tn_movie_budgets'].merge(files_dict['imdb_title_basics'], how='inner', left_on='movie', right_on='primary_title' )\n",
    "# merge two df"
   ]
  },
  {
   "cell_type": "code",
   "execution_count": 10,
   "metadata": {},
   "outputs": [],
   "source": [
    "df = df1.merge(files_dict['imdb_title_crew'], how='inner', left_on='tconst', right_on='tconst')\n",
    "# merge 3rd df"
   ]
  },
  {
   "cell_type": "code",
   "execution_count": 11,
   "metadata": {},
   "outputs": [],
   "source": [
    "df.drop(['writers', 'start_year', 'original_title', 'primary_title', 'id'], axis=1, inplace=True)\n",
    "# drop the not needed columns easier to work with"
   ]
  },
  {
   "cell_type": "code",
   "execution_count": 12,
   "metadata": {},
   "outputs": [
    {
     "data": {
      "text/html": [
       "<div>\n",
       "<style scoped>\n",
       "    .dataframe tbody tr th:only-of-type {\n",
       "        vertical-align: middle;\n",
       "    }\n",
       "\n",
       "    .dataframe tbody tr th {\n",
       "        vertical-align: top;\n",
       "    }\n",
       "\n",
       "    .dataframe thead th {\n",
       "        text-align: right;\n",
       "    }\n",
       "</style>\n",
       "<table border=\"1\" class=\"dataframe\">\n",
       "  <thead>\n",
       "    <tr style=\"text-align: right;\">\n",
       "      <th></th>\n",
       "      <th>release_date</th>\n",
       "      <th>movie</th>\n",
       "      <th>production_budget</th>\n",
       "      <th>domestic_gross</th>\n",
       "      <th>worldwide_gross</th>\n",
       "      <th>tconst</th>\n",
       "      <th>runtime_minutes</th>\n",
       "      <th>genres</th>\n",
       "      <th>directors</th>\n",
       "    </tr>\n",
       "  </thead>\n",
       "  <tbody>\n",
       "    <tr>\n",
       "      <th>0</th>\n",
       "      <td>Dec 18, 2009</td>\n",
       "      <td>Avatar</td>\n",
       "      <td>$425,000,000</td>\n",
       "      <td>$760,507,625</td>\n",
       "      <td>$2,776,345,279</td>\n",
       "      <td>tt1775309</td>\n",
       "      <td>93.0</td>\n",
       "      <td>Horror</td>\n",
       "      <td>nm3786927</td>\n",
       "    </tr>\n",
       "    <tr>\n",
       "      <th>1</th>\n",
       "      <td>May 20, 2011</td>\n",
       "      <td>Pirates of the Caribbean: On Stranger Tides</td>\n",
       "      <td>$410,600,000</td>\n",
       "      <td>$241,063,875</td>\n",
       "      <td>$1,045,663,875</td>\n",
       "      <td>tt1298650</td>\n",
       "      <td>136.0</td>\n",
       "      <td>Action,Adventure,Fantasy</td>\n",
       "      <td>nm0551128</td>\n",
       "    </tr>\n",
       "    <tr>\n",
       "      <th>2</th>\n",
       "      <td>Jun 7, 2019</td>\n",
       "      <td>Dark Phoenix</td>\n",
       "      <td>$350,000,000</td>\n",
       "      <td>$42,762,350</td>\n",
       "      <td>$149,762,350</td>\n",
       "      <td>tt6565702</td>\n",
       "      <td>113.0</td>\n",
       "      <td>Action,Adventure,Sci-Fi</td>\n",
       "      <td>nm1334526</td>\n",
       "    </tr>\n",
       "  </tbody>\n",
       "</table>\n",
       "</div>"
      ],
      "text/plain": [
       "   release_date                                        movie  \\\n",
       "0  Dec 18, 2009                                       Avatar   \n",
       "1  May 20, 2011  Pirates of the Caribbean: On Stranger Tides   \n",
       "2   Jun 7, 2019                                 Dark Phoenix   \n",
       "\n",
       "  production_budget domestic_gross worldwide_gross     tconst  \\\n",
       "0      $425,000,000   $760,507,625  $2,776,345,279  tt1775309   \n",
       "1      $410,600,000   $241,063,875  $1,045,663,875  tt1298650   \n",
       "2      $350,000,000    $42,762,350    $149,762,350  tt6565702   \n",
       "\n",
       "   runtime_minutes                    genres  directors  \n",
       "0             93.0                    Horror  nm3786927  \n",
       "1            136.0  Action,Adventure,Fantasy  nm0551128  \n",
       "2            113.0   Action,Adventure,Sci-Fi  nm1334526  "
      ]
     },
     "execution_count": 12,
     "metadata": {},
     "output_type": "execute_result"
    }
   ],
   "source": [
    "df.head(3)"
   ]
  },
  {
   "cell_type": "code",
   "execution_count": 13,
   "metadata": {},
   "outputs": [],
   "source": [
    "df.production_budget = df.production_budget.str.replace('$', '').str.replace(',', '')\n",
    "df.domestic_gross = df.domestic_gross.str.replace('$', '').str.replace(',', '')\n",
    "df.worldwide_gross = df.worldwide_gross.str.replace('$', '').str.replace(',', '')\n",
    "# get ride of dollar sign, commas\n",
    "# makes the data JUST number"
   ]
  },
  {
   "cell_type": "code",
   "execution_count": 14,
   "metadata": {},
   "outputs": [],
   "source": [
    "df.production_budget = df.production_budget.astype(int)\n",
    "df.domestic_gross = df.domestic_gross.astype(int)\n",
    "df.worldwide_gross = df.worldwide_gross.astype(int)\n",
    "# Change the columns into NUMBERS type"
   ]
  },
  {
   "cell_type": "code",
   "execution_count": 15,
   "metadata": {},
   "outputs": [],
   "source": [
    "df.drop_duplicates(subset='movie', inplace=True)\n",
    "# DROP ALL THE DUPLICATED. Don't need extra data"
   ]
  },
  {
   "cell_type": "code",
   "execution_count": 16,
   "metadata": {},
   "outputs": [],
   "source": [
    "df['profit_margin'] = ((df['worldwide_gross'] - df[\"production_budget\"]) / df['worldwide_gross']) * 100\n",
    "# Created a column named profit margin base on calculation for profit margins"
   ]
  },
  {
   "cell_type": "code",
   "execution_count": 17,
   "metadata": {},
   "outputs": [
    {
     "data": {
      "text/html": [
       "<div>\n",
       "<style scoped>\n",
       "    .dataframe tbody tr th:only-of-type {\n",
       "        vertical-align: middle;\n",
       "    }\n",
       "\n",
       "    .dataframe tbody tr th {\n",
       "        vertical-align: top;\n",
       "    }\n",
       "\n",
       "    .dataframe thead th {\n",
       "        text-align: right;\n",
       "    }\n",
       "</style>\n",
       "<table border=\"1\" class=\"dataframe\">\n",
       "  <thead>\n",
       "    <tr style=\"text-align: right;\">\n",
       "      <th></th>\n",
       "      <th>release_date</th>\n",
       "      <th>movie</th>\n",
       "      <th>production_budget</th>\n",
       "      <th>domestic_gross</th>\n",
       "      <th>worldwide_gross</th>\n",
       "      <th>tconst</th>\n",
       "      <th>runtime_minutes</th>\n",
       "      <th>genres</th>\n",
       "      <th>directors</th>\n",
       "      <th>profit_margin</th>\n",
       "    </tr>\n",
       "  </thead>\n",
       "  <tbody>\n",
       "    <tr>\n",
       "      <th>0</th>\n",
       "      <td>Dec 18, 2009</td>\n",
       "      <td>Avatar</td>\n",
       "      <td>425000000</td>\n",
       "      <td>760507625</td>\n",
       "      <td>2776345279</td>\n",
       "      <td>tt1775309</td>\n",
       "      <td>93.0</td>\n",
       "      <td>Horror</td>\n",
       "      <td>nm3786927</td>\n",
       "      <td>84.692106</td>\n",
       "    </tr>\n",
       "    <tr>\n",
       "      <th>1</th>\n",
       "      <td>May 20, 2011</td>\n",
       "      <td>Pirates of the Caribbean: On Stranger Tides</td>\n",
       "      <td>410600000</td>\n",
       "      <td>241063875</td>\n",
       "      <td>1045663875</td>\n",
       "      <td>tt1298650</td>\n",
       "      <td>136.0</td>\n",
       "      <td>Action,Adventure,Fantasy</td>\n",
       "      <td>nm0551128</td>\n",
       "      <td>60.733080</td>\n",
       "    </tr>\n",
       "  </tbody>\n",
       "</table>\n",
       "</div>"
      ],
      "text/plain": [
       "   release_date                                        movie  \\\n",
       "0  Dec 18, 2009                                       Avatar   \n",
       "1  May 20, 2011  Pirates of the Caribbean: On Stranger Tides   \n",
       "\n",
       "   production_budget  domestic_gross  worldwide_gross     tconst  \\\n",
       "0          425000000       760507625       2776345279  tt1775309   \n",
       "1          410600000       241063875       1045663875  tt1298650   \n",
       "\n",
       "   runtime_minutes                    genres  directors  profit_margin  \n",
       "0             93.0                    Horror  nm3786927      84.692106  \n",
       "1            136.0  Action,Adventure,Fantasy  nm0551128      60.733080  "
      ]
     },
     "execution_count": 17,
     "metadata": {},
     "output_type": "execute_result"
    }
   ],
   "source": [
    "df.head(2)\n",
    "# double check it works"
   ]
  },
  {
   "cell_type": "code",
   "execution_count": 18,
   "metadata": {},
   "outputs": [],
   "source": [
    "df.release_date = pd.to_datetime(df.release_date) \n",
    "# change the column into a date/time"
   ]
  },
  {
   "cell_type": "code",
   "execution_count": 19,
   "metadata": {},
   "outputs": [],
   "source": [
    "df['Month'] =  df['release_date'].apply(lambda x: x.strftime('%m'))\n",
    "# Create month column that takes the month from release date month option"
   ]
  },
  {
   "cell_type": "code",
   "execution_count": 20,
   "metadata": {},
   "outputs": [
    {
     "data": {
      "text/html": [
       "<div>\n",
       "<style scoped>\n",
       "    .dataframe tbody tr th:only-of-type {\n",
       "        vertical-align: middle;\n",
       "    }\n",
       "\n",
       "    .dataframe tbody tr th {\n",
       "        vertical-align: top;\n",
       "    }\n",
       "\n",
       "    .dataframe thead th {\n",
       "        text-align: right;\n",
       "    }\n",
       "</style>\n",
       "<table border=\"1\" class=\"dataframe\">\n",
       "  <thead>\n",
       "    <tr style=\"text-align: right;\">\n",
       "      <th></th>\n",
       "      <th>release_date</th>\n",
       "      <th>movie</th>\n",
       "      <th>production_budget</th>\n",
       "      <th>domestic_gross</th>\n",
       "      <th>worldwide_gross</th>\n",
       "      <th>tconst</th>\n",
       "      <th>runtime_minutes</th>\n",
       "      <th>genres</th>\n",
       "      <th>directors</th>\n",
       "      <th>profit_margin</th>\n",
       "      <th>Month</th>\n",
       "    </tr>\n",
       "  </thead>\n",
       "  <tbody>\n",
       "    <tr>\n",
       "      <th>0</th>\n",
       "      <td>2009-12-18</td>\n",
       "      <td>Avatar</td>\n",
       "      <td>425000000</td>\n",
       "      <td>760507625</td>\n",
       "      <td>2776345279</td>\n",
       "      <td>tt1775309</td>\n",
       "      <td>93.0</td>\n",
       "      <td>Horror</td>\n",
       "      <td>nm3786927</td>\n",
       "      <td>84.692106</td>\n",
       "      <td>12</td>\n",
       "    </tr>\n",
       "    <tr>\n",
       "      <th>1</th>\n",
       "      <td>2011-05-20</td>\n",
       "      <td>Pirates of the Caribbean: On Stranger Tides</td>\n",
       "      <td>410600000</td>\n",
       "      <td>241063875</td>\n",
       "      <td>1045663875</td>\n",
       "      <td>tt1298650</td>\n",
       "      <td>136.0</td>\n",
       "      <td>Action,Adventure,Fantasy</td>\n",
       "      <td>nm0551128</td>\n",
       "      <td>60.733080</td>\n",
       "      <td>05</td>\n",
       "    </tr>\n",
       "  </tbody>\n",
       "</table>\n",
       "</div>"
      ],
      "text/plain": [
       "  release_date                                        movie  \\\n",
       "0   2009-12-18                                       Avatar   \n",
       "1   2011-05-20  Pirates of the Caribbean: On Stranger Tides   \n",
       "\n",
       "   production_budget  domestic_gross  worldwide_gross     tconst  \\\n",
       "0          425000000       760507625       2776345279  tt1775309   \n",
       "1          410600000       241063875       1045663875  tt1298650   \n",
       "\n",
       "   runtime_minutes                    genres  directors  profit_margin Month  \n",
       "0             93.0                    Horror  nm3786927      84.692106    12  \n",
       "1            136.0  Action,Adventure,Fantasy  nm0551128      60.733080    05  "
      ]
     },
     "execution_count": 20,
     "metadata": {},
     "output_type": "execute_result"
    }
   ],
   "source": [
    "df.head(2)\n",
    "# check if everything worked"
   ]
  },
  {
   "cell_type": "code",
   "execution_count": 21,
   "metadata": {},
   "outputs": [],
   "source": [
    "df.genres= df.genres.str.split(',')\n",
    "# split the genres into a list by the comma"
   ]
  },
  {
   "cell_type": "code",
   "execution_count": 22,
   "metadata": {},
   "outputs": [],
   "source": [
    "df.directors = df.directors.str.split(',').str[0]\n",
    "# split the directors columns"
   ]
  },
  {
   "cell_type": "code",
   "execution_count": 23,
   "metadata": {},
   "outputs": [],
   "source": [
    "df.genres.fillna('O', inplace=True)\n",
    "# if genres empty fill it with o"
   ]
  },
  {
   "cell_type": "code",
   "execution_count": 24,
   "metadata": {},
   "outputs": [
    {
     "data": {
      "text/plain": [
       "['Horror',\n",
       " 'Action',\n",
       " 'Adventure',\n",
       " 'Fantasy',\n",
       " 'Sci-Fi',\n",
       " 'Thriller',\n",
       " 'Western',\n",
       " 'Animation',\n",
       " 'Comedy',\n",
       " 'Family',\n",
       " 'Crime',\n",
       " 'Drama',\n",
       " 'Romance',\n",
       " 'Mystery',\n",
       " 'O',\n",
       " 'History',\n",
       " 'Sport',\n",
       " 'Biography',\n",
       " 'Documentary',\n",
       " 'War',\n",
       " 'Musical',\n",
       " 'Music',\n",
       " 'News']"
      ]
     },
     "execution_count": 24,
     "metadata": {},
     "output_type": "execute_result"
    }
   ],
   "source": [
    "all_genres = []\n",
    "for genres in df.genres:\n",
    "    for genre in genres:\n",
    "        if genre not in all_genres:\n",
    "            all_genres.append(genre)\n",
    "        else:\n",
    "            pass\n",
    "\n",
    "all_genres\n",
    "# Create list of unique genres"
   ]
  },
  {
   "cell_type": "code",
   "execution_count": 25,
   "metadata": {},
   "outputs": [],
   "source": [
    "for genre in all_genres:\n",
    "    df[genre] = np.zeros(shape=df.shape[0])\n",
    "# Create columns for each of the genres in list of unique genres"
   ]
  },
  {
   "cell_type": "code",
   "execution_count": 26,
   "metadata": {
    "scrolled": true
   },
   "outputs": [
    {
     "name": "stdout",
     "output_type": "stream",
     "text": [
      "0\n",
      "100\n",
      "200\n",
      "300\n",
      "400\n",
      "500\n",
      "600\n",
      "700\n",
      "800\n",
      "1000\n",
      "1100\n",
      "1700\n",
      "1800\n",
      "2000\n",
      "2100\n",
      "2200\n",
      "2500\n",
      "2700\n",
      "2900\n",
      "3000\n",
      "3200\n",
      "3400\n"
     ]
    }
   ],
   "source": [
    "for index, row in df.iterrows():\n",
    "    if index % 100 == 0:\n",
    "        print(index)\n",
    "    for word in row['genres']:\n",
    "        df.loc[index, word] = 1\n",
    "\n",
    "# Have python read each word in the genres column and for each genre read change the corresponding column to 1"
   ]
  },
  {
   "cell_type": "code",
   "execution_count": 27,
   "metadata": {},
   "outputs": [
    {
     "name": "stdout",
     "output_type": "stream",
     "text": [
      "<class 'pandas.core.frame.DataFrame'>\n",
      "Int64Index: 2312 entries, 0 to 3814\n",
      "Data columns (total 34 columns):\n",
      "release_date         2312 non-null datetime64[ns]\n",
      "movie                2312 non-null object\n",
      "production_budget    2312 non-null int64\n",
      "domestic_gross       2312 non-null int64\n",
      "worldwide_gross      2312 non-null int64\n",
      "tconst               2312 non-null object\n",
      "runtime_minutes      2138 non-null float64\n",
      "genres               2312 non-null object\n",
      "directors            2284 non-null object\n",
      "profit_margin        2312 non-null float64\n",
      "Month                2312 non-null object\n",
      "Horror               2312 non-null float64\n",
      "Action               2312 non-null float64\n",
      "Adventure            2312 non-null float64\n",
      "Fantasy              2312 non-null float64\n",
      "Sci-Fi               2312 non-null float64\n",
      "Thriller             2312 non-null float64\n",
      "Western              2312 non-null float64\n",
      "Animation            2312 non-null float64\n",
      "Comedy               2312 non-null float64\n",
      "Family               2312 non-null float64\n",
      "Crime                2312 non-null float64\n",
      "Drama                2312 non-null float64\n",
      "Romance              2312 non-null float64\n",
      "Mystery              2312 non-null float64\n",
      "O                    2312 non-null float64\n",
      "History              2312 non-null float64\n",
      "Sport                2312 non-null float64\n",
      "Biography            2312 non-null float64\n",
      "Documentary          2312 non-null float64\n",
      "War                  2312 non-null float64\n",
      "Musical              2312 non-null float64\n",
      "Music                2312 non-null float64\n",
      "News                 2312 non-null float64\n",
      "dtypes: datetime64[ns](1), float64(25), int64(3), object(5)\n",
      "memory usage: 712.2+ KB\n"
     ]
    }
   ],
   "source": [
    "df.info()\n",
    "# check that columns made and correctly output"
   ]
  },
  {
   "cell_type": "code",
   "execution_count": 28,
   "metadata": {},
   "outputs": [],
   "source": [
    "df.drop(df[df['worldwide_gross'] == 0]. index, inplace=True)\n",
    "# drop any rows that do not have worldwide-gross"
   ]
  },
  {
   "cell_type": "code",
   "execution_count": 29,
   "metadata": {},
   "outputs": [
    {
     "data": {
      "text/html": [
       "<div>\n",
       "<style scoped>\n",
       "    .dataframe tbody tr th:only-of-type {\n",
       "        vertical-align: middle;\n",
       "    }\n",
       "\n",
       "    .dataframe tbody tr th {\n",
       "        vertical-align: top;\n",
       "    }\n",
       "\n",
       "    .dataframe thead th {\n",
       "        text-align: right;\n",
       "    }\n",
       "</style>\n",
       "<table border=\"1\" class=\"dataframe\">\n",
       "  <thead>\n",
       "    <tr style=\"text-align: right;\">\n",
       "      <th></th>\n",
       "      <th>release_date</th>\n",
       "      <th>movie</th>\n",
       "      <th>production_budget</th>\n",
       "      <th>domestic_gross</th>\n",
       "      <th>worldwide_gross</th>\n",
       "      <th>tconst</th>\n",
       "      <th>runtime_minutes</th>\n",
       "      <th>genres</th>\n",
       "      <th>directors</th>\n",
       "      <th>profit_margin</th>\n",
       "      <th>...</th>\n",
       "      <th>Mystery</th>\n",
       "      <th>O</th>\n",
       "      <th>History</th>\n",
       "      <th>Sport</th>\n",
       "      <th>Biography</th>\n",
       "      <th>Documentary</th>\n",
       "      <th>War</th>\n",
       "      <th>Musical</th>\n",
       "      <th>Music</th>\n",
       "      <th>News</th>\n",
       "    </tr>\n",
       "  </thead>\n",
       "  <tbody>\n",
       "    <tr>\n",
       "      <th>0</th>\n",
       "      <td>2009-12-18</td>\n",
       "      <td>Avatar</td>\n",
       "      <td>425000000</td>\n",
       "      <td>760507625</td>\n",
       "      <td>2776345279</td>\n",
       "      <td>tt1775309</td>\n",
       "      <td>93.0</td>\n",
       "      <td>[Horror]</td>\n",
       "      <td>nm3786927</td>\n",
       "      <td>84.692106</td>\n",
       "      <td>...</td>\n",
       "      <td>0.0</td>\n",
       "      <td>0.0</td>\n",
       "      <td>0.0</td>\n",
       "      <td>0.0</td>\n",
       "      <td>0.0</td>\n",
       "      <td>0.0</td>\n",
       "      <td>0.0</td>\n",
       "      <td>0.0</td>\n",
       "      <td>0.0</td>\n",
       "      <td>0.0</td>\n",
       "    </tr>\n",
       "    <tr>\n",
       "      <th>1</th>\n",
       "      <td>2011-05-20</td>\n",
       "      <td>Pirates of the Caribbean: On Stranger Tides</td>\n",
       "      <td>410600000</td>\n",
       "      <td>241063875</td>\n",
       "      <td>1045663875</td>\n",
       "      <td>tt1298650</td>\n",
       "      <td>136.0</td>\n",
       "      <td>[Action, Adventure, Fantasy]</td>\n",
       "      <td>nm0551128</td>\n",
       "      <td>60.733080</td>\n",
       "      <td>...</td>\n",
       "      <td>0.0</td>\n",
       "      <td>0.0</td>\n",
       "      <td>0.0</td>\n",
       "      <td>0.0</td>\n",
       "      <td>0.0</td>\n",
       "      <td>0.0</td>\n",
       "      <td>0.0</td>\n",
       "      <td>0.0</td>\n",
       "      <td>0.0</td>\n",
       "      <td>0.0</td>\n",
       "    </tr>\n",
       "  </tbody>\n",
       "</table>\n",
       "<p>2 rows × 34 columns</p>\n",
       "</div>"
      ],
      "text/plain": [
       "  release_date                                        movie  \\\n",
       "0   2009-12-18                                       Avatar   \n",
       "1   2011-05-20  Pirates of the Caribbean: On Stranger Tides   \n",
       "\n",
       "   production_budget  domestic_gross  worldwide_gross     tconst  \\\n",
       "0          425000000       760507625       2776345279  tt1775309   \n",
       "1          410600000       241063875       1045663875  tt1298650   \n",
       "\n",
       "   runtime_minutes                        genres  directors  profit_margin  \\\n",
       "0             93.0                      [Horror]  nm3786927      84.692106   \n",
       "1            136.0  [Action, Adventure, Fantasy]  nm0551128      60.733080   \n",
       "\n",
       "   ... Mystery    O  History  Sport  Biography  Documentary  War  Musical  \\\n",
       "0  ...     0.0  0.0      0.0    0.0        0.0          0.0  0.0      0.0   \n",
       "1  ...     0.0  0.0      0.0    0.0        0.0          0.0  0.0      0.0   \n",
       "\n",
       "   Music  News  \n",
       "0    0.0   0.0  \n",
       "1    0.0   0.0  \n",
       "\n",
       "[2 rows x 34 columns]"
      ]
     },
     "execution_count": 29,
     "metadata": {},
     "output_type": "execute_result"
    }
   ],
   "source": [
    "df.head(2)\n",
    "# check everything"
   ]
  },
  {
   "cell_type": "markdown",
   "metadata": {},
   "source": [
    "                                                   .\n",
    "                                                   .\n",
    "                                                   . \n",
    "                                                   .\n",
    "                                                   .\n",
    "                                                   .\n",
    "                                                   .\n",
    "                                                   .\n",
    "                                                   .\n",
    "                                CREATE GROUPBY WITH CLEAN DATAFRAMES\n",
    "                                                   .\n",
    "                                                   .\n",
    "                                                   . \n",
    "                                                   .\n",
    "                                                   .\n",
    "                                                   .\n",
    "                                                   .\n",
    "                                                   .\n",
    "                                                   ."
   ]
  },
  {
   "cell_type": "code",
   "execution_count": 30,
   "metadata": {},
   "outputs": [],
   "source": [
    "directors_df = df.groupby(['directors']).mean()\n",
    "# created a table based on the directors and average values"
   ]
  },
  {
   "cell_type": "code",
   "execution_count": 31,
   "metadata": {},
   "outputs": [],
   "source": [
    "month_df = df.groupby(['Month']).mean()\n",
    "# created a table based on the months and average values"
   ]
  },
  {
   "cell_type": "code",
   "execution_count": 32,
   "metadata": {},
   "outputs": [
    {
     "data": {
      "text/html": [
       "<div>\n",
       "<style scoped>\n",
       "    .dataframe tbody tr th:only-of-type {\n",
       "        vertical-align: middle;\n",
       "    }\n",
       "\n",
       "    .dataframe tbody tr th {\n",
       "        vertical-align: top;\n",
       "    }\n",
       "\n",
       "    .dataframe thead th {\n",
       "        text-align: right;\n",
       "    }\n",
       "</style>\n",
       "<table border=\"1\" class=\"dataframe\">\n",
       "  <thead>\n",
       "    <tr style=\"text-align: right;\">\n",
       "      <th></th>\n",
       "      <th>release_date_x</th>\n",
       "      <th>movie</th>\n",
       "      <th>production_budget</th>\n",
       "      <th>domestic_gross</th>\n",
       "      <th>worldwide_gross</th>\n",
       "      <th>tconst</th>\n",
       "      <th>runtime_minutes</th>\n",
       "      <th>genres</th>\n",
       "      <th>directors</th>\n",
       "      <th>profit_margin</th>\n",
       "      <th>...</th>\n",
       "      <th>Sport</th>\n",
       "      <th>Biography</th>\n",
       "      <th>Documentary</th>\n",
       "      <th>War</th>\n",
       "      <th>Musical</th>\n",
       "      <th>Music</th>\n",
       "      <th>News</th>\n",
       "      <th>popularity</th>\n",
       "      <th>vote_average</th>\n",
       "      <th>vote_count</th>\n",
       "    </tr>\n",
       "  </thead>\n",
       "  <tbody>\n",
       "    <tr>\n",
       "      <th>0</th>\n",
       "      <td>2009-12-18</td>\n",
       "      <td>Avatar</td>\n",
       "      <td>425000000</td>\n",
       "      <td>760507625</td>\n",
       "      <td>2776345279</td>\n",
       "      <td>tt1775309</td>\n",
       "      <td>93.0</td>\n",
       "      <td>[Horror]</td>\n",
       "      <td>nm3786927</td>\n",
       "      <td>84.692106</td>\n",
       "      <td>...</td>\n",
       "      <td>0.0</td>\n",
       "      <td>0.0</td>\n",
       "      <td>0.0</td>\n",
       "      <td>0.0</td>\n",
       "      <td>0.0</td>\n",
       "      <td>0.0</td>\n",
       "      <td>0.0</td>\n",
       "      <td>26.526</td>\n",
       "      <td>7.4</td>\n",
       "      <td>18676.0</td>\n",
       "    </tr>\n",
       "    <tr>\n",
       "      <th>1</th>\n",
       "      <td>2011-05-20</td>\n",
       "      <td>Pirates of the Caribbean: On Stranger Tides</td>\n",
       "      <td>410600000</td>\n",
       "      <td>241063875</td>\n",
       "      <td>1045663875</td>\n",
       "      <td>tt1298650</td>\n",
       "      <td>136.0</td>\n",
       "      <td>[Action, Adventure, Fantasy]</td>\n",
       "      <td>nm0551128</td>\n",
       "      <td>60.733080</td>\n",
       "      <td>...</td>\n",
       "      <td>0.0</td>\n",
       "      <td>0.0</td>\n",
       "      <td>0.0</td>\n",
       "      <td>0.0</td>\n",
       "      <td>0.0</td>\n",
       "      <td>0.0</td>\n",
       "      <td>0.0</td>\n",
       "      <td>30.579</td>\n",
       "      <td>6.4</td>\n",
       "      <td>8571.0</td>\n",
       "    </tr>\n",
       "  </tbody>\n",
       "</table>\n",
       "<p>2 rows × 37 columns</p>\n",
       "</div>"
      ],
      "text/plain": [
       "  release_date_x                                        movie  \\\n",
       "0     2009-12-18                                       Avatar   \n",
       "1     2011-05-20  Pirates of the Caribbean: On Stranger Tides   \n",
       "\n",
       "   production_budget  domestic_gross  worldwide_gross     tconst  \\\n",
       "0          425000000       760507625       2776345279  tt1775309   \n",
       "1          410600000       241063875       1045663875  tt1298650   \n",
       "\n",
       "   runtime_minutes                        genres  directors  profit_margin  \\\n",
       "0             93.0                      [Horror]  nm3786927      84.692106   \n",
       "1            136.0  [Action, Adventure, Fantasy]  nm0551128      60.733080   \n",
       "\n",
       "   ... Sport  Biography  Documentary  War  Musical  Music  News  popularity  \\\n",
       "0  ...   0.0        0.0          0.0  0.0      0.0    0.0   0.0      26.526   \n",
       "1  ...   0.0        0.0          0.0  0.0      0.0    0.0   0.0      30.579   \n",
       "\n",
       "   vote_average  vote_count  \n",
       "0           7.4     18676.0  \n",
       "1           6.4      8571.0  \n",
       "\n",
       "[2 rows x 37 columns]"
      ]
     },
     "execution_count": 32,
     "metadata": {},
     "output_type": "execute_result"
    }
   ],
   "source": [
    "vote_df = df.merge(files_dict['tmdb_movies'], left_on='movie', right_on='original_title', how='left')\n",
    "vote_df.drop(['Unnamed: 0', 'genre_ids', 'id', 'original_language', 'original_title', 'title', 'release_date_y'], axis=1, inplace=True)\n",
    "vote_df.drop_duplicates(subset='movie', inplace=True)\n",
    "vote_df.head(2)\n",
    "# create a NEW table with voting added"
   ]
  },
  {
   "cell_type": "code",
   "execution_count": 33,
   "metadata": {},
   "outputs": [],
   "source": [
    "top_movie_profit = vote_df.groupby(['movie']).mean()['profit_margin'].sort_values( ascending=False)[:10]\n",
    "# top movies profit margin"
   ]
  },
  {
   "cell_type": "markdown",
   "metadata": {},
   "source": [
    "                                                   .\n",
    "                                                   .\n",
    "                                                   . \n",
    "                                                   .\n",
    "                                                   .\n",
    "                                                   .\n",
    "                                                   .\n",
    "                                                   .\n",
    "                                                   .\n",
    "                                CREATE GROUPBY WITH CLEAN GRAPHS\n",
    "                                                   .\n",
    "                                                   .\n",
    "                                                   . \n",
    "                                                   .\n",
    "                                                   .\n",
    "                                                   .\n",
    "                                                   .\n",
    "                                                   .\n",
    "                                                   ."
   ]
  },
  {
   "cell_type": "code",
   "execution_count": 34,
   "metadata": {},
   "outputs": [
    {
     "data": {
      "image/png": "[encoded data removed]",
      "text/plain": [
       "<Figure size 936x576 with 1 Axes>"
      ]
     },
     "metadata": {
      "needs_background": "light"
     },
     "output_type": "display_data"
    }
   ],
   "source": [
    "top_movie_profit.plot(kind='barh', figsize=(13,8))\n",
    "plt.title('Top 10 Most Profitable Movies')\n",
    "plt.xlabel('Progit Margin %')\n",
    "plt.ylabel('Movies')\n",
    "plt.show()"
   ]
  },
  {
   "cell_type": "code",
   "execution_count": 35,
   "metadata": {},
   "outputs": [],
   "source": [
    "director_profit_df = df.groupby('directors')['profit_margin'].mean()\n",
    "# directors highest profit margin"
   ]
  },
  {
   "cell_type": "code",
   "execution_count": 36,
   "metadata": {},
   "outputs": [
    {
     "data": {
      "text/plain": [
       "directors\n",
       "nm4000389    99.759941\n",
       "nm0509852    99.679851\n",
       "nm1126847    99.555556\n",
       "nm8856734    99.195352\n",
       "nm0068587    99.017291\n",
       "Name: profit_margin, dtype: float64"
      ]
     },
     "execution_count": 36,
     "metadata": {},
     "output_type": "execute_result"
    }
   ],
   "source": [
    "dir_top_20 = director_profit_df.sort_values(ascending=False)[:20]\n",
    "dir_top_20.head(5)"
   ]
  },
  {
   "cell_type": "code",
   "execution_count": 37,
   "metadata": {},
   "outputs": [
    {
     "data": {
      "image/png": "[encoded data removed]",
      "text/plain": [
       "<Figure size 936x576 with 1 Axes>"
      ]
     },
     "metadata": {
      "needs_background": "light"
     },
     "output_type": "display_data"
    }
   ],
   "source": [
    "dir_top_20.plot(kind='bar', figsize=(13,8))\n",
    "plt.title('Top 25 Most Profitable Directors')\n",
    "plt.xlabel('Directors')\n",
    "plt.ylabel('Margin Profit %')\n",
    "plt.legend()\n",
    "plt.grid(True)\n",
    "\n",
    "plt.show()"
   ]
  },
  {
   "cell_type": "code",
   "execution_count": 38,
   "metadata": {},
   "outputs": [],
   "source": [
    "month_gross_df = df.groupby(['Month'])['worldwide_gross'].mean()\n",
    "# montly release date worldwide gross "
   ]
  },
  {
   "cell_type": "code",
   "execution_count": 39,
   "metadata": {},
   "outputs": [
    {
     "data": {
      "image/png": "[encoded data removed]",
      "text/plain": [
       "<Figure size 936x576 with 1 Axes>"
      ]
     },
     "metadata": {
      "needs_background": "light"
     },
     "output_type": "display_data"
    }
   ],
   "source": [
    "month_gross_df.plot(kind='line', figsize=(13, 8))\n",
    "plt.title('Worldwide Gross Profit by Release Months')\n",
    "plt.xlabel('Worldwide Gross Profit')\n",
    "plt.legend()\n",
    "plt.show()"
   ]
  },
  {
   "cell_type": "code",
   "execution_count": 40,
   "metadata": {},
   "outputs": [],
   "source": [
    "top_vote_v_count = vote_df.groupby('movie').max().sort_values(['vote_count', 'vote_average'], ascending=False)['vote_average'][:25]\n",
    "# top vote vs amount of count"
   ]
  },
  {
   "cell_type": "code",
   "execution_count": 41,
   "metadata": {},
   "outputs": [
    {
     "data": {
      "image/png": "[encoded data removed]",
      "text/plain": [
       "<Figure size 936x576 with 1 Axes>"
      ]
     },
     "metadata": {
      "needs_background": "light"
     },
     "output_type": "display_data"
    }
   ],
   "source": [
    "top_vote_v_count.plot(kind='bar', figsize=(13, 8))\n",
    "plt.title('Top 25 Movies With the Most & Best Review')\n",
    "plt.ylabel('Vote Average')\n",
    "plt.xlabel('Movies')\n",
    "plt.ylim([0,10])\n",
    "plt.show()"
   ]
  },
  {
   "cell_type": "code",
   "execution_count": null,
   "metadata": {},
   "outputs": [],
   "source": []
  },
  {
   "cell_type": "code",
   "execution_count": null,
   "metadata": {},
   "outputs": [],
   "source": []
  },
  {
   "cell_type": "code",
   "execution_count": null,
   "metadata": {},
   "outputs": [],
   "source": []
  }
 ],
 "metadata": {
  "kernelspec": {
   "display_name": "Python [conda env:learn-env] *",
   "language": "python",
   "name": "conda-env-learn-env-py"
  },
  "language_info": {
   "codemirror_mode": {
    "name": "ipython",
    "version": 3
   },
   "file_extension": ".py",
   "mimetype": "text/x-python",
   "name": "python",
   "nbconvert_exporter": "python",
   "pygments_lexer": "ipython3",
   "version": "3.6.9"
  }
 },
 "nbformat": 4,
 "nbformat_minor": 2
}
