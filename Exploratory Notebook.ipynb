{
 "cells": [
  {
   "cell_type": "markdown",
   "metadata": {},
   "source": [
    "Importing required libraries that will be used in project."
   ]
  },
  {
   "cell_type": "code",
   "execution_count": 3,
   "metadata": {},
   "outputs": [],
   "source": [
    "import numpy as np\n",
    "import pandas as pd\n",
    "import seaborn as sns\n",
    "\n",
    "import os\n",
    "import matplotlib.pyplot as plt\n",
    "%matplotlib inline\n",
    "\n",
    "from glob import glob\n",
    "import sqlite3\n",
    "import datetime"
   ]
  },
  {
   "cell_type": "markdown",
   "metadata": {},
   "source": [
    "# HOW TO DECOMPRESS ZIPPED DATA WITH gunzip\n",
    "        gunzip name.of.file.gz\n",
    "                OR\n",
    "        gunzip *       (decompressed all files in folder! MAGIC)"
   ]
  },
  {
   "cell_type": "code",
   "execution_count": 4,
   "metadata": {
    "scrolled": true
   },
   "outputs": [
    {
     "data": {
      "text/plain": [
       "['zippedData/tmdb.movies.csv',\n",
       " 'zippedData/imdb.title.crew.csv',\n",
       " 'zippedData/tn.movie_budgets.csv',\n",
       " 'zippedData/imdb.title.ratings.csv',\n",
       " 'zippedData/imdb.name.basics.csv',\n",
       " 'zippedData/imdb.title.principals.csv',\n",
       " 'zippedData/imdb.title.akas.csv',\n",
       " 'zippedData/bom.movie_gross.csv',\n",
       " 'zippedData/imdb.title.basics.csv']"
      ]
     },
     "execution_count": 4,
     "metadata": {},
     "output_type": "execute_result"
    }
   ],
   "source": [
    "csv_files = glob('zippedData/*.csv')\n",
    "csv_files"
   ]
  },
  {
   "cell_type": "markdown",
   "metadata": {},
   "source": [
    "RESULT : a list of file names decompressed; note - files are both CSV & TSV\n"
   ]
  },
  {
   "cell_type": "code",
   "execution_count": 5,
   "metadata": {},
   "outputs": [],
   "source": [
    "files_dict = {}\n",
    "for file in csv_files:\n",
    "    file_cleaned = os.path.basename(file).replace(\".csv\", \"\").replace(\".\", \"_\")\n",
    "    file_df = pd.read_csv(file)\n",
    "    files_dict[file_cleaned] = file_df\n"
   ]
  },
  {
   "cell_type": "markdown",
   "metadata": {},
   "source": [
    "1. Created an empt dictionary <br>\n",
    "2. In each file in the list of file <br>\n",
    "<t> a. clean the name of the file (ie; no '.' no 'zippedData/' etc) <br>\n",
    "3. Add each clean named dictionary = to the pandas datafram of the data\n"
   ]
  },
  {
   "cell_type": "code",
   "execution_count": 6,
   "metadata": {
    "scrolled": false
   },
   "outputs": [
    {
     "data": {
      "text/plain": [
       "dict_keys(['tmdb_movies', 'imdb_title_crew', 'tn_movie_budgets', 'imdb_title_ratings', 'imdb_name_basics', 'imdb_title_principals', 'imdb_title_akas', 'bom_movie_gross', 'imdb_title_basics'])"
      ]
     },
     "execution_count": 6,
     "metadata": {},
     "output_type": "execute_result"
    }
   ],
   "source": [
    "files_dict.keys()"
   ]
  },
  {
   "cell_type": "code",
   "execution_count": 7,
   "metadata": {},
   "outputs": [],
   "source": [
    "pd.set_option('display.max_columns', 500)\n",
    "pd.set_option('display.max_rows', 500)"
   ]
  },
  {
   "cell_type": "markdown",
   "metadata": {},
   "source": [
    "                                                SEE ALL DF   \n",
    "                Shows all the dataframes in the dictornary to call (in pd.Df format) THE KEYS"
   ]
  },
  {
   "cell_type": "code",
   "execution_count": 8,
   "metadata": {},
   "outputs": [
    {
     "data": {
      "text/plain": [
       "[       Unnamed: 0            genre_ids      id original_language  \\\n",
       " 0               0      [12, 14, 10751]   12444                en   \n",
       " 1               1  [14, 12, 16, 10751]   10191                en   \n",
       " 2               2        [12, 28, 878]   10138                en   \n",
       " 3               3      [16, 35, 10751]     862                en   \n",
       " 4               4        [28, 878, 12]   27205                en   \n",
       " ...           ...                  ...     ...               ...   \n",
       " 26512       26512             [27, 18]  488143                en   \n",
       " 26513       26513             [18, 53]  485975                en   \n",
       " 26514       26514         [14, 28, 12]  381231                en   \n",
       " 26515       26515      [10751, 12, 28]  366854                en   \n",
       " 26516       26516             [53, 27]  309885                en   \n",
       " \n",
       "                                      original_title  popularity release_date  \\\n",
       " 0      Harry Potter and the Deathly Hallows: Part 1      33.533   2010-11-19   \n",
       " 1                          How to Train Your Dragon      28.734   2010-03-26   \n",
       " 2                                        Iron Man 2      28.515   2010-05-07   \n",
       " 3                                         Toy Story      28.005   1995-11-22   \n",
       " 4                                         Inception      27.920   2010-07-16   \n",
       " ...                                             ...         ...          ...   \n",
       " 26512                         Laboratory Conditions       0.600   2018-10-13   \n",
       " 26513                               _EXHIBIT_84xxx_       0.600   2018-05-01   \n",
       " 26514                                  The Last One       0.600   2018-10-01   \n",
       " 26515                                  Trailer Made       0.600   2018-06-22   \n",
       " 26516                                    The Church       0.600   2018-10-05   \n",
       " \n",
       "                                               title  vote_average  vote_count  \n",
       " 0      Harry Potter and the Deathly Hallows: Part 1           7.7       10788  \n",
       " 1                          How to Train Your Dragon           7.7        7610  \n",
       " 2                                        Iron Man 2           6.8       12368  \n",
       " 3                                         Toy Story           7.9       10174  \n",
       " 4                                         Inception           8.3       22186  \n",
       " ...                                             ...           ...         ...  \n",
       " 26512                         Laboratory Conditions           0.0           1  \n",
       " 26513                               _EXHIBIT_84xxx_           0.0           1  \n",
       " 26514                                  The Last One           0.0           1  \n",
       " 26515                                  Trailer Made           0.0           1  \n",
       " 26516                                    The Church           0.0           1  \n",
       " \n",
       " [26517 rows x 10 columns],\n",
       "            tconst                      directors              writers\n",
       " 0       tt0285252                      nm0899854            nm0899854\n",
       " 1       tt0438973                            NaN  nm0175726,nm1802864\n",
       " 2       tt0462036                      nm1940585            nm1940585\n",
       " 3       tt0835418                      nm0151540  nm0310087,nm0841532\n",
       " 4       tt0878654  nm0089502,nm2291498,nm2292011            nm0284943\n",
       " ...           ...                            ...                  ...\n",
       " 146139  tt8999974                     nm10122357           nm10122357\n",
       " 146140  tt9001390                      nm6711477            nm6711477\n",
       " 146141  tt9001494          nm10123242,nm10123248                  NaN\n",
       " 146142  tt9004986                      nm4993825            nm4993825\n",
       " 146143  tt9010172                            NaN            nm8352242\n",
       " \n",
       " [146144 rows x 3 columns],\n",
       "       id  release_date                                        movie  \\\n",
       " 0      1  Dec 18, 2009                                       Avatar   \n",
       " 1      2  May 20, 2011  Pirates of the Caribbean: On Stranger Tides   \n",
       " 2      3   Jun 7, 2019                                 Dark Phoenix   \n",
       " 3      4   May 1, 2015                      Avengers: Age of Ultron   \n",
       " 4      5  Dec 15, 2017            Star Wars Ep. VIII: The Last Jedi   \n",
       " ...   ..           ...                                          ...   \n",
       " 5777  78  Dec 31, 2018                                       Red 11   \n",
       " 5778  79   Apr 2, 1999                                    Following   \n",
       " 5779  80  Jul 13, 2005                Return to the Land of Wonders   \n",
       " 5780  81  Sep 29, 2015                         A Plague So Pleasant   \n",
       " 5781  82   Aug 5, 2005                            My Date With Drew   \n",
       " \n",
       "      production_budget domestic_gross worldwide_gross  \n",
       " 0         $425,000,000   $760,507,625  $2,776,345,279  \n",
       " 1         $410,600,000   $241,063,875  $1,045,663,875  \n",
       " 2         $350,000,000    $42,762,350    $149,762,350  \n",
       " 3         $330,600,000   $459,005,868  $1,403,013,963  \n",
       " 4         $317,000,000   $620,181,382  $1,316,721,747  \n",
       " ...                ...            ...             ...  \n",
       " 5777            $7,000             $0              $0  \n",
       " 5778            $6,000        $48,482        $240,495  \n",
       " 5779            $5,000         $1,338          $1,338  \n",
       " 5780            $1,400             $0              $0  \n",
       " 5781            $1,100       $181,041        $181,041  \n",
       " \n",
       " [5782 rows x 6 columns],\n",
       "            tconst  averagerating  numvotes\n",
       " 0      tt10356526            8.3        31\n",
       " 1      tt10384606            8.9       559\n",
       " 2       tt1042974            6.4        20\n",
       " 3       tt1043726            4.2     50352\n",
       " 4       tt1060240            6.5        21\n",
       " ...           ...            ...       ...\n",
       " 73851   tt9805820            8.1        25\n",
       " 73852   tt9844256            7.5        24\n",
       " 73853   tt9851050            4.7        14\n",
       " 73854   tt9886934            7.0         5\n",
       " 73855   tt9894098            6.3       128\n",
       " \n",
       " [73856 rows x 3 columns],\n",
       "            nconst         primary_name  birth_year  death_year  \\\n",
       " 0       nm0061671    Mary Ellen Bauder         NaN         NaN   \n",
       " 1       nm0061865         Joseph Bauer         NaN         NaN   \n",
       " 2       nm0062070           Bruce Baum         NaN         NaN   \n",
       " 3       nm0062195         Axel Baumann         NaN         NaN   \n",
       " 4       nm0062798          Pete Baxter         NaN         NaN   \n",
       " ...           ...                  ...         ...         ...   \n",
       " 606643  nm9990381         Susan Grobes         NaN         NaN   \n",
       " 606644  nm9990690          Joo Yeon So         NaN         NaN   \n",
       " 606645  nm9991320       Madeline Smith         NaN         NaN   \n",
       " 606646  nm9991786  Michelle Modigliani         NaN         NaN   \n",
       " 606647  nm9993380       Pegasus Envoyé         NaN         NaN   \n",
       " \n",
       "                                       primary_profession  \\\n",
       " 0              miscellaneous,production_manager,producer   \n",
       " 1             composer,music_department,sound_department   \n",
       " 2                             miscellaneous,actor,writer   \n",
       " 3       camera_department,cinematographer,art_department   \n",
       " 4       production_designer,art_department,set_decorator   \n",
       " ...                                                  ...   \n",
       " 606643                                           actress   \n",
       " 606644                                           actress   \n",
       " 606645                                           actress   \n",
       " 606646                                          producer   \n",
       " 606647                             director,actor,writer   \n",
       " \n",
       "                                known_for_titles  \n",
       " 0       tt0837562,tt2398241,tt0844471,tt0118553  \n",
       " 1       tt0896534,tt6791238,tt0287072,tt1682940  \n",
       " 2       tt1470654,tt0363631,tt0104030,tt0102898  \n",
       " 3       tt0114371,tt2004304,tt1618448,tt1224387  \n",
       " 4       tt0452644,tt0452692,tt3458030,tt2178256  \n",
       " ...                                         ...  \n",
       " 606643                                      NaN  \n",
       " 606644                      tt9090932,tt8737130  \n",
       " 606645                      tt8734436,tt9615610  \n",
       " 606646                                      NaN  \n",
       " 606647                                tt8743182  \n",
       " \n",
       " [606648 rows x 6 columns],\n",
       "             tconst  ordering      nconst  category       job  \\\n",
       " 0        tt0111414         1   nm0246005     actor       NaN   \n",
       " 1        tt0111414         2   nm0398271  director       NaN   \n",
       " 2        tt0111414         3   nm3739909  producer  producer   \n",
       " 3        tt0323808        10   nm0059247    editor       NaN   \n",
       " 4        tt0323808         1   nm3579312   actress       NaN   \n",
       " ...            ...       ...         ...       ...       ...   \n",
       " 1028181  tt9692684         1   nm0186469     actor       NaN   \n",
       " 1028182  tt9692684         2   nm4929530      self       NaN   \n",
       " 1028183  tt9692684         3  nm10441594  director       NaN   \n",
       " 1028184  tt9692684         4   nm6009913    writer    writer   \n",
       " 1028185  tt9692684         5  nm10441595  producer  producer   \n",
       " \n",
       "                    characters  \n",
       " 0                 [\"The Man\"]  \n",
       " 1                         NaN  \n",
       " 2                         NaN  \n",
       " 3                         NaN  \n",
       " 4            [\"Beth Boothby\"]  \n",
       " ...                       ...  \n",
       " 1028181  [\"Ebenezer Scrooge\"]  \n",
       " 1028182   [\"Herself\",\"Regan\"]  \n",
       " 1028183                   NaN  \n",
       " 1028184                   NaN  \n",
       " 1028185                   NaN  \n",
       " \n",
       " [1028186 rows x 6 columns],\n",
       "          title_id  ordering                                    title region  \\\n",
       " 0       tt0369610        10                            Джурасик свят     BG   \n",
       " 1       tt0369610        11                        Jurashikku warudo     JP   \n",
       " 2       tt0369610        12  Jurassic World: O Mundo dos Dinossauros     BR   \n",
       " 3       tt0369610        13                  O Mundo dos Dinossauros     BR   \n",
       " 4       tt0369610        14                           Jurassic World     FR   \n",
       " ...           ...       ...                                      ...    ...   \n",
       " 331698  tt9827784         2                       Sayonara kuchibiru    NaN   \n",
       " 331699  tt9827784         3                            Farewell Song    XWW   \n",
       " 331700  tt9880178         1                              La atención    NaN   \n",
       " 331701  tt9880178         2                              La atención     ES   \n",
       " 331702  tt9880178         3                            The Attention    XWW   \n",
       " \n",
       "        language        types   attributes  is_original_title  \n",
       " 0            bg          NaN          NaN                0.0  \n",
       " 1           NaN  imdbDisplay          NaN                0.0  \n",
       " 2           NaN  imdbDisplay          NaN                0.0  \n",
       " 3           NaN          NaN  short title                0.0  \n",
       " 4           NaN  imdbDisplay          NaN                0.0  \n",
       " ...         ...          ...          ...                ...  \n",
       " 331698      NaN     original          NaN                1.0  \n",
       " 331699       en  imdbDisplay          NaN                0.0  \n",
       " 331700      NaN     original          NaN                1.0  \n",
       " 331701      NaN          NaN          NaN                0.0  \n",
       " 331702       en  imdbDisplay          NaN                0.0  \n",
       " \n",
       " [331703 rows x 8 columns],\n",
       "                                             title      studio  domestic_gross  \\\n",
       " 0                                     Toy Story 3          BV     415000000.0   \n",
       " 1                      Alice in Wonderland (2010)          BV     334200000.0   \n",
       " 2     Harry Potter and the Deathly Hallows Part 1          WB     296000000.0   \n",
       " 3                                       Inception          WB     292600000.0   \n",
       " 4                             Shrek Forever After        P/DW     238700000.0   \n",
       " ...                                           ...         ...             ...   \n",
       " 3382                                    The Quake       Magn.          6200.0   \n",
       " 3383                  Edward II (2018 re-release)          FM          4800.0   \n",
       " 3384                                     El Pacto        Sony          2500.0   \n",
       " 3385                                     The Swan  Synergetic          2400.0   \n",
       " 3386                            An Actor Prepares       Grav.          1700.0   \n",
       " \n",
       "      foreign_gross  year  \n",
       " 0        652000000  2010  \n",
       " 1        691300000  2010  \n",
       " 2        664300000  2010  \n",
       " 3        535700000  2010  \n",
       " 4        513900000  2010  \n",
       " ...            ...   ...  \n",
       " 3382           NaN  2018  \n",
       " 3383           NaN  2018  \n",
       " 3384           NaN  2018  \n",
       " 3385           NaN  2018  \n",
       " 3386           NaN  2018  \n",
       " \n",
       " [3387 rows x 5 columns],\n",
       "            tconst                                primary_title  \\\n",
       " 0       tt0063540                                    Sunghursh   \n",
       " 1       tt0066787              One Day Before the Rainy Season   \n",
       " 2       tt0069049                   The Other Side of the Wind   \n",
       " 3       tt0069204                              Sabse Bada Sukh   \n",
       " 4       tt0100275                     The Wandering Soap Opera   \n",
       " ...           ...                                          ...   \n",
       " 146139  tt9916538                          Kuambil Lagi Hatiku   \n",
       " 146140  tt9916622  Rodolpho Teóphilo - O Legado de um Pioneiro   \n",
       " 146141  tt9916706                              Dankyavar Danka   \n",
       " 146142  tt9916730                                       6 Gunn   \n",
       " 146143  tt9916754               Chico Albuquerque - Revelações   \n",
       " \n",
       "                                      original_title  start_year  \\\n",
       " 0                                         Sunghursh        2013   \n",
       " 1                                   Ashad Ka Ek Din        2019   \n",
       " 2                        The Other Side of the Wind        2018   \n",
       " 3                                   Sabse Bada Sukh        2018   \n",
       " 4                             La Telenovela Errante        2017   \n",
       " ...                                             ...         ...   \n",
       " 146139                          Kuambil Lagi Hatiku        2019   \n",
       " 146140  Rodolpho Teóphilo - O Legado de um Pioneiro        2015   \n",
       " 146141                              Dankyavar Danka        2013   \n",
       " 146142                                       6 Gunn        2017   \n",
       " 146143               Chico Albuquerque - Revelações        2013   \n",
       " \n",
       "         runtime_minutes                genres  \n",
       " 0                 175.0    Action,Crime,Drama  \n",
       " 1                 114.0       Biography,Drama  \n",
       " 2                 122.0                 Drama  \n",
       " 3                   NaN          Comedy,Drama  \n",
       " 4                  80.0  Comedy,Drama,Fantasy  \n",
       " ...                 ...                   ...  \n",
       " 146139            123.0                 Drama  \n",
       " 146140              NaN           Documentary  \n",
       " 146141              NaN                Comedy  \n",
       " 146142            116.0                   NaN  \n",
       " 146143              NaN           Documentary  \n",
       " \n",
       " [146144 rows x 6 columns]]"
      ]
     },
     "execution_count": 8,
     "metadata": {},
     "output_type": "execute_result"
    }
   ],
   "source": [
    "list(files_dict.values())"
   ]
  },
  {
   "cell_type": "code",
   "execution_count": 9,
   "metadata": {
    "scrolled": false
   },
   "outputs": [
    {
     "name": "stdout",
     "output_type": "stream",
     "text": [
      "<class 'pandas.core.frame.DataFrame'>\n",
      "RangeIndex: 26517 entries, 0 to 26516\n",
      "Data columns (total 10 columns):\n",
      "Unnamed: 0           26517 non-null int64\n",
      "genre_ids            26517 non-null object\n",
      "id                   26517 non-null int64\n",
      "original_language    26517 non-null object\n",
      "original_title       26517 non-null object\n",
      "popularity           26517 non-null float64\n",
      "release_date         26517 non-null object\n",
      "title                26517 non-null object\n",
      "vote_average         26517 non-null float64\n",
      "vote_count           26517 non-null int64\n",
      "dtypes: float64(2), int64(3), object(5)\n",
      "memory usage: 2.0+ MB\n"
     ]
    }
   ],
   "source": [
    "files_dict['tmdb_movies'].info()"
   ]
  },
  {
   "cell_type": "code",
   "execution_count": 10,
   "metadata": {},
   "outputs": [
    {
     "name": "stdout",
     "output_type": "stream",
     "text": [
      "<class 'pandas.core.frame.DataFrame'>\n",
      "RangeIndex: 5782 entries, 0 to 5781\n",
      "Data columns (total 6 columns):\n",
      "id                   5782 non-null int64\n",
      "release_date         5782 non-null object\n",
      "movie                5782 non-null object\n",
      "production_budget    5782 non-null object\n",
      "domestic_gross       5782 non-null object\n",
      "worldwide_gross      5782 non-null object\n",
      "dtypes: int64(1), object(5)\n",
      "memory usage: 271.2+ KB\n"
     ]
    }
   ],
   "source": [
    "files_dict['tn_movie_budgets'].info()"
   ]
  },
  {
   "cell_type": "code",
   "execution_count": 11,
   "metadata": {},
   "outputs": [
    {
     "name": "stdout",
     "output_type": "stream",
     "text": [
      "<class 'pandas.core.frame.DataFrame'>\n",
      "RangeIndex: 3387 entries, 0 to 3386\n",
      "Data columns (total 5 columns):\n",
      "title             3387 non-null object\n",
      "studio            3382 non-null object\n",
      "domestic_gross    3359 non-null float64\n",
      "foreign_gross     2037 non-null object\n",
      "year              3387 non-null int64\n",
      "dtypes: float64(1), int64(1), object(3)\n",
      "memory usage: 132.4+ KB\n"
     ]
    }
   ],
   "source": [
    "files_dict['bom_movie_gross'].info()"
   ]
  },
  {
   "cell_type": "code",
   "execution_count": 12,
   "metadata": {},
   "outputs": [
    {
     "name": "stdout",
     "output_type": "stream",
     "text": [
      "<class 'pandas.core.frame.DataFrame'>\n",
      "RangeIndex: 146144 entries, 0 to 146143\n",
      "Data columns (total 3 columns):\n",
      "tconst       146144 non-null object\n",
      "directors    140417 non-null object\n",
      "writers      110261 non-null object\n",
      "dtypes: object(3)\n",
      "memory usage: 3.3+ MB\n"
     ]
    }
   ],
   "source": [
    "files_dict['imdb_title_crew'].info()"
   ]
  },
  {
   "cell_type": "code",
   "execution_count": 13,
   "metadata": {},
   "outputs": [
    {
     "name": "stdout",
     "output_type": "stream",
     "text": [
      "<class 'pandas.core.frame.DataFrame'>\n",
      "RangeIndex: 73856 entries, 0 to 73855\n",
      "Data columns (total 3 columns):\n",
      "tconst           73856 non-null object\n",
      "averagerating    73856 non-null float64\n",
      "numvotes         73856 non-null int64\n",
      "dtypes: float64(1), int64(1), object(1)\n",
      "memory usage: 1.7+ MB\n"
     ]
    }
   ],
   "source": [
    "files_dict['imdb_title_ratings'].info()"
   ]
  },
  {
   "cell_type": "code",
   "execution_count": 14,
   "metadata": {
    "scrolled": true
   },
   "outputs": [
    {
     "name": "stdout",
     "output_type": "stream",
     "text": [
      "<class 'pandas.core.frame.DataFrame'>\n",
      "RangeIndex: 606648 entries, 0 to 606647\n",
      "Data columns (total 6 columns):\n",
      "nconst                606648 non-null object\n",
      "primary_name          606648 non-null object\n",
      "birth_year            82736 non-null float64\n",
      "death_year            6783 non-null float64\n",
      "primary_profession    555308 non-null object\n",
      "known_for_titles      576444 non-null object\n",
      "dtypes: float64(2), object(4)\n",
      "memory usage: 27.8+ MB\n"
     ]
    }
   ],
   "source": [
    "files_dict['imdb_name_basics'].info()"
   ]
  },
  {
   "cell_type": "code",
   "execution_count": 15,
   "metadata": {},
   "outputs": [
    {
     "name": "stdout",
     "output_type": "stream",
     "text": [
      "<class 'pandas.core.frame.DataFrame'>\n",
      "RangeIndex: 1028186 entries, 0 to 1028185\n",
      "Data columns (total 6 columns):\n",
      "tconst        1028186 non-null object\n",
      "ordering      1028186 non-null int64\n",
      "nconst        1028186 non-null object\n",
      "category      1028186 non-null object\n",
      "job           177684 non-null object\n",
      "characters    393360 non-null object\n",
      "dtypes: int64(1), object(5)\n",
      "memory usage: 47.1+ MB\n"
     ]
    }
   ],
   "source": [
    "files_dict['imdb_title_principals'].info()"
   ]
  },
  {
   "cell_type": "code",
   "execution_count": 16,
   "metadata": {},
   "outputs": [
    {
     "name": "stdout",
     "output_type": "stream",
     "text": [
      "<class 'pandas.core.frame.DataFrame'>\n",
      "RangeIndex: 331703 entries, 0 to 331702\n",
      "Data columns (total 8 columns):\n",
      "title_id             331703 non-null object\n",
      "ordering             331703 non-null int64\n",
      "title                331703 non-null object\n",
      "region               278410 non-null object\n",
      "language             41715 non-null object\n",
      "types                168447 non-null object\n",
      "attributes           14925 non-null object\n",
      "is_original_title    331678 non-null float64\n",
      "dtypes: float64(1), int64(1), object(6)\n",
      "memory usage: 20.2+ MB\n"
     ]
    }
   ],
   "source": [
    "files_dict['imdb_title_akas'].info()"
   ]
  },
  {
   "cell_type": "code",
   "execution_count": 17,
   "metadata": {},
   "outputs": [
    {
     "name": "stdout",
     "output_type": "stream",
     "text": [
      "<class 'pandas.core.frame.DataFrame'>\n",
      "RangeIndex: 146144 entries, 0 to 146143\n",
      "Data columns (total 6 columns):\n",
      "tconst             146144 non-null object\n",
      "primary_title      146144 non-null object\n",
      "original_title     146123 non-null object\n",
      "start_year         146144 non-null int64\n",
      "runtime_minutes    114405 non-null float64\n",
      "genres             140736 non-null object\n",
      "dtypes: float64(1), int64(1), object(4)\n",
      "memory usage: 6.7+ MB\n"
     ]
    }
   ],
   "source": [
    "files_dict['imdb_title_basics'].info()"
   ]
  },
  {
   "cell_type": "code",
   "execution_count": null,
   "metadata": {},
   "outputs": [],
   "source": []
  },
  {
   "cell_type": "code",
   "execution_count": null,
   "metadata": {},
   "outputs": [],
   "source": []
  },
  {
   "cell_type": "code",
   "execution_count": null,
   "metadata": {},
   "outputs": [],
   "source": []
  },
  {
   "cell_type": "code",
   "execution_count": null,
   "metadata": {},
   "outputs": [],
   "source": []
  },
  {
   "cell_type": "code",
   "execution_count": 18,
   "metadata": {
    "scrolled": true
   },
   "outputs": [
    {
     "name": "stdout",
     "output_type": "stream",
     "text": [
      "<class 'pandas.core.frame.DataFrame'>\n",
      "Int64Index: 3815 entries, 0 to 3814\n",
      "Data columns (total 12 columns):\n",
      "id                   3815 non-null int64\n",
      "release_date         3815 non-null object\n",
      "movie                3815 non-null object\n",
      "production_budget    3815 non-null object\n",
      "domestic_gross       3815 non-null object\n",
      "worldwide_gross      3815 non-null object\n",
      "tconst               3815 non-null object\n",
      "primary_title        3815 non-null object\n",
      "original_title       3814 non-null object\n",
      "start_year           3815 non-null int64\n",
      "runtime_minutes      3328 non-null float64\n",
      "genres               3743 non-null object\n",
      "dtypes: float64(1), int64(2), object(9)\n",
      "memory usage: 387.5+ KB\n"
     ]
    }
   ],
   "source": [
    "df1 = files_dict['tn_movie_budgets'].merge(files_dict['imdb_title_basics'], how='inner', left_on='movie', right_on='primary_title' )\n",
    "df1.info()"
   ]
  },
  {
   "cell_type": "code",
   "execution_count": 19,
   "metadata": {
    "scrolled": true
   },
   "outputs": [
    {
     "name": "stdout",
     "output_type": "stream",
     "text": [
      "<class 'pandas.core.frame.DataFrame'>\n",
      "Int64Index: 3815 entries, 0 to 3814\n",
      "Data columns (total 14 columns):\n",
      "id                   3815 non-null int64\n",
      "release_date         3815 non-null object\n",
      "movie                3815 non-null object\n",
      "production_budget    3815 non-null object\n",
      "domestic_gross       3815 non-null object\n",
      "worldwide_gross      3815 non-null object\n",
      "tconst               3815 non-null object\n",
      "primary_title        3815 non-null object\n",
      "original_title       3814 non-null object\n",
      "start_year           3815 non-null int64\n",
      "runtime_minutes      3328 non-null float64\n",
      "genres               3743 non-null object\n",
      "directors            3727 non-null object\n",
      "writers              3351 non-null object\n",
      "dtypes: float64(1), int64(2), object(11)\n",
      "memory usage: 447.1+ KB\n"
     ]
    }
   ],
   "source": [
    "df = df1.merge(files_dict['imdb_title_crew'], how='inner', left_on='tconst', right_on='tconst')\n",
    "df.head()\n",
    "df.info()"
   ]
  },
  {
   "cell_type": "code",
   "execution_count": 20,
   "metadata": {},
   "outputs": [],
   "source": [
    "df.drop(['writers', 'start_year', 'original_title', 'primary_title', 'id'], axis=1, inplace=True)"
   ]
  },
  {
   "cell_type": "code",
   "execution_count": 21,
   "metadata": {
    "scrolled": true
   },
   "outputs": [
    {
     "data": {
      "text/html": [
       "<div>\n",
       "<style scoped>\n",
       "    .dataframe tbody tr th:only-of-type {\n",
       "        vertical-align: middle;\n",
       "    }\n",
       "\n",
       "    .dataframe tbody tr th {\n",
       "        vertical-align: top;\n",
       "    }\n",
       "\n",
       "    .dataframe thead th {\n",
       "        text-align: right;\n",
       "    }\n",
       "</style>\n",
       "<table border=\"1\" class=\"dataframe\">\n",
       "  <thead>\n",
       "    <tr style=\"text-align: right;\">\n",
       "      <th></th>\n",
       "      <th>release_date</th>\n",
       "      <th>movie</th>\n",
       "      <th>production_budget</th>\n",
       "      <th>domestic_gross</th>\n",
       "      <th>worldwide_gross</th>\n",
       "      <th>tconst</th>\n",
       "      <th>runtime_minutes</th>\n",
       "      <th>genres</th>\n",
       "      <th>directors</th>\n",
       "    </tr>\n",
       "  </thead>\n",
       "  <tbody>\n",
       "    <tr>\n",
       "      <th>0</th>\n",
       "      <td>Dec 18, 2009</td>\n",
       "      <td>Avatar</td>\n",
       "      <td>$425,000,000</td>\n",
       "      <td>$760,507,625</td>\n",
       "      <td>$2,776,345,279</td>\n",
       "      <td>tt1775309</td>\n",
       "      <td>93.0</td>\n",
       "      <td>Horror</td>\n",
       "      <td>nm3786927</td>\n",
       "    </tr>\n",
       "    <tr>\n",
       "      <th>1</th>\n",
       "      <td>May 20, 2011</td>\n",
       "      <td>Pirates of the Caribbean: On Stranger Tides</td>\n",
       "      <td>$410,600,000</td>\n",
       "      <td>$241,063,875</td>\n",
       "      <td>$1,045,663,875</td>\n",
       "      <td>tt1298650</td>\n",
       "      <td>136.0</td>\n",
       "      <td>Action,Adventure,Fantasy</td>\n",
       "      <td>nm0551128</td>\n",
       "    </tr>\n",
       "    <tr>\n",
       "      <th>2</th>\n",
       "      <td>Jun 7, 2019</td>\n",
       "      <td>Dark Phoenix</td>\n",
       "      <td>$350,000,000</td>\n",
       "      <td>$42,762,350</td>\n",
       "      <td>$149,762,350</td>\n",
       "      <td>tt6565702</td>\n",
       "      <td>113.0</td>\n",
       "      <td>Action,Adventure,Sci-Fi</td>\n",
       "      <td>nm1334526</td>\n",
       "    </tr>\n",
       "  </tbody>\n",
       "</table>\n",
       "</div>"
      ],
      "text/plain": [
       "   release_date                                        movie  \\\n",
       "0  Dec 18, 2009                                       Avatar   \n",
       "1  May 20, 2011  Pirates of the Caribbean: On Stranger Tides   \n",
       "2   Jun 7, 2019                                 Dark Phoenix   \n",
       "\n",
       "  production_budget domestic_gross worldwide_gross     tconst  \\\n",
       "0      $425,000,000   $760,507,625  $2,776,345,279  tt1775309   \n",
       "1      $410,600,000   $241,063,875  $1,045,663,875  tt1298650   \n",
       "2      $350,000,000    $42,762,350    $149,762,350  tt6565702   \n",
       "\n",
       "   runtime_minutes                    genres  directors  \n",
       "0             93.0                    Horror  nm3786927  \n",
       "1            136.0  Action,Adventure,Fantasy  nm0551128  \n",
       "2            113.0   Action,Adventure,Sci-Fi  nm1334526  "
      ]
     },
     "execution_count": 21,
     "metadata": {},
     "output_type": "execute_result"
    }
   ],
   "source": [
    "df.head(3)"
   ]
  },
  {
   "cell_type": "code",
   "execution_count": 22,
   "metadata": {},
   "outputs": [
    {
     "data": {
      "text/html": [
       "<div>\n",
       "<style scoped>\n",
       "    .dataframe tbody tr th:only-of-type {\n",
       "        vertical-align: middle;\n",
       "    }\n",
       "\n",
       "    .dataframe tbody tr th {\n",
       "        vertical-align: top;\n",
       "    }\n",
       "\n",
       "    .dataframe thead th {\n",
       "        text-align: right;\n",
       "    }\n",
       "</style>\n",
       "<table border=\"1\" class=\"dataframe\">\n",
       "  <thead>\n",
       "    <tr style=\"text-align: right;\">\n",
       "      <th></th>\n",
       "      <th>release_date</th>\n",
       "      <th>movie</th>\n",
       "      <th>production_budget</th>\n",
       "      <th>domestic_gross</th>\n",
       "      <th>worldwide_gross</th>\n",
       "      <th>tconst</th>\n",
       "      <th>runtime_minutes</th>\n",
       "      <th>genres</th>\n",
       "      <th>directors</th>\n",
       "    </tr>\n",
       "  </thead>\n",
       "  <tbody>\n",
       "    <tr>\n",
       "      <th>0</th>\n",
       "      <td>Dec 18, 2009</td>\n",
       "      <td>Avatar</td>\n",
       "      <td>425000000</td>\n",
       "      <td>760507625</td>\n",
       "      <td>2776345279</td>\n",
       "      <td>tt1775309</td>\n",
       "      <td>93.0</td>\n",
       "      <td>Horror</td>\n",
       "      <td>nm3786927</td>\n",
       "    </tr>\n",
       "    <tr>\n",
       "      <th>1</th>\n",
       "      <td>May 20, 2011</td>\n",
       "      <td>Pirates of the Caribbean: On Stranger Tides</td>\n",
       "      <td>410600000</td>\n",
       "      <td>241063875</td>\n",
       "      <td>1045663875</td>\n",
       "      <td>tt1298650</td>\n",
       "      <td>136.0</td>\n",
       "      <td>Action,Adventure,Fantasy</td>\n",
       "      <td>nm0551128</td>\n",
       "    </tr>\n",
       "  </tbody>\n",
       "</table>\n",
       "</div>"
      ],
      "text/plain": [
       "   release_date                                        movie  \\\n",
       "0  Dec 18, 2009                                       Avatar   \n",
       "1  May 20, 2011  Pirates of the Caribbean: On Stranger Tides   \n",
       "\n",
       "  production_budget domestic_gross worldwide_gross     tconst  \\\n",
       "0         425000000      760507625      2776345279  tt1775309   \n",
       "1         410600000      241063875      1045663875  tt1298650   \n",
       "\n",
       "   runtime_minutes                    genres  directors  \n",
       "0             93.0                    Horror  nm3786927  \n",
       "1            136.0  Action,Adventure,Fantasy  nm0551128  "
      ]
     },
     "execution_count": 22,
     "metadata": {},
     "output_type": "execute_result"
    }
   ],
   "source": [
    "df.production_budget = df.production_budget.str.replace('$', '').str.replace(',', '')\n",
    "df.domestic_gross = df.domestic_gross.str.replace('$', '').str.replace(',', '')\n",
    "df.worldwide_gross = df.worldwide_gross.str.replace('$', '').str.replace(',', '')\n",
    "df.head(2)"
   ]
  },
  {
   "cell_type": "code",
   "execution_count": 23,
   "metadata": {
    "scrolled": true
   },
   "outputs": [],
   "source": [
    "df.production_budget = df.production_budget.astype(int)\n",
    "df.domestic_gross = df.domestic_gross.astype(int)\n",
    "df.worldwide_gross = df.worldwide_gross.astype(int)\n"
   ]
  },
  {
   "cell_type": "code",
   "execution_count": 24,
   "metadata": {},
   "outputs": [],
   "source": [
    "df.drop_duplicates(subset='movie', inplace=True)\n"
   ]
  },
  {
   "cell_type": "code",
   "execution_count": 25,
   "metadata": {},
   "outputs": [],
   "source": [
    "df['profit_margin'] = ((df['worldwide_gross'] - df[\"production_budget\"]) / df['worldwide_gross']) * 100"
   ]
  },
  {
   "cell_type": "code",
   "execution_count": 26,
   "metadata": {
    "scrolled": true
   },
   "outputs": [
    {
     "data": {
      "text/html": [
       "<div>\n",
       "<style scoped>\n",
       "    .dataframe tbody tr th:only-of-type {\n",
       "        vertical-align: middle;\n",
       "    }\n",
       "\n",
       "    .dataframe tbody tr th {\n",
       "        vertical-align: top;\n",
       "    }\n",
       "\n",
       "    .dataframe thead th {\n",
       "        text-align: right;\n",
       "    }\n",
       "</style>\n",
       "<table border=\"1\" class=\"dataframe\">\n",
       "  <thead>\n",
       "    <tr style=\"text-align: right;\">\n",
       "      <th></th>\n",
       "      <th>release_date</th>\n",
       "      <th>movie</th>\n",
       "      <th>production_budget</th>\n",
       "      <th>domestic_gross</th>\n",
       "      <th>worldwide_gross</th>\n",
       "      <th>tconst</th>\n",
       "      <th>runtime_minutes</th>\n",
       "      <th>genres</th>\n",
       "      <th>directors</th>\n",
       "      <th>profit_margin</th>\n",
       "    </tr>\n",
       "  </thead>\n",
       "  <tbody>\n",
       "    <tr>\n",
       "      <th>0</th>\n",
       "      <td>Dec 18, 2009</td>\n",
       "      <td>Avatar</td>\n",
       "      <td>425000000</td>\n",
       "      <td>760507625</td>\n",
       "      <td>2776345279</td>\n",
       "      <td>tt1775309</td>\n",
       "      <td>93.0</td>\n",
       "      <td>Horror</td>\n",
       "      <td>nm3786927</td>\n",
       "      <td>84.692106</td>\n",
       "    </tr>\n",
       "    <tr>\n",
       "      <th>1</th>\n",
       "      <td>May 20, 2011</td>\n",
       "      <td>Pirates of the Caribbean: On Stranger Tides</td>\n",
       "      <td>410600000</td>\n",
       "      <td>241063875</td>\n",
       "      <td>1045663875</td>\n",
       "      <td>tt1298650</td>\n",
       "      <td>136.0</td>\n",
       "      <td>Action,Adventure,Fantasy</td>\n",
       "      <td>nm0551128</td>\n",
       "      <td>60.733080</td>\n",
       "    </tr>\n",
       "    <tr>\n",
       "      <th>2</th>\n",
       "      <td>Jun 7, 2019</td>\n",
       "      <td>Dark Phoenix</td>\n",
       "      <td>350000000</td>\n",
       "      <td>42762350</td>\n",
       "      <td>149762350</td>\n",
       "      <td>tt6565702</td>\n",
       "      <td>113.0</td>\n",
       "      <td>Action,Adventure,Sci-Fi</td>\n",
       "      <td>nm1334526</td>\n",
       "      <td>-133.703598</td>\n",
       "    </tr>\n",
       "  </tbody>\n",
       "</table>\n",
       "</div>"
      ],
      "text/plain": [
       "   release_date                                        movie  \\\n",
       "0  Dec 18, 2009                                       Avatar   \n",
       "1  May 20, 2011  Pirates of the Caribbean: On Stranger Tides   \n",
       "2   Jun 7, 2019                                 Dark Phoenix   \n",
       "\n",
       "   production_budget  domestic_gross  worldwide_gross     tconst  \\\n",
       "0          425000000       760507625       2776345279  tt1775309   \n",
       "1          410600000       241063875       1045663875  tt1298650   \n",
       "2          350000000        42762350        149762350  tt6565702   \n",
       "\n",
       "   runtime_minutes                    genres  directors  profit_margin  \n",
       "0             93.0                    Horror  nm3786927      84.692106  \n",
       "1            136.0  Action,Adventure,Fantasy  nm0551128      60.733080  \n",
       "2            113.0   Action,Adventure,Sci-Fi  nm1334526    -133.703598  "
      ]
     },
     "execution_count": 26,
     "metadata": {},
     "output_type": "execute_result"
    }
   ],
   "source": [
    "df.head(3)"
   ]
  },
  {
   "cell_type": "code",
   "execution_count": 27,
   "metadata": {},
   "outputs": [],
   "source": [
    "df.release_date = pd.to_datetime(df.release_date) \n"
   ]
  },
  {
   "cell_type": "code",
   "execution_count": null,
   "metadata": {},
   "outputs": [],
   "source": []
  },
  {
   "cell_type": "code",
   "execution_count": 28,
   "metadata": {},
   "outputs": [],
   "source": [
    "df['Month'] =  df['release_date'].apply(lambda x: x.strftime('%m')) "
   ]
  },
  {
   "cell_type": "code",
   "execution_count": 29,
   "metadata": {},
   "outputs": [
    {
     "data": {
      "text/html": [
       "<div>\n",
       "<style scoped>\n",
       "    .dataframe tbody tr th:only-of-type {\n",
       "        vertical-align: middle;\n",
       "    }\n",
       "\n",
       "    .dataframe tbody tr th {\n",
       "        vertical-align: top;\n",
       "    }\n",
       "\n",
       "    .dataframe thead th {\n",
       "        text-align: right;\n",
       "    }\n",
       "</style>\n",
       "<table border=\"1\" class=\"dataframe\">\n",
       "  <thead>\n",
       "    <tr style=\"text-align: right;\">\n",
       "      <th></th>\n",
       "      <th>release_date</th>\n",
       "      <th>movie</th>\n",
       "      <th>production_budget</th>\n",
       "      <th>domestic_gross</th>\n",
       "      <th>worldwide_gross</th>\n",
       "      <th>tconst</th>\n",
       "      <th>runtime_minutes</th>\n",
       "      <th>genres</th>\n",
       "      <th>directors</th>\n",
       "      <th>profit_margin</th>\n",
       "      <th>Month</th>\n",
       "    </tr>\n",
       "  </thead>\n",
       "  <tbody>\n",
       "    <tr>\n",
       "      <th>0</th>\n",
       "      <td>2009-12-18</td>\n",
       "      <td>Avatar</td>\n",
       "      <td>425000000</td>\n",
       "      <td>760507625</td>\n",
       "      <td>2776345279</td>\n",
       "      <td>tt1775309</td>\n",
       "      <td>93.0</td>\n",
       "      <td>Horror</td>\n",
       "      <td>nm3786927</td>\n",
       "      <td>84.692106</td>\n",
       "      <td>12</td>\n",
       "    </tr>\n",
       "    <tr>\n",
       "      <th>1</th>\n",
       "      <td>2011-05-20</td>\n",
       "      <td>Pirates of the Caribbean: On Stranger Tides</td>\n",
       "      <td>410600000</td>\n",
       "      <td>241063875</td>\n",
       "      <td>1045663875</td>\n",
       "      <td>tt1298650</td>\n",
       "      <td>136.0</td>\n",
       "      <td>Action,Adventure,Fantasy</td>\n",
       "      <td>nm0551128</td>\n",
       "      <td>60.733080</td>\n",
       "      <td>05</td>\n",
       "    </tr>\n",
       "    <tr>\n",
       "      <th>2</th>\n",
       "      <td>2019-06-07</td>\n",
       "      <td>Dark Phoenix</td>\n",
       "      <td>350000000</td>\n",
       "      <td>42762350</td>\n",
       "      <td>149762350</td>\n",
       "      <td>tt6565702</td>\n",
       "      <td>113.0</td>\n",
       "      <td>Action,Adventure,Sci-Fi</td>\n",
       "      <td>nm1334526</td>\n",
       "      <td>-133.703598</td>\n",
       "      <td>06</td>\n",
       "    </tr>\n",
       "    <tr>\n",
       "      <th>3</th>\n",
       "      <td>2015-05-01</td>\n",
       "      <td>Avengers: Age of Ultron</td>\n",
       "      <td>330600000</td>\n",
       "      <td>459005868</td>\n",
       "      <td>1403013963</td>\n",
       "      <td>tt2395427</td>\n",
       "      <td>141.0</td>\n",
       "      <td>Action,Adventure,Sci-Fi</td>\n",
       "      <td>nm0923736</td>\n",
       "      <td>76.436443</td>\n",
       "      <td>05</td>\n",
       "    </tr>\n",
       "    <tr>\n",
       "      <th>4</th>\n",
       "      <td>2018-04-27</td>\n",
       "      <td>Avengers: Infinity War</td>\n",
       "      <td>300000000</td>\n",
       "      <td>678815482</td>\n",
       "      <td>2048134200</td>\n",
       "      <td>tt4154756</td>\n",
       "      <td>149.0</td>\n",
       "      <td>Action,Adventure,Sci-Fi</td>\n",
       "      <td>nm0751577,nm0751648</td>\n",
       "      <td>85.352522</td>\n",
       "      <td>04</td>\n",
       "    </tr>\n",
       "  </tbody>\n",
       "</table>\n",
       "</div>"
      ],
      "text/plain": [
       "  release_date                                        movie  \\\n",
       "0   2009-12-18                                       Avatar   \n",
       "1   2011-05-20  Pirates of the Caribbean: On Stranger Tides   \n",
       "2   2019-06-07                                 Dark Phoenix   \n",
       "3   2015-05-01                      Avengers: Age of Ultron   \n",
       "4   2018-04-27                       Avengers: Infinity War   \n",
       "\n",
       "   production_budget  domestic_gross  worldwide_gross     tconst  \\\n",
       "0          425000000       760507625       2776345279  tt1775309   \n",
       "1          410600000       241063875       1045663875  tt1298650   \n",
       "2          350000000        42762350        149762350  tt6565702   \n",
       "3          330600000       459005868       1403013963  tt2395427   \n",
       "4          300000000       678815482       2048134200  tt4154756   \n",
       "\n",
       "   runtime_minutes                    genres            directors  \\\n",
       "0             93.0                    Horror            nm3786927   \n",
       "1            136.0  Action,Adventure,Fantasy            nm0551128   \n",
       "2            113.0   Action,Adventure,Sci-Fi            nm1334526   \n",
       "3            141.0   Action,Adventure,Sci-Fi            nm0923736   \n",
       "4            149.0   Action,Adventure,Sci-Fi  nm0751577,nm0751648   \n",
       "\n",
       "   profit_margin Month  \n",
       "0      84.692106    12  \n",
       "1      60.733080    05  \n",
       "2    -133.703598    06  \n",
       "3      76.436443    05  \n",
       "4      85.352522    04  "
      ]
     },
     "execution_count": 29,
     "metadata": {},
     "output_type": "execute_result"
    }
   ],
   "source": [
    "df.head()"
   ]
  },
  {
   "cell_type": "code",
   "execution_count": 30,
   "metadata": {},
   "outputs": [],
   "source": [
    "df.genres= df.genres.str.split(',')"
   ]
  },
  {
   "cell_type": "code",
   "execution_count": 31,
   "metadata": {},
   "outputs": [],
   "source": [
    "df.genres.fillna('O', inplace=True)\n"
   ]
  },
  {
   "cell_type": "code",
   "execution_count": 32,
   "metadata": {},
   "outputs": [
    {
     "data": {
      "text/html": [
       "<div>\n",
       "<style scoped>\n",
       "    .dataframe tbody tr th:only-of-type {\n",
       "        vertical-align: middle;\n",
       "    }\n",
       "\n",
       "    .dataframe tbody tr th {\n",
       "        vertical-align: top;\n",
       "    }\n",
       "\n",
       "    .dataframe thead th {\n",
       "        text-align: right;\n",
       "    }\n",
       "</style>\n",
       "<table border=\"1\" class=\"dataframe\">\n",
       "  <thead>\n",
       "    <tr style=\"text-align: right;\">\n",
       "      <th></th>\n",
       "      <th>release_date</th>\n",
       "      <th>movie</th>\n",
       "      <th>production_budget</th>\n",
       "      <th>domestic_gross</th>\n",
       "      <th>worldwide_gross</th>\n",
       "      <th>tconst</th>\n",
       "      <th>runtime_minutes</th>\n",
       "      <th>genres</th>\n",
       "      <th>directors</th>\n",
       "      <th>profit_margin</th>\n",
       "      <th>Month</th>\n",
       "    </tr>\n",
       "  </thead>\n",
       "  <tbody>\n",
       "    <tr>\n",
       "      <th>0</th>\n",
       "      <td>2009-12-18</td>\n",
       "      <td>Avatar</td>\n",
       "      <td>425000000</td>\n",
       "      <td>760507625</td>\n",
       "      <td>2776345279</td>\n",
       "      <td>tt1775309</td>\n",
       "      <td>93.0</td>\n",
       "      <td>[Horror]</td>\n",
       "      <td>nm3786927</td>\n",
       "      <td>84.692106</td>\n",
       "      <td>12</td>\n",
       "    </tr>\n",
       "    <tr>\n",
       "      <th>1</th>\n",
       "      <td>2011-05-20</td>\n",
       "      <td>Pirates of the Caribbean: On Stranger Tides</td>\n",
       "      <td>410600000</td>\n",
       "      <td>241063875</td>\n",
       "      <td>1045663875</td>\n",
       "      <td>tt1298650</td>\n",
       "      <td>136.0</td>\n",
       "      <td>[Action, Adventure, Fantasy]</td>\n",
       "      <td>nm0551128</td>\n",
       "      <td>60.733080</td>\n",
       "      <td>05</td>\n",
       "    </tr>\n",
       "    <tr>\n",
       "      <th>2</th>\n",
       "      <td>2019-06-07</td>\n",
       "      <td>Dark Phoenix</td>\n",
       "      <td>350000000</td>\n",
       "      <td>42762350</td>\n",
       "      <td>149762350</td>\n",
       "      <td>tt6565702</td>\n",
       "      <td>113.0</td>\n",
       "      <td>[Action, Adventure, Sci-Fi]</td>\n",
       "      <td>nm1334526</td>\n",
       "      <td>-133.703598</td>\n",
       "      <td>06</td>\n",
       "    </tr>\n",
       "    <tr>\n",
       "      <th>3</th>\n",
       "      <td>2015-05-01</td>\n",
       "      <td>Avengers: Age of Ultron</td>\n",
       "      <td>330600000</td>\n",
       "      <td>459005868</td>\n",
       "      <td>1403013963</td>\n",
       "      <td>tt2395427</td>\n",
       "      <td>141.0</td>\n",
       "      <td>[Action, Adventure, Sci-Fi]</td>\n",
       "      <td>nm0923736</td>\n",
       "      <td>76.436443</td>\n",
       "      <td>05</td>\n",
       "    </tr>\n",
       "    <tr>\n",
       "      <th>4</th>\n",
       "      <td>2018-04-27</td>\n",
       "      <td>Avengers: Infinity War</td>\n",
       "      <td>300000000</td>\n",
       "      <td>678815482</td>\n",
       "      <td>2048134200</td>\n",
       "      <td>tt4154756</td>\n",
       "      <td>149.0</td>\n",
       "      <td>[Action, Adventure, Sci-Fi]</td>\n",
       "      <td>nm0751577,nm0751648</td>\n",
       "      <td>85.352522</td>\n",
       "      <td>04</td>\n",
       "    </tr>\n",
       "    <tr>\n",
       "      <th>...</th>\n",
       "      <td>...</td>\n",
       "      <td>...</td>\n",
       "      <td>...</td>\n",
       "      <td>...</td>\n",
       "      <td>...</td>\n",
       "      <td>...</td>\n",
       "      <td>...</td>\n",
       "      <td>...</td>\n",
       "      <td>...</td>\n",
       "      <td>...</td>\n",
       "      <td>...</td>\n",
       "    </tr>\n",
       "    <tr>\n",
       "      <th>3809</th>\n",
       "      <td>2001-07-06</td>\n",
       "      <td>Cure</td>\n",
       "      <td>10000</td>\n",
       "      <td>94596</td>\n",
       "      <td>94596</td>\n",
       "      <td>tt1872026</td>\n",
       "      <td>93.0</td>\n",
       "      <td>[Drama]</td>\n",
       "      <td>nm0948107</td>\n",
       "      <td>89.428728</td>\n",
       "      <td>07</td>\n",
       "    </tr>\n",
       "    <tr>\n",
       "      <th>3811</th>\n",
       "      <td>1996-04-01</td>\n",
       "      <td>Bang</td>\n",
       "      <td>10000</td>\n",
       "      <td>527</td>\n",
       "      <td>527</td>\n",
       "      <td>tt6616538</td>\n",
       "      <td>NaN</td>\n",
       "      <td>O</td>\n",
       "      <td>nm5674664,nm4419546</td>\n",
       "      <td>-1797.533207</td>\n",
       "      <td>04</td>\n",
       "    </tr>\n",
       "    <tr>\n",
       "      <th>3812</th>\n",
       "      <td>2012-01-13</td>\n",
       "      <td>Newlyweds</td>\n",
       "      <td>9000</td>\n",
       "      <td>4584</td>\n",
       "      <td>4584</td>\n",
       "      <td>tt1880418</td>\n",
       "      <td>95.0</td>\n",
       "      <td>[Comedy, Drama]</td>\n",
       "      <td>nm0122653</td>\n",
       "      <td>-96.335079</td>\n",
       "      <td>01</td>\n",
       "    </tr>\n",
       "    <tr>\n",
       "      <th>3813</th>\n",
       "      <td>2018-12-31</td>\n",
       "      <td>Red 11</td>\n",
       "      <td>7000</td>\n",
       "      <td>0</td>\n",
       "      <td>0</td>\n",
       "      <td>tt7837402</td>\n",
       "      <td>77.0</td>\n",
       "      <td>[Horror, Sci-Fi, Thriller]</td>\n",
       "      <td>nm0001675</td>\n",
       "      <td>-inf</td>\n",
       "      <td>12</td>\n",
       "    </tr>\n",
       "    <tr>\n",
       "      <th>3814</th>\n",
       "      <td>2015-09-29</td>\n",
       "      <td>A Plague So Pleasant</td>\n",
       "      <td>1400</td>\n",
       "      <td>0</td>\n",
       "      <td>0</td>\n",
       "      <td>tt2107644</td>\n",
       "      <td>76.0</td>\n",
       "      <td>[Drama, Horror, Thriller]</td>\n",
       "      <td>nm4766951,nm5792320</td>\n",
       "      <td>-inf</td>\n",
       "      <td>09</td>\n",
       "    </tr>\n",
       "  </tbody>\n",
       "</table>\n",
       "<p>2312 rows × 11 columns</p>\n",
       "</div>"
      ],
      "text/plain": [
       "     release_date                                        movie  \\\n",
       "0      2009-12-18                                       Avatar   \n",
       "1      2011-05-20  Pirates of the Caribbean: On Stranger Tides   \n",
       "2      2019-06-07                                 Dark Phoenix   \n",
       "3      2015-05-01                      Avengers: Age of Ultron   \n",
       "4      2018-04-27                       Avengers: Infinity War   \n",
       "...           ...                                          ...   \n",
       "3809   2001-07-06                                         Cure   \n",
       "3811   1996-04-01                                         Bang   \n",
       "3812   2012-01-13                                    Newlyweds   \n",
       "3813   2018-12-31                                       Red 11   \n",
       "3814   2015-09-29                         A Plague So Pleasant   \n",
       "\n",
       "      production_budget  domestic_gross  worldwide_gross     tconst  \\\n",
       "0             425000000       760507625       2776345279  tt1775309   \n",
       "1             410600000       241063875       1045663875  tt1298650   \n",
       "2             350000000        42762350        149762350  tt6565702   \n",
       "3             330600000       459005868       1403013963  tt2395427   \n",
       "4             300000000       678815482       2048134200  tt4154756   \n",
       "...                 ...             ...              ...        ...   \n",
       "3809              10000           94596            94596  tt1872026   \n",
       "3811              10000             527              527  tt6616538   \n",
       "3812               9000            4584             4584  tt1880418   \n",
       "3813               7000               0                0  tt7837402   \n",
       "3814               1400               0                0  tt2107644   \n",
       "\n",
       "      runtime_minutes                        genres            directors  \\\n",
       "0                93.0                      [Horror]            nm3786927   \n",
       "1               136.0  [Action, Adventure, Fantasy]            nm0551128   \n",
       "2               113.0   [Action, Adventure, Sci-Fi]            nm1334526   \n",
       "3               141.0   [Action, Adventure, Sci-Fi]            nm0923736   \n",
       "4               149.0   [Action, Adventure, Sci-Fi]  nm0751577,nm0751648   \n",
       "...               ...                           ...                  ...   \n",
       "3809             93.0                       [Drama]            nm0948107   \n",
       "3811              NaN                             O  nm5674664,nm4419546   \n",
       "3812             95.0               [Comedy, Drama]            nm0122653   \n",
       "3813             77.0    [Horror, Sci-Fi, Thriller]            nm0001675   \n",
       "3814             76.0     [Drama, Horror, Thriller]  nm4766951,nm5792320   \n",
       "\n",
       "      profit_margin Month  \n",
       "0         84.692106    12  \n",
       "1         60.733080    05  \n",
       "2       -133.703598    06  \n",
       "3         76.436443    05  \n",
       "4         85.352522    04  \n",
       "...             ...   ...  \n",
       "3809      89.428728    07  \n",
       "3811   -1797.533207    04  \n",
       "3812     -96.335079    01  \n",
       "3813           -inf    12  \n",
       "3814           -inf    09  \n",
       "\n",
       "[2312 rows x 11 columns]"
      ]
     },
     "execution_count": 32,
     "metadata": {},
     "output_type": "execute_result"
    }
   ],
   "source": [
    "df"
   ]
  },
  {
   "cell_type": "code",
   "execution_count": 33,
   "metadata": {},
   "outputs": [
    {
     "data": {
      "text/plain": [
       "['Horror',\n",
       " 'Action',\n",
       " 'Adventure',\n",
       " 'Fantasy',\n",
       " 'Sci-Fi',\n",
       " 'Thriller',\n",
       " 'Western',\n",
       " 'Animation',\n",
       " 'Comedy',\n",
       " 'Family',\n",
       " 'Crime',\n",
       " 'Drama',\n",
       " 'Romance',\n",
       " 'Mystery',\n",
       " 'O',\n",
       " 'History',\n",
       " 'Sport',\n",
       " 'Biography',\n",
       " 'Documentary',\n",
       " 'War',\n",
       " 'Musical',\n",
       " 'Music',\n",
       " 'News']"
      ]
     },
     "execution_count": 33,
     "metadata": {},
     "output_type": "execute_result"
    }
   ],
   "source": [
    "all_genres = []\n",
    "for genres in df.genres:\n",
    "    for genre in genres:\n",
    "        if genre not in all_genres:\n",
    "            all_genres.append(genre)\n",
    "        else:\n",
    "            pass\n",
    "\n",
    "all_genres"
   ]
  },
  {
   "cell_type": "code",
   "execution_count": 34,
   "metadata": {},
   "outputs": [],
   "source": [
    "for genre in all_genres:\n",
    "    df[genre] = np.zeros(shape=df.shape[0])"
   ]
  },
  {
   "cell_type": "code",
   "execution_count": 35,
   "metadata": {
    "scrolled": true
   },
   "outputs": [
    {
     "name": "stdout",
     "output_type": "stream",
     "text": [
      "0\n",
      "100\n",
      "200\n",
      "300\n",
      "400\n",
      "500\n",
      "600\n",
      "700\n",
      "800\n",
      "1000\n",
      "1100\n",
      "1700\n",
      "1800\n",
      "2000\n",
      "2100\n",
      "2200\n",
      "2500\n",
      "2700\n",
      "2900\n",
      "3000\n",
      "3200\n",
      "3400\n"
     ]
    }
   ],
   "source": [
    "\n",
    "for index, row in df.iterrows():\n",
    "    if index % 100 == 0:\n",
    "        print(index)\n",
    "    for word in row['genres']:\n",
    "        df.loc[index, word] = 1\n",
    "\n"
   ]
  },
  {
   "cell_type": "code",
   "execution_count": 36,
   "metadata": {},
   "outputs": [],
   "source": [
    "df = df.sort_values(['profit_margin'], ascending=False)\n",
    "\n",
    "all_genres = []\n",
    "for genres in df.genres[:200]:\n",
    "    for genre in genres:\n",
    "        all_genres.append(genre)\n",
    "\n",
    "all_genres\n",
    "# Create list of unique genres\n",
    "\n",
    "proMargin_genre_count = {}\n",
    "for genre in all_genres:\n",
    "    proMargin_genre_count[genre] = all_genres.count(genre)\n",
    "    "
   ]
  },
  {
   "cell_type": "code",
   "execution_count": 37,
   "metadata": {
    "scrolled": true
   },
   "outputs": [
    {
     "name": "stdout",
     "output_type": "stream",
     "text": [
      "<class 'pandas.core.frame.DataFrame'>\n",
      "Int64Index: 2312 entries, 3751 to 3814\n",
      "Data columns (total 34 columns):\n",
      "release_date         2312 non-null datetime64[ns]\n",
      "movie                2312 non-null object\n",
      "production_budget    2312 non-null int64\n",
      "domestic_gross       2312 non-null int64\n",
      "worldwide_gross      2312 non-null int64\n",
      "tconst               2312 non-null object\n",
      "runtime_minutes      2138 non-null float64\n",
      "genres               2312 non-null object\n",
      "directors            2284 non-null object\n",
      "profit_margin        2312 non-null float64\n",
      "Month                2312 non-null object\n",
      "Horror               2312 non-null float64\n",
      "Action               2312 non-null float64\n",
      "Adventure            2312 non-null float64\n",
      "Fantasy              2312 non-null float64\n",
      "Sci-Fi               2312 non-null float64\n",
      "Thriller             2312 non-null float64\n",
      "Western              2312 non-null float64\n",
      "Animation            2312 non-null float64\n",
      "Comedy               2312 non-null float64\n",
      "Family               2312 non-null float64\n",
      "Crime                2312 non-null float64\n",
      "Drama                2312 non-null float64\n",
      "Romance              2312 non-null float64\n",
      "Mystery              2312 non-null float64\n",
      "O                    2312 non-null float64\n",
      "History              2312 non-null float64\n",
      "Sport                2312 non-null float64\n",
      "Biography            2312 non-null float64\n",
      "Documentary          2312 non-null float64\n",
      "War                  2312 non-null float64\n",
      "Musical              2312 non-null float64\n",
      "Music                2312 non-null float64\n",
      "News                 2312 non-null float64\n",
      "dtypes: datetime64[ns](1), float64(25), int64(3), object(5)\n",
      "memory usage: 632.2+ KB\n"
     ]
    }
   ],
   "source": [
    "df.info()"
   ]
  },
  {
   "cell_type": "code",
   "execution_count": 38,
   "metadata": {},
   "outputs": [],
   "source": [
    "df.drop(df[df['worldwide_gross'] == 0]. index, inplace=True)\n",
    "# also did this one first if error \n",
    "# df.drop(df[df['worldwide_gross'] == 0]. index, inplace=True)"
   ]
  },
  {
   "cell_type": "code",
   "execution_count": 39,
   "metadata": {},
   "outputs": [
    {
     "data": {
      "text/html": [
       "<div>\n",
       "<style scoped>\n",
       "    .dataframe tbody tr th:only-of-type {\n",
       "        vertical-align: middle;\n",
       "    }\n",
       "\n",
       "    .dataframe tbody tr th {\n",
       "        vertical-align: top;\n",
       "    }\n",
       "\n",
       "    .dataframe thead th {\n",
       "        text-align: right;\n",
       "    }\n",
       "</style>\n",
       "<table border=\"1\" class=\"dataframe\">\n",
       "  <thead>\n",
       "    <tr style=\"text-align: right;\">\n",
       "      <th></th>\n",
       "      <th>release_date</th>\n",
       "      <th>movie</th>\n",
       "      <th>production_budget</th>\n",
       "      <th>domestic_gross</th>\n",
       "      <th>worldwide_gross</th>\n",
       "      <th>tconst</th>\n",
       "      <th>runtime_minutes</th>\n",
       "      <th>genres</th>\n",
       "      <th>directors</th>\n",
       "      <th>profit_margin</th>\n",
       "      <th>Month</th>\n",
       "      <th>Horror</th>\n",
       "      <th>Action</th>\n",
       "      <th>Adventure</th>\n",
       "      <th>Fantasy</th>\n",
       "      <th>Sci-Fi</th>\n",
       "      <th>Thriller</th>\n",
       "      <th>Western</th>\n",
       "      <th>Animation</th>\n",
       "      <th>Comedy</th>\n",
       "      <th>Family</th>\n",
       "      <th>Crime</th>\n",
       "      <th>Drama</th>\n",
       "      <th>Romance</th>\n",
       "      <th>Mystery</th>\n",
       "      <th>O</th>\n",
       "      <th>History</th>\n",
       "      <th>Sport</th>\n",
       "      <th>Biography</th>\n",
       "      <th>Documentary</th>\n",
       "      <th>War</th>\n",
       "      <th>Musical</th>\n",
       "      <th>Music</th>\n",
       "      <th>News</th>\n",
       "    </tr>\n",
       "  </thead>\n",
       "  <tbody>\n",
       "    <tr>\n",
       "      <th>3751</th>\n",
       "      <td>2015-07-10</td>\n",
       "      <td>The Gallows</td>\n",
       "      <td>100000</td>\n",
       "      <td>22764410</td>\n",
       "      <td>41656474</td>\n",
       "      <td>tt2309260</td>\n",
       "      <td>81.0</td>\n",
       "      <td>[Horror, Mystery, Thriller]</td>\n",
       "      <td>nm4000389,nm3951039</td>\n",
       "      <td>99.759941</td>\n",
       "      <td>07</td>\n",
       "      <td>1.0</td>\n",
       "      <td>0.0</td>\n",
       "      <td>0.0</td>\n",
       "      <td>0.0</td>\n",
       "      <td>0.0</td>\n",
       "      <td>1.0</td>\n",
       "      <td>0.0</td>\n",
       "      <td>0.0</td>\n",
       "      <td>0.0</td>\n",
       "      <td>0.0</td>\n",
       "      <td>0.0</td>\n",
       "      <td>0.0</td>\n",
       "      <td>0.0</td>\n",
       "      <td>1.0</td>\n",
       "      <td>0.0</td>\n",
       "      <td>0.0</td>\n",
       "      <td>0.0</td>\n",
       "      <td>0.0</td>\n",
       "      <td>0.0</td>\n",
       "      <td>0.0</td>\n",
       "      <td>0.0</td>\n",
       "      <td>0.0</td>\n",
       "      <td>0.0</td>\n",
       "    </tr>\n",
       "    <tr>\n",
       "      <th>3535</th>\n",
       "      <td>1942-08-13</td>\n",
       "      <td>Bambi</td>\n",
       "      <td>858000</td>\n",
       "      <td>102797000</td>\n",
       "      <td>268000000</td>\n",
       "      <td>tt2668120</td>\n",
       "      <td>58.0</td>\n",
       "      <td>[Biography, Documentary]</td>\n",
       "      <td>nm0509852</td>\n",
       "      <td>99.679851</td>\n",
       "      <td>08</td>\n",
       "      <td>0.0</td>\n",
       "      <td>0.0</td>\n",
       "      <td>0.0</td>\n",
       "      <td>0.0</td>\n",
       "      <td>0.0</td>\n",
       "      <td>0.0</td>\n",
       "      <td>0.0</td>\n",
       "      <td>0.0</td>\n",
       "      <td>0.0</td>\n",
       "      <td>0.0</td>\n",
       "      <td>0.0</td>\n",
       "      <td>0.0</td>\n",
       "      <td>0.0</td>\n",
       "      <td>0.0</td>\n",
       "      <td>0.0</td>\n",
       "      <td>0.0</td>\n",
       "      <td>0.0</td>\n",
       "      <td>1.0</td>\n",
       "      <td>1.0</td>\n",
       "      <td>0.0</td>\n",
       "      <td>0.0</td>\n",
       "      <td>0.0</td>\n",
       "      <td>0.0</td>\n",
       "    </tr>\n",
       "    <tr>\n",
       "      <th>3452</th>\n",
       "      <td>1976-11-21</td>\n",
       "      <td>Rocky</td>\n",
       "      <td>1000000</td>\n",
       "      <td>117235147</td>\n",
       "      <td>225000000</td>\n",
       "      <td>tt3080284</td>\n",
       "      <td>136.0</td>\n",
       "      <td>[Action, Comedy, Drama]</td>\n",
       "      <td>nm1126847</td>\n",
       "      <td>99.555556</td>\n",
       "      <td>11</td>\n",
       "      <td>0.0</td>\n",
       "      <td>1.0</td>\n",
       "      <td>0.0</td>\n",
       "      <td>0.0</td>\n",
       "      <td>0.0</td>\n",
       "      <td>0.0</td>\n",
       "      <td>0.0</td>\n",
       "      <td>0.0</td>\n",
       "      <td>1.0</td>\n",
       "      <td>0.0</td>\n",
       "      <td>0.0</td>\n",
       "      <td>1.0</td>\n",
       "      <td>0.0</td>\n",
       "      <td>0.0</td>\n",
       "      <td>0.0</td>\n",
       "      <td>0.0</td>\n",
       "      <td>0.0</td>\n",
       "      <td>0.0</td>\n",
       "      <td>0.0</td>\n",
       "      <td>0.0</td>\n",
       "      <td>0.0</td>\n",
       "      <td>0.0</td>\n",
       "      <td>0.0</td>\n",
       "    </tr>\n",
       "    <tr>\n",
       "      <th>3400</th>\n",
       "      <td>1937-12-21</td>\n",
       "      <td>Snow White and the Seven Dwarfs</td>\n",
       "      <td>1488000</td>\n",
       "      <td>184925486</td>\n",
       "      <td>184925486</td>\n",
       "      <td>tt7821084</td>\n",
       "      <td>49.0</td>\n",
       "      <td>[Animation, Family]</td>\n",
       "      <td>nm8856734</td>\n",
       "      <td>99.195352</td>\n",
       "      <td>12</td>\n",
       "      <td>0.0</td>\n",
       "      <td>0.0</td>\n",
       "      <td>0.0</td>\n",
       "      <td>0.0</td>\n",
       "      <td>0.0</td>\n",
       "      <td>0.0</td>\n",
       "      <td>0.0</td>\n",
       "      <td>1.0</td>\n",
       "      <td>0.0</td>\n",
       "      <td>1.0</td>\n",
       "      <td>0.0</td>\n",
       "      <td>0.0</td>\n",
       "      <td>0.0</td>\n",
       "      <td>0.0</td>\n",
       "      <td>0.0</td>\n",
       "      <td>0.0</td>\n",
       "      <td>0.0</td>\n",
       "      <td>0.0</td>\n",
       "      <td>0.0</td>\n",
       "      <td>0.0</td>\n",
       "      <td>0.0</td>\n",
       "      <td>0.0</td>\n",
       "      <td>0.0</td>\n",
       "    </tr>\n",
       "    <tr>\n",
       "      <th>3454</th>\n",
       "      <td>2012-01-06</td>\n",
       "      <td>The Devil Inside</td>\n",
       "      <td>1000000</td>\n",
       "      <td>53262945</td>\n",
       "      <td>101759490</td>\n",
       "      <td>tt1560985</td>\n",
       "      <td>83.0</td>\n",
       "      <td>[Horror]</td>\n",
       "      <td>nm0068587</td>\n",
       "      <td>99.017291</td>\n",
       "      <td>01</td>\n",
       "      <td>1.0</td>\n",
       "      <td>0.0</td>\n",
       "      <td>0.0</td>\n",
       "      <td>0.0</td>\n",
       "      <td>0.0</td>\n",
       "      <td>0.0</td>\n",
       "      <td>0.0</td>\n",
       "      <td>0.0</td>\n",
       "      <td>0.0</td>\n",
       "      <td>0.0</td>\n",
       "      <td>0.0</td>\n",
       "      <td>0.0</td>\n",
       "      <td>0.0</td>\n",
       "      <td>0.0</td>\n",
       "      <td>0.0</td>\n",
       "      <td>0.0</td>\n",
       "      <td>0.0</td>\n",
       "      <td>0.0</td>\n",
       "      <td>0.0</td>\n",
       "      <td>0.0</td>\n",
       "      <td>0.0</td>\n",
       "      <td>0.0</td>\n",
       "      <td>0.0</td>\n",
       "    </tr>\n",
       "  </tbody>\n",
       "</table>\n",
       "</div>"
      ],
      "text/plain": [
       "     release_date                            movie  production_budget  \\\n",
       "3751   2015-07-10                      The Gallows             100000   \n",
       "3535   1942-08-13                            Bambi             858000   \n",
       "3452   1976-11-21                            Rocky            1000000   \n",
       "3400   1937-12-21  Snow White and the Seven Dwarfs            1488000   \n",
       "3454   2012-01-06                 The Devil Inside            1000000   \n",
       "\n",
       "      domestic_gross  worldwide_gross     tconst  runtime_minutes  \\\n",
       "3751        22764410         41656474  tt2309260             81.0   \n",
       "3535       102797000        268000000  tt2668120             58.0   \n",
       "3452       117235147        225000000  tt3080284            136.0   \n",
       "3400       184925486        184925486  tt7821084             49.0   \n",
       "3454        53262945        101759490  tt1560985             83.0   \n",
       "\n",
       "                           genres            directors  profit_margin Month  \\\n",
       "3751  [Horror, Mystery, Thriller]  nm4000389,nm3951039      99.759941    07   \n",
       "3535     [Biography, Documentary]            nm0509852      99.679851    08   \n",
       "3452      [Action, Comedy, Drama]            nm1126847      99.555556    11   \n",
       "3400          [Animation, Family]            nm8856734      99.195352    12   \n",
       "3454                     [Horror]            nm0068587      99.017291    01   \n",
       "\n",
       "      Horror  Action  Adventure  Fantasy  Sci-Fi  Thriller  Western  \\\n",
       "3751     1.0     0.0        0.0      0.0     0.0       1.0      0.0   \n",
       "3535     0.0     0.0        0.0      0.0     0.0       0.0      0.0   \n",
       "3452     0.0     1.0        0.0      0.0     0.0       0.0      0.0   \n",
       "3400     0.0     0.0        0.0      0.0     0.0       0.0      0.0   \n",
       "3454     1.0     0.0        0.0      0.0     0.0       0.0      0.0   \n",
       "\n",
       "      Animation  Comedy  Family  Crime  Drama  Romance  Mystery    O  History  \\\n",
       "3751        0.0     0.0     0.0    0.0    0.0      0.0      1.0  0.0      0.0   \n",
       "3535        0.0     0.0     0.0    0.0    0.0      0.0      0.0  0.0      0.0   \n",
       "3452        0.0     1.0     0.0    0.0    1.0      0.0      0.0  0.0      0.0   \n",
       "3400        1.0     0.0     1.0    0.0    0.0      0.0      0.0  0.0      0.0   \n",
       "3454        0.0     0.0     0.0    0.0    0.0      0.0      0.0  0.0      0.0   \n",
       "\n",
       "      Sport  Biography  Documentary  War  Musical  Music  News  \n",
       "3751    0.0        0.0          0.0  0.0      0.0    0.0   0.0  \n",
       "3535    0.0        1.0          1.0  0.0      0.0    0.0   0.0  \n",
       "3452    0.0        0.0          0.0  0.0      0.0    0.0   0.0  \n",
       "3400    0.0        0.0          0.0  0.0      0.0    0.0   0.0  \n",
       "3454    0.0        0.0          0.0  0.0      0.0    0.0   0.0  "
      ]
     },
     "execution_count": 39,
     "metadata": {},
     "output_type": "execute_result"
    }
   ],
   "source": [
    "df.head()"
   ]
  },
  {
   "cell_type": "code",
   "execution_count": 40,
   "metadata": {},
   "outputs": [],
   "source": [
    "df.directors = df.directors.str.split(',').str[0]"
   ]
  },
  {
   "cell_type": "markdown",
   "metadata": {},
   "source": [
    "                                                   .\n",
    "                                                   .\n",
    "                                                   . \n",
    "                                                   .\n",
    "                                                   .\n",
    "                                                   .\n",
    "                                                   .\n",
    "                                                   .\n",
    "                                                   .\n",
    "                                CREATE GROUPBY WITH CLEAN DATAFRAMES\n",
    "                                                   .\n",
    "                                                   .\n",
    "                                                   . \n",
    "                                                   .\n",
    "                                                   .\n",
    "                                                   .\n",
    "                                                   .\n",
    "                                                   .\n",
    "                                                   ."
   ]
  },
  {
   "cell_type": "code",
   "execution_count": 41,
   "metadata": {},
   "outputs": [
    {
     "data": {
      "text/html": [
       "<div>\n",
       "<style scoped>\n",
       "    .dataframe tbody tr th:only-of-type {\n",
       "        vertical-align: middle;\n",
       "    }\n",
       "\n",
       "    .dataframe tbody tr th {\n",
       "        vertical-align: top;\n",
       "    }\n",
       "\n",
       "    .dataframe thead th {\n",
       "        text-align: right;\n",
       "    }\n",
       "</style>\n",
       "<table border=\"1\" class=\"dataframe\">\n",
       "  <thead>\n",
       "    <tr style=\"text-align: right;\">\n",
       "      <th></th>\n",
       "      <th>production_budget</th>\n",
       "      <th>domestic_gross</th>\n",
       "      <th>worldwide_gross</th>\n",
       "      <th>runtime_minutes</th>\n",
       "      <th>profit_margin</th>\n",
       "      <th>Horror</th>\n",
       "      <th>Action</th>\n",
       "      <th>Adventure</th>\n",
       "      <th>Fantasy</th>\n",
       "      <th>Sci-Fi</th>\n",
       "      <th>Thriller</th>\n",
       "      <th>Western</th>\n",
       "      <th>Animation</th>\n",
       "      <th>Comedy</th>\n",
       "      <th>Family</th>\n",
       "      <th>Crime</th>\n",
       "      <th>Drama</th>\n",
       "      <th>Romance</th>\n",
       "      <th>Mystery</th>\n",
       "      <th>O</th>\n",
       "      <th>History</th>\n",
       "      <th>Sport</th>\n",
       "      <th>Biography</th>\n",
       "      <th>Documentary</th>\n",
       "      <th>War</th>\n",
       "      <th>Musical</th>\n",
       "      <th>Music</th>\n",
       "      <th>News</th>\n",
       "    </tr>\n",
       "    <tr>\n",
       "      <th>directors</th>\n",
       "      <th></th>\n",
       "      <th></th>\n",
       "      <th></th>\n",
       "      <th></th>\n",
       "      <th></th>\n",
       "      <th></th>\n",
       "      <th></th>\n",
       "      <th></th>\n",
       "      <th></th>\n",
       "      <th></th>\n",
       "      <th></th>\n",
       "      <th></th>\n",
       "      <th></th>\n",
       "      <th></th>\n",
       "      <th></th>\n",
       "      <th></th>\n",
       "      <th></th>\n",
       "      <th></th>\n",
       "      <th></th>\n",
       "      <th></th>\n",
       "      <th></th>\n",
       "      <th></th>\n",
       "      <th></th>\n",
       "      <th></th>\n",
       "      <th></th>\n",
       "      <th></th>\n",
       "      <th></th>\n",
       "      <th></th>\n",
       "    </tr>\n",
       "  </thead>\n",
       "  <tbody>\n",
       "    <tr>\n",
       "      <th>nm0000095</th>\n",
       "      <td>1.816667e+07</td>\n",
       "      <td>17779013.0</td>\n",
       "      <td>7.049560e+07</td>\n",
       "      <td>102.666667</td>\n",
       "      <td>69.928155</td>\n",
       "      <td>0.0</td>\n",
       "      <td>0.000000</td>\n",
       "      <td>0.000000</td>\n",
       "      <td>0.000000</td>\n",
       "      <td>0.0</td>\n",
       "      <td>0.000000</td>\n",
       "      <td>0.0</td>\n",
       "      <td>0.0</td>\n",
       "      <td>0.666667</td>\n",
       "      <td>0.0</td>\n",
       "      <td>0.000000</td>\n",
       "      <td>0.666667</td>\n",
       "      <td>0.666667</td>\n",
       "      <td>0.000000</td>\n",
       "      <td>0.0</td>\n",
       "      <td>0.0</td>\n",
       "      <td>0.0</td>\n",
       "      <td>0.0</td>\n",
       "      <td>0.0</td>\n",
       "      <td>0.0</td>\n",
       "      <td>0.0</td>\n",
       "      <td>0.333333</td>\n",
       "      <td>0.0</td>\n",
       "    </tr>\n",
       "    <tr>\n",
       "      <th>nm0000108</th>\n",
       "      <td>1.100000e+08</td>\n",
       "      <td>83526665.0</td>\n",
       "      <td>3.363031e+08</td>\n",
       "      <td>113.000000</td>\n",
       "      <td>53.787166</td>\n",
       "      <td>0.0</td>\n",
       "      <td>1.000000</td>\n",
       "      <td>0.500000</td>\n",
       "      <td>0.500000</td>\n",
       "      <td>0.5</td>\n",
       "      <td>0.500000</td>\n",
       "      <td>0.0</td>\n",
       "      <td>0.0</td>\n",
       "      <td>0.000000</td>\n",
       "      <td>0.0</td>\n",
       "      <td>0.000000</td>\n",
       "      <td>0.000000</td>\n",
       "      <td>0.000000</td>\n",
       "      <td>0.000000</td>\n",
       "      <td>0.0</td>\n",
       "      <td>0.0</td>\n",
       "      <td>0.0</td>\n",
       "      <td>0.0</td>\n",
       "      <td>0.0</td>\n",
       "      <td>0.0</td>\n",
       "      <td>0.0</td>\n",
       "      <td>0.000000</td>\n",
       "      <td>0.0</td>\n",
       "    </tr>\n",
       "    <tr>\n",
       "      <th>nm0000110</th>\n",
       "      <td>8.833333e+07</td>\n",
       "      <td>111478193.0</td>\n",
       "      <td>3.088756e+08</td>\n",
       "      <td>111.333333</td>\n",
       "      <td>68.349085</td>\n",
       "      <td>0.0</td>\n",
       "      <td>0.666667</td>\n",
       "      <td>0.333333</td>\n",
       "      <td>0.333333</td>\n",
       "      <td>0.0</td>\n",
       "      <td>0.333333</td>\n",
       "      <td>0.0</td>\n",
       "      <td>0.0</td>\n",
       "      <td>0.000000</td>\n",
       "      <td>0.0</td>\n",
       "      <td>0.333333</td>\n",
       "      <td>0.666667</td>\n",
       "      <td>0.000000</td>\n",
       "      <td>0.333333</td>\n",
       "      <td>0.0</td>\n",
       "      <td>0.0</td>\n",
       "      <td>0.0</td>\n",
       "      <td>0.0</td>\n",
       "      <td>0.0</td>\n",
       "      <td>0.0</td>\n",
       "      <td>0.0</td>\n",
       "      <td>0.000000</td>\n",
       "      <td>0.0</td>\n",
       "    </tr>\n",
       "    <tr>\n",
       "      <th>nm0000123</th>\n",
       "      <td>4.650000e+07</td>\n",
       "      <td>59497077.0</td>\n",
       "      <td>1.182193e+08</td>\n",
       "      <td>109.500000</td>\n",
       "      <td>63.152517</td>\n",
       "      <td>0.0</td>\n",
       "      <td>0.000000</td>\n",
       "      <td>0.000000</td>\n",
       "      <td>0.000000</td>\n",
       "      <td>0.0</td>\n",
       "      <td>0.500000</td>\n",
       "      <td>0.0</td>\n",
       "      <td>0.0</td>\n",
       "      <td>0.500000</td>\n",
       "      <td>0.0</td>\n",
       "      <td>0.000000</td>\n",
       "      <td>1.000000</td>\n",
       "      <td>0.000000</td>\n",
       "      <td>0.000000</td>\n",
       "      <td>0.0</td>\n",
       "      <td>0.5</td>\n",
       "      <td>0.0</td>\n",
       "      <td>0.0</td>\n",
       "      <td>0.0</td>\n",
       "      <td>0.0</td>\n",
       "      <td>0.0</td>\n",
       "      <td>0.000000</td>\n",
       "      <td>0.0</td>\n",
       "    </tr>\n",
       "    <tr>\n",
       "      <th>nm0000127</th>\n",
       "      <td>3.250000e+07</td>\n",
       "      <td>26462681.5</td>\n",
       "      <td>5.635853e+07</td>\n",
       "      <td>109.000000</td>\n",
       "      <td>4.437028</td>\n",
       "      <td>1.0</td>\n",
       "      <td>0.000000</td>\n",
       "      <td>0.000000</td>\n",
       "      <td>0.000000</td>\n",
       "      <td>0.0</td>\n",
       "      <td>0.500000</td>\n",
       "      <td>0.0</td>\n",
       "      <td>0.0</td>\n",
       "      <td>0.000000</td>\n",
       "      <td>0.0</td>\n",
       "      <td>0.000000</td>\n",
       "      <td>0.000000</td>\n",
       "      <td>0.000000</td>\n",
       "      <td>1.000000</td>\n",
       "      <td>0.0</td>\n",
       "      <td>0.0</td>\n",
       "      <td>0.0</td>\n",
       "      <td>0.0</td>\n",
       "      <td>0.0</td>\n",
       "      <td>0.0</td>\n",
       "      <td>0.0</td>\n",
       "      <td>0.000000</td>\n",
       "      <td>0.0</td>\n",
       "    </tr>\n",
       "    <tr>\n",
       "      <th>...</th>\n",
       "      <td>...</td>\n",
       "      <td>...</td>\n",
       "      <td>...</td>\n",
       "      <td>...</td>\n",
       "      <td>...</td>\n",
       "      <td>...</td>\n",
       "      <td>...</td>\n",
       "      <td>...</td>\n",
       "      <td>...</td>\n",
       "      <td>...</td>\n",
       "      <td>...</td>\n",
       "      <td>...</td>\n",
       "      <td>...</td>\n",
       "      <td>...</td>\n",
       "      <td>...</td>\n",
       "      <td>...</td>\n",
       "      <td>...</td>\n",
       "      <td>...</td>\n",
       "      <td>...</td>\n",
       "      <td>...</td>\n",
       "      <td>...</td>\n",
       "      <td>...</td>\n",
       "      <td>...</td>\n",
       "      <td>...</td>\n",
       "      <td>...</td>\n",
       "      <td>...</td>\n",
       "      <td>...</td>\n",
       "      <td>...</td>\n",
       "    </tr>\n",
       "    <tr>\n",
       "      <th>nm9822619</th>\n",
       "      <td>8.000000e+06</td>\n",
       "      <td>52287414.0</td>\n",
       "      <td>5.228741e+07</td>\n",
       "      <td>91.000000</td>\n",
       "      <td>84.699951</td>\n",
       "      <td>0.0</td>\n",
       "      <td>0.000000</td>\n",
       "      <td>0.000000</td>\n",
       "      <td>0.000000</td>\n",
       "      <td>0.0</td>\n",
       "      <td>0.000000</td>\n",
       "      <td>0.0</td>\n",
       "      <td>0.0</td>\n",
       "      <td>0.000000</td>\n",
       "      <td>0.0</td>\n",
       "      <td>0.000000</td>\n",
       "      <td>1.000000</td>\n",
       "      <td>0.000000</td>\n",
       "      <td>0.000000</td>\n",
       "      <td>0.0</td>\n",
       "      <td>0.0</td>\n",
       "      <td>0.0</td>\n",
       "      <td>0.0</td>\n",
       "      <td>0.0</td>\n",
       "      <td>0.0</td>\n",
       "      <td>0.0</td>\n",
       "      <td>0.000000</td>\n",
       "      <td>0.0</td>\n",
       "    </tr>\n",
       "    <tr>\n",
       "      <th>nm9856424</th>\n",
       "      <td>8.500000e+06</td>\n",
       "      <td>13610521.0</td>\n",
       "      <td>2.028877e+07</td>\n",
       "      <td>77.000000</td>\n",
       "      <td>58.104911</td>\n",
       "      <td>0.0</td>\n",
       "      <td>0.000000</td>\n",
       "      <td>0.000000</td>\n",
       "      <td>0.000000</td>\n",
       "      <td>0.0</td>\n",
       "      <td>0.000000</td>\n",
       "      <td>0.0</td>\n",
       "      <td>0.0</td>\n",
       "      <td>0.000000</td>\n",
       "      <td>0.0</td>\n",
       "      <td>0.000000</td>\n",
       "      <td>1.000000</td>\n",
       "      <td>0.000000</td>\n",
       "      <td>0.000000</td>\n",
       "      <td>0.0</td>\n",
       "      <td>0.0</td>\n",
       "      <td>0.0</td>\n",
       "      <td>0.0</td>\n",
       "      <td>0.0</td>\n",
       "      <td>0.0</td>\n",
       "      <td>0.0</td>\n",
       "      <td>0.000000</td>\n",
       "      <td>0.0</td>\n",
       "    </tr>\n",
       "    <tr>\n",
       "      <th>nm9893430</th>\n",
       "      <td>2.000000e+07</td>\n",
       "      <td>81261177.0</td>\n",
       "      <td>1.319447e+08</td>\n",
       "      <td>NaN</td>\n",
       "      <td>84.842131</td>\n",
       "      <td>0.0</td>\n",
       "      <td>0.000000</td>\n",
       "      <td>0.000000</td>\n",
       "      <td>0.000000</td>\n",
       "      <td>0.0</td>\n",
       "      <td>0.000000</td>\n",
       "      <td>0.0</td>\n",
       "      <td>0.0</td>\n",
       "      <td>0.000000</td>\n",
       "      <td>0.0</td>\n",
       "      <td>0.000000</td>\n",
       "      <td>0.000000</td>\n",
       "      <td>0.000000</td>\n",
       "      <td>0.000000</td>\n",
       "      <td>0.0</td>\n",
       "      <td>0.0</td>\n",
       "      <td>0.0</td>\n",
       "      <td>0.0</td>\n",
       "      <td>0.0</td>\n",
       "      <td>0.0</td>\n",
       "      <td>0.0</td>\n",
       "      <td>1.000000</td>\n",
       "      <td>0.0</td>\n",
       "    </tr>\n",
       "    <tr>\n",
       "      <th>nm9932335</th>\n",
       "      <td>2.500000e+07</td>\n",
       "      <td>780326.0</td>\n",
       "      <td>7.803260e+05</td>\n",
       "      <td>NaN</td>\n",
       "      <td>-3103.789186</td>\n",
       "      <td>0.0</td>\n",
       "      <td>0.000000</td>\n",
       "      <td>0.000000</td>\n",
       "      <td>0.000000</td>\n",
       "      <td>0.0</td>\n",
       "      <td>0.000000</td>\n",
       "      <td>0.0</td>\n",
       "      <td>0.0</td>\n",
       "      <td>0.000000</td>\n",
       "      <td>0.0</td>\n",
       "      <td>0.000000</td>\n",
       "      <td>0.000000</td>\n",
       "      <td>0.000000</td>\n",
       "      <td>0.000000</td>\n",
       "      <td>0.0</td>\n",
       "      <td>0.0</td>\n",
       "      <td>1.0</td>\n",
       "      <td>0.0</td>\n",
       "      <td>0.0</td>\n",
       "      <td>0.0</td>\n",
       "      <td>0.0</td>\n",
       "      <td>0.000000</td>\n",
       "      <td>0.0</td>\n",
       "    </tr>\n",
       "    <tr>\n",
       "      <th>nm9949004</th>\n",
       "      <td>1.070000e+07</td>\n",
       "      <td>18542974.0</td>\n",
       "      <td>3.134118e+07</td>\n",
       "      <td>NaN</td>\n",
       "      <td>65.859617</td>\n",
       "      <td>0.0</td>\n",
       "      <td>0.000000</td>\n",
       "      <td>0.000000</td>\n",
       "      <td>0.000000</td>\n",
       "      <td>0.0</td>\n",
       "      <td>0.000000</td>\n",
       "      <td>0.0</td>\n",
       "      <td>0.0</td>\n",
       "      <td>1.000000</td>\n",
       "      <td>0.0</td>\n",
       "      <td>0.000000</td>\n",
       "      <td>0.000000</td>\n",
       "      <td>0.000000</td>\n",
       "      <td>0.000000</td>\n",
       "      <td>0.0</td>\n",
       "      <td>0.0</td>\n",
       "      <td>0.0</td>\n",
       "      <td>0.0</td>\n",
       "      <td>0.0</td>\n",
       "      <td>0.0</td>\n",
       "      <td>0.0</td>\n",
       "      <td>0.000000</td>\n",
       "      <td>0.0</td>\n",
       "    </tr>\n",
       "  </tbody>\n",
       "</table>\n",
       "<p>1586 rows × 28 columns</p>\n",
       "</div>"
      ],
      "text/plain": [
       "           production_budget  domestic_gross  worldwide_gross  \\\n",
       "directors                                                       \n",
       "nm0000095       1.816667e+07      17779013.0     7.049560e+07   \n",
       "nm0000108       1.100000e+08      83526665.0     3.363031e+08   \n",
       "nm0000110       8.833333e+07     111478193.0     3.088756e+08   \n",
       "nm0000123       4.650000e+07      59497077.0     1.182193e+08   \n",
       "nm0000127       3.250000e+07      26462681.5     5.635853e+07   \n",
       "...                      ...             ...              ...   \n",
       "nm9822619       8.000000e+06      52287414.0     5.228741e+07   \n",
       "nm9856424       8.500000e+06      13610521.0     2.028877e+07   \n",
       "nm9893430       2.000000e+07      81261177.0     1.319447e+08   \n",
       "nm9932335       2.500000e+07        780326.0     7.803260e+05   \n",
       "nm9949004       1.070000e+07      18542974.0     3.134118e+07   \n",
       "\n",
       "           runtime_minutes  profit_margin  Horror    Action  Adventure  \\\n",
       "directors                                                                \n",
       "nm0000095       102.666667      69.928155     0.0  0.000000   0.000000   \n",
       "nm0000108       113.000000      53.787166     0.0  1.000000   0.500000   \n",
       "nm0000110       111.333333      68.349085     0.0  0.666667   0.333333   \n",
       "nm0000123       109.500000      63.152517     0.0  0.000000   0.000000   \n",
       "nm0000127       109.000000       4.437028     1.0  0.000000   0.000000   \n",
       "...                    ...            ...     ...       ...        ...   \n",
       "nm9822619        91.000000      84.699951     0.0  0.000000   0.000000   \n",
       "nm9856424        77.000000      58.104911     0.0  0.000000   0.000000   \n",
       "nm9893430              NaN      84.842131     0.0  0.000000   0.000000   \n",
       "nm9932335              NaN   -3103.789186     0.0  0.000000   0.000000   \n",
       "nm9949004              NaN      65.859617     0.0  0.000000   0.000000   \n",
       "\n",
       "            Fantasy  Sci-Fi  Thriller  Western  Animation    Comedy  Family  \\\n",
       "directors                                                                     \n",
       "nm0000095  0.000000     0.0  0.000000      0.0        0.0  0.666667     0.0   \n",
       "nm0000108  0.500000     0.5  0.500000      0.0        0.0  0.000000     0.0   \n",
       "nm0000110  0.333333     0.0  0.333333      0.0        0.0  0.000000     0.0   \n",
       "nm0000123  0.000000     0.0  0.500000      0.0        0.0  0.500000     0.0   \n",
       "nm0000127  0.000000     0.0  0.500000      0.0        0.0  0.000000     0.0   \n",
       "...             ...     ...       ...      ...        ...       ...     ...   \n",
       "nm9822619  0.000000     0.0  0.000000      0.0        0.0  0.000000     0.0   \n",
       "nm9856424  0.000000     0.0  0.000000      0.0        0.0  0.000000     0.0   \n",
       "nm9893430  0.000000     0.0  0.000000      0.0        0.0  0.000000     0.0   \n",
       "nm9932335  0.000000     0.0  0.000000      0.0        0.0  0.000000     0.0   \n",
       "nm9949004  0.000000     0.0  0.000000      0.0        0.0  1.000000     0.0   \n",
       "\n",
       "              Crime     Drama   Romance   Mystery    O  History  Sport  \\\n",
       "directors                                                                \n",
       "nm0000095  0.000000  0.666667  0.666667  0.000000  0.0      0.0    0.0   \n",
       "nm0000108  0.000000  0.000000  0.000000  0.000000  0.0      0.0    0.0   \n",
       "nm0000110  0.333333  0.666667  0.000000  0.333333  0.0      0.0    0.0   \n",
       "nm0000123  0.000000  1.000000  0.000000  0.000000  0.0      0.5    0.0   \n",
       "nm0000127  0.000000  0.000000  0.000000  1.000000  0.0      0.0    0.0   \n",
       "...             ...       ...       ...       ...  ...      ...    ...   \n",
       "nm9822619  0.000000  1.000000  0.000000  0.000000  0.0      0.0    0.0   \n",
       "nm9856424  0.000000  1.000000  0.000000  0.000000  0.0      0.0    0.0   \n",
       "nm9893430  0.000000  0.000000  0.000000  0.000000  0.0      0.0    0.0   \n",
       "nm9932335  0.000000  0.000000  0.000000  0.000000  0.0      0.0    1.0   \n",
       "nm9949004  0.000000  0.000000  0.000000  0.000000  0.0      0.0    0.0   \n",
       "\n",
       "           Biography  Documentary  War  Musical     Music  News  \n",
       "directors                                                        \n",
       "nm0000095        0.0          0.0  0.0      0.0  0.333333   0.0  \n",
       "nm0000108        0.0          0.0  0.0      0.0  0.000000   0.0  \n",
       "nm0000110        0.0          0.0  0.0      0.0  0.000000   0.0  \n",
       "nm0000123        0.0          0.0  0.0      0.0  0.000000   0.0  \n",
       "nm0000127        0.0          0.0  0.0      0.0  0.000000   0.0  \n",
       "...              ...          ...  ...      ...       ...   ...  \n",
       "nm9822619        0.0          0.0  0.0      0.0  0.000000   0.0  \n",
       "nm9856424        0.0          0.0  0.0      0.0  0.000000   0.0  \n",
       "nm9893430        0.0          0.0  0.0      0.0  1.000000   0.0  \n",
       "nm9932335        0.0          0.0  0.0      0.0  0.000000   0.0  \n",
       "nm9949004        0.0          0.0  0.0      0.0  0.000000   0.0  \n",
       "\n",
       "[1586 rows x 28 columns]"
      ]
     },
     "execution_count": 41,
     "metadata": {},
     "output_type": "execute_result"
    }
   ],
   "source": [
    "directors_df = df.groupby(['directors']).mean()\n",
    "directors_df"
   ]
  },
  {
   "cell_type": "code",
   "execution_count": null,
   "metadata": {},
   "outputs": [],
   "source": []
  },
  {
   "cell_type": "code",
   "execution_count": 42,
   "metadata": {},
   "outputs": [
    {
     "data": {
      "text/html": [
       "<div>\n",
       "<style scoped>\n",
       "    .dataframe tbody tr th:only-of-type {\n",
       "        vertical-align: middle;\n",
       "    }\n",
       "\n",
       "    .dataframe tbody tr th {\n",
       "        vertical-align: top;\n",
       "    }\n",
       "\n",
       "    .dataframe thead th {\n",
       "        text-align: right;\n",
       "    }\n",
       "</style>\n",
       "<table border=\"1\" class=\"dataframe\">\n",
       "  <thead>\n",
       "    <tr style=\"text-align: right;\">\n",
       "      <th></th>\n",
       "      <th>production_budget</th>\n",
       "      <th>domestic_gross</th>\n",
       "      <th>worldwide_gross</th>\n",
       "      <th>runtime_minutes</th>\n",
       "      <th>profit_margin</th>\n",
       "      <th>Horror</th>\n",
       "      <th>Action</th>\n",
       "      <th>Adventure</th>\n",
       "      <th>Fantasy</th>\n",
       "      <th>Sci-Fi</th>\n",
       "      <th>Thriller</th>\n",
       "      <th>Western</th>\n",
       "      <th>Animation</th>\n",
       "      <th>Comedy</th>\n",
       "      <th>Family</th>\n",
       "      <th>Crime</th>\n",
       "      <th>Drama</th>\n",
       "      <th>Romance</th>\n",
       "      <th>Mystery</th>\n",
       "      <th>O</th>\n",
       "      <th>History</th>\n",
       "      <th>Sport</th>\n",
       "      <th>Biography</th>\n",
       "      <th>Documentary</th>\n",
       "      <th>War</th>\n",
       "      <th>Musical</th>\n",
       "      <th>Music</th>\n",
       "      <th>News</th>\n",
       "    </tr>\n",
       "    <tr>\n",
       "      <th>Month</th>\n",
       "      <th></th>\n",
       "      <th></th>\n",
       "      <th></th>\n",
       "      <th></th>\n",
       "      <th></th>\n",
       "      <th></th>\n",
       "      <th></th>\n",
       "      <th></th>\n",
       "      <th></th>\n",
       "      <th></th>\n",
       "      <th></th>\n",
       "      <th></th>\n",
       "      <th></th>\n",
       "      <th></th>\n",
       "      <th></th>\n",
       "      <th></th>\n",
       "      <th></th>\n",
       "      <th></th>\n",
       "      <th></th>\n",
       "      <th></th>\n",
       "      <th></th>\n",
       "      <th></th>\n",
       "      <th></th>\n",
       "      <th></th>\n",
       "      <th></th>\n",
       "      <th></th>\n",
       "      <th></th>\n",
       "      <th></th>\n",
       "    </tr>\n",
       "  </thead>\n",
       "  <tbody>\n",
       "    <tr>\n",
       "      <th>01</th>\n",
       "      <td>2.680376e+07</td>\n",
       "      <td>3.036607e+07</td>\n",
       "      <td>6.625542e+07</td>\n",
       "      <td>101.055556</td>\n",
       "      <td>-878.664311</td>\n",
       "      <td>0.139706</td>\n",
       "      <td>0.323529</td>\n",
       "      <td>0.147059</td>\n",
       "      <td>0.080882</td>\n",
       "      <td>0.044118</td>\n",
       "      <td>0.183824</td>\n",
       "      <td>0.007353</td>\n",
       "      <td>0.044118</td>\n",
       "      <td>0.294118</td>\n",
       "      <td>0.051471</td>\n",
       "      <td>0.147059</td>\n",
       "      <td>0.477941</td>\n",
       "      <td>0.073529</td>\n",
       "      <td>0.066176</td>\n",
       "      <td>0.022059</td>\n",
       "      <td>0.036765</td>\n",
       "      <td>0.007353</td>\n",
       "      <td>0.036765</td>\n",
       "      <td>0.066176</td>\n",
       "      <td>0.000000</td>\n",
       "      <td>0.000000</td>\n",
       "      <td>0.022059</td>\n",
       "      <td>0.000000</td>\n",
       "    </tr>\n",
       "    <tr>\n",
       "      <th>02</th>\n",
       "      <td>3.728532e+07</td>\n",
       "      <td>4.937448e+07</td>\n",
       "      <td>1.080380e+08</td>\n",
       "      <td>100.792308</td>\n",
       "      <td>-1398.777165</td>\n",
       "      <td>0.134752</td>\n",
       "      <td>0.276596</td>\n",
       "      <td>0.191489</td>\n",
       "      <td>0.092199</td>\n",
       "      <td>0.056738</td>\n",
       "      <td>0.212766</td>\n",
       "      <td>0.000000</td>\n",
       "      <td>0.056738</td>\n",
       "      <td>0.234043</td>\n",
       "      <td>0.021277</td>\n",
       "      <td>0.113475</td>\n",
       "      <td>0.439716</td>\n",
       "      <td>0.148936</td>\n",
       "      <td>0.113475</td>\n",
       "      <td>0.007092</td>\n",
       "      <td>0.021277</td>\n",
       "      <td>0.007092</td>\n",
       "      <td>0.070922</td>\n",
       "      <td>0.092199</td>\n",
       "      <td>0.028369</td>\n",
       "      <td>0.007092</td>\n",
       "      <td>0.028369</td>\n",
       "      <td>0.000000</td>\n",
       "    </tr>\n",
       "    <tr>\n",
       "      <th>03</th>\n",
       "      <td>4.519473e+07</td>\n",
       "      <td>5.222215e+07</td>\n",
       "      <td>1.230380e+08</td>\n",
       "      <td>102.475904</td>\n",
       "      <td>-1162.012953</td>\n",
       "      <td>0.067797</td>\n",
       "      <td>0.242938</td>\n",
       "      <td>0.231638</td>\n",
       "      <td>0.112994</td>\n",
       "      <td>0.096045</td>\n",
       "      <td>0.124294</td>\n",
       "      <td>0.011299</td>\n",
       "      <td>0.062147</td>\n",
       "      <td>0.265537</td>\n",
       "      <td>0.084746</td>\n",
       "      <td>0.141243</td>\n",
       "      <td>0.542373</td>\n",
       "      <td>0.152542</td>\n",
       "      <td>0.079096</td>\n",
       "      <td>0.005650</td>\n",
       "      <td>0.005650</td>\n",
       "      <td>0.022599</td>\n",
       "      <td>0.067797</td>\n",
       "      <td>0.050847</td>\n",
       "      <td>0.022599</td>\n",
       "      <td>0.011299</td>\n",
       "      <td>0.022599</td>\n",
       "      <td>0.000000</td>\n",
       "    </tr>\n",
       "    <tr>\n",
       "      <th>04</th>\n",
       "      <td>2.996661e+07</td>\n",
       "      <td>3.662896e+07</td>\n",
       "      <td>9.216675e+07</td>\n",
       "      <td>100.630682</td>\n",
       "      <td>-1243.969028</td>\n",
       "      <td>0.163158</td>\n",
       "      <td>0.194737</td>\n",
       "      <td>0.115789</td>\n",
       "      <td>0.052632</td>\n",
       "      <td>0.084211</td>\n",
       "      <td>0.152632</td>\n",
       "      <td>0.005263</td>\n",
       "      <td>0.042105</td>\n",
       "      <td>0.326316</td>\n",
       "      <td>0.063158</td>\n",
       "      <td>0.168421</td>\n",
       "      <td>0.473684</td>\n",
       "      <td>0.126316</td>\n",
       "      <td>0.068421</td>\n",
       "      <td>0.010526</td>\n",
       "      <td>0.036842</td>\n",
       "      <td>0.026316</td>\n",
       "      <td>0.057895</td>\n",
       "      <td>0.068421</td>\n",
       "      <td>0.021053</td>\n",
       "      <td>0.000000</td>\n",
       "      <td>0.015789</td>\n",
       "      <td>0.000000</td>\n",
       "    </tr>\n",
       "    <tr>\n",
       "      <th>05</th>\n",
       "      <td>6.013859e+07</td>\n",
       "      <td>7.138188e+07</td>\n",
       "      <td>1.852245e+08</td>\n",
       "      <td>103.602941</td>\n",
       "      <td>-6456.996171</td>\n",
       "      <td>0.089041</td>\n",
       "      <td>0.267123</td>\n",
       "      <td>0.253425</td>\n",
       "      <td>0.068493</td>\n",
       "      <td>0.116438</td>\n",
       "      <td>0.123288</td>\n",
       "      <td>0.000000</td>\n",
       "      <td>0.041096</td>\n",
       "      <td>0.328767</td>\n",
       "      <td>0.054795</td>\n",
       "      <td>0.109589</td>\n",
       "      <td>0.431507</td>\n",
       "      <td>0.150685</td>\n",
       "      <td>0.041096</td>\n",
       "      <td>0.006849</td>\n",
       "      <td>0.013699</td>\n",
       "      <td>0.020548</td>\n",
       "      <td>0.041096</td>\n",
       "      <td>0.095890</td>\n",
       "      <td>0.013699</td>\n",
       "      <td>0.006849</td>\n",
       "      <td>0.013699</td>\n",
       "      <td>0.000000</td>\n",
       "    </tr>\n",
       "    <tr>\n",
       "      <th>06</th>\n",
       "      <td>5.674262e+07</td>\n",
       "      <td>8.115789e+07</td>\n",
       "      <td>2.001523e+08</td>\n",
       "      <td>103.601266</td>\n",
       "      <td>-568.335604</td>\n",
       "      <td>0.059524</td>\n",
       "      <td>0.267857</td>\n",
       "      <td>0.267857</td>\n",
       "      <td>0.059524</td>\n",
       "      <td>0.119048</td>\n",
       "      <td>0.077381</td>\n",
       "      <td>0.000000</td>\n",
       "      <td>0.083333</td>\n",
       "      <td>0.351190</td>\n",
       "      <td>0.023810</td>\n",
       "      <td>0.107143</td>\n",
       "      <td>0.464286</td>\n",
       "      <td>0.107143</td>\n",
       "      <td>0.077381</td>\n",
       "      <td>0.011905</td>\n",
       "      <td>0.035714</td>\n",
       "      <td>0.017857</td>\n",
       "      <td>0.065476</td>\n",
       "      <td>0.077381</td>\n",
       "      <td>0.023810</td>\n",
       "      <td>0.011905</td>\n",
       "      <td>0.053571</td>\n",
       "      <td>0.000000</td>\n",
       "    </tr>\n",
       "    <tr>\n",
       "      <th>07</th>\n",
       "      <td>4.852893e+07</td>\n",
       "      <td>6.323883e+07</td>\n",
       "      <td>1.625193e+08</td>\n",
       "      <td>103.457516</td>\n",
       "      <td>-584.727779</td>\n",
       "      <td>0.092025</td>\n",
       "      <td>0.282209</td>\n",
       "      <td>0.251534</td>\n",
       "      <td>0.073620</td>\n",
       "      <td>0.122699</td>\n",
       "      <td>0.134969</td>\n",
       "      <td>0.006135</td>\n",
       "      <td>0.073620</td>\n",
       "      <td>0.392638</td>\n",
       "      <td>0.073620</td>\n",
       "      <td>0.085890</td>\n",
       "      <td>0.398773</td>\n",
       "      <td>0.141104</td>\n",
       "      <td>0.079755</td>\n",
       "      <td>0.018405</td>\n",
       "      <td>0.042945</td>\n",
       "      <td>0.012270</td>\n",
       "      <td>0.018405</td>\n",
       "      <td>0.085890</td>\n",
       "      <td>0.000000</td>\n",
       "      <td>0.006135</td>\n",
       "      <td>0.018405</td>\n",
       "      <td>0.000000</td>\n",
       "    </tr>\n",
       "    <tr>\n",
       "      <th>08</th>\n",
       "      <td>3.058178e+07</td>\n",
       "      <td>3.888917e+07</td>\n",
       "      <td>7.934778e+07</td>\n",
       "      <td>99.345679</td>\n",
       "      <td>-1113.643603</td>\n",
       "      <td>0.135294</td>\n",
       "      <td>0.282353</td>\n",
       "      <td>0.152941</td>\n",
       "      <td>0.058824</td>\n",
       "      <td>0.041176</td>\n",
       "      <td>0.188235</td>\n",
       "      <td>0.005882</td>\n",
       "      <td>0.047059</td>\n",
       "      <td>0.270588</td>\n",
       "      <td>0.041176</td>\n",
       "      <td>0.182353</td>\n",
       "      <td>0.488235</td>\n",
       "      <td>0.100000</td>\n",
       "      <td>0.058824</td>\n",
       "      <td>0.000000</td>\n",
       "      <td>0.011765</td>\n",
       "      <td>0.017647</td>\n",
       "      <td>0.082353</td>\n",
       "      <td>0.076471</td>\n",
       "      <td>0.023529</td>\n",
       "      <td>0.000000</td>\n",
       "      <td>0.064706</td>\n",
       "      <td>0.000000</td>\n",
       "    </tr>\n",
       "    <tr>\n",
       "      <th>09</th>\n",
       "      <td>2.554325e+07</td>\n",
       "      <td>2.809846e+07</td>\n",
       "      <td>5.990691e+07</td>\n",
       "      <td>101.747126</td>\n",
       "      <td>-3166.865200</td>\n",
       "      <td>0.141361</td>\n",
       "      <td>0.235602</td>\n",
       "      <td>0.109948</td>\n",
       "      <td>0.005236</td>\n",
       "      <td>0.062827</td>\n",
       "      <td>0.178010</td>\n",
       "      <td>0.005236</td>\n",
       "      <td>0.047120</td>\n",
       "      <td>0.230366</td>\n",
       "      <td>0.036649</td>\n",
       "      <td>0.151832</td>\n",
       "      <td>0.523560</td>\n",
       "      <td>0.172775</td>\n",
       "      <td>0.068063</td>\n",
       "      <td>0.010471</td>\n",
       "      <td>0.020942</td>\n",
       "      <td>0.031414</td>\n",
       "      <td>0.109948</td>\n",
       "      <td>0.089005</td>\n",
       "      <td>0.010471</td>\n",
       "      <td>0.005236</td>\n",
       "      <td>0.020942</td>\n",
       "      <td>0.005236</td>\n",
       "    </tr>\n",
       "    <tr>\n",
       "      <th>10</th>\n",
       "      <td>2.572394e+07</td>\n",
       "      <td>2.906109e+07</td>\n",
       "      <td>6.804305e+07</td>\n",
       "      <td>103.178571</td>\n",
       "      <td>-2067.317126</td>\n",
       "      <td>0.150235</td>\n",
       "      <td>0.159624</td>\n",
       "      <td>0.075117</td>\n",
       "      <td>0.056338</td>\n",
       "      <td>0.046948</td>\n",
       "      <td>0.234742</td>\n",
       "      <td>0.004695</td>\n",
       "      <td>0.014085</td>\n",
       "      <td>0.211268</td>\n",
       "      <td>0.070423</td>\n",
       "      <td>0.154930</td>\n",
       "      <td>0.539906</td>\n",
       "      <td>0.075117</td>\n",
       "      <td>0.131455</td>\n",
       "      <td>0.018779</td>\n",
       "      <td>0.032864</td>\n",
       "      <td>0.037559</td>\n",
       "      <td>0.098592</td>\n",
       "      <td>0.098592</td>\n",
       "      <td>0.018779</td>\n",
       "      <td>0.014085</td>\n",
       "      <td>0.037559</td>\n",
       "      <td>0.000000</td>\n",
       "    </tr>\n",
       "    <tr>\n",
       "      <th>11</th>\n",
       "      <td>4.953335e+07</td>\n",
       "      <td>6.420945e+07</td>\n",
       "      <td>1.638438e+08</td>\n",
       "      <td>106.670659</td>\n",
       "      <td>-3790.482442</td>\n",
       "      <td>0.048913</td>\n",
       "      <td>0.201087</td>\n",
       "      <td>0.239130</td>\n",
       "      <td>0.086957</td>\n",
       "      <td>0.048913</td>\n",
       "      <td>0.125000</td>\n",
       "      <td>0.005435</td>\n",
       "      <td>0.086957</td>\n",
       "      <td>0.288043</td>\n",
       "      <td>0.076087</td>\n",
       "      <td>0.103261</td>\n",
       "      <td>0.570652</td>\n",
       "      <td>0.114130</td>\n",
       "      <td>0.032609</td>\n",
       "      <td>0.016304</td>\n",
       "      <td>0.043478</td>\n",
       "      <td>0.032609</td>\n",
       "      <td>0.152174</td>\n",
       "      <td>0.070652</td>\n",
       "      <td>0.010870</td>\n",
       "      <td>0.005435</td>\n",
       "      <td>0.027174</td>\n",
       "      <td>0.000000</td>\n",
       "    </tr>\n",
       "    <tr>\n",
       "      <th>12</th>\n",
       "      <td>4.333392e+07</td>\n",
       "      <td>6.113456e+07</td>\n",
       "      <td>1.499949e+08</td>\n",
       "      <td>106.876923</td>\n",
       "      <td>-20502.516751</td>\n",
       "      <td>0.083333</td>\n",
       "      <td>0.180556</td>\n",
       "      <td>0.231481</td>\n",
       "      <td>0.064815</td>\n",
       "      <td>0.050926</td>\n",
       "      <td>0.115741</td>\n",
       "      <td>0.018519</td>\n",
       "      <td>0.064815</td>\n",
       "      <td>0.296296</td>\n",
       "      <td>0.078704</td>\n",
       "      <td>0.101852</td>\n",
       "      <td>0.509259</td>\n",
       "      <td>0.078704</td>\n",
       "      <td>0.041667</td>\n",
       "      <td>0.009259</td>\n",
       "      <td>0.041667</td>\n",
       "      <td>0.018519</td>\n",
       "      <td>0.134259</td>\n",
       "      <td>0.055556</td>\n",
       "      <td>0.004630</td>\n",
       "      <td>0.009259</td>\n",
       "      <td>0.027778</td>\n",
       "      <td>0.000000</td>\n",
       "    </tr>\n",
       "  </tbody>\n",
       "</table>\n",
       "</div>"
      ],
      "text/plain": [
       "       production_budget  domestic_gross  worldwide_gross  runtime_minutes  \\\n",
       "Month                                                                        \n",
       "01          2.680376e+07    3.036607e+07     6.625542e+07       101.055556   \n",
       "02          3.728532e+07    4.937448e+07     1.080380e+08       100.792308   \n",
       "03          4.519473e+07    5.222215e+07     1.230380e+08       102.475904   \n",
       "04          2.996661e+07    3.662896e+07     9.216675e+07       100.630682   \n",
       "05          6.013859e+07    7.138188e+07     1.852245e+08       103.602941   \n",
       "06          5.674262e+07    8.115789e+07     2.001523e+08       103.601266   \n",
       "07          4.852893e+07    6.323883e+07     1.625193e+08       103.457516   \n",
       "08          3.058178e+07    3.888917e+07     7.934778e+07        99.345679   \n",
       "09          2.554325e+07    2.809846e+07     5.990691e+07       101.747126   \n",
       "10          2.572394e+07    2.906109e+07     6.804305e+07       103.178571   \n",
       "11          4.953335e+07    6.420945e+07     1.638438e+08       106.670659   \n",
       "12          4.333392e+07    6.113456e+07     1.499949e+08       106.876923   \n",
       "\n",
       "       profit_margin    Horror    Action  Adventure   Fantasy    Sci-Fi  \\\n",
       "Month                                                                     \n",
       "01       -878.664311  0.139706  0.323529   0.147059  0.080882  0.044118   \n",
       "02      -1398.777165  0.134752  0.276596   0.191489  0.092199  0.056738   \n",
       "03      -1162.012953  0.067797  0.242938   0.231638  0.112994  0.096045   \n",
       "04      -1243.969028  0.163158  0.194737   0.115789  0.052632  0.084211   \n",
       "05      -6456.996171  0.089041  0.267123   0.253425  0.068493  0.116438   \n",
       "06       -568.335604  0.059524  0.267857   0.267857  0.059524  0.119048   \n",
       "07       -584.727779  0.092025  0.282209   0.251534  0.073620  0.122699   \n",
       "08      -1113.643603  0.135294  0.282353   0.152941  0.058824  0.041176   \n",
       "09      -3166.865200  0.141361  0.235602   0.109948  0.005236  0.062827   \n",
       "10      -2067.317126  0.150235  0.159624   0.075117  0.056338  0.046948   \n",
       "11      -3790.482442  0.048913  0.201087   0.239130  0.086957  0.048913   \n",
       "12     -20502.516751  0.083333  0.180556   0.231481  0.064815  0.050926   \n",
       "\n",
       "       Thriller   Western  Animation    Comedy    Family     Crime     Drama  \\\n",
       "Month                                                                          \n",
       "01     0.183824  0.007353   0.044118  0.294118  0.051471  0.147059  0.477941   \n",
       "02     0.212766  0.000000   0.056738  0.234043  0.021277  0.113475  0.439716   \n",
       "03     0.124294  0.011299   0.062147  0.265537  0.084746  0.141243  0.542373   \n",
       "04     0.152632  0.005263   0.042105  0.326316  0.063158  0.168421  0.473684   \n",
       "05     0.123288  0.000000   0.041096  0.328767  0.054795  0.109589  0.431507   \n",
       "06     0.077381  0.000000   0.083333  0.351190  0.023810  0.107143  0.464286   \n",
       "07     0.134969  0.006135   0.073620  0.392638  0.073620  0.085890  0.398773   \n",
       "08     0.188235  0.005882   0.047059  0.270588  0.041176  0.182353  0.488235   \n",
       "09     0.178010  0.005236   0.047120  0.230366  0.036649  0.151832  0.523560   \n",
       "10     0.234742  0.004695   0.014085  0.211268  0.070423  0.154930  0.539906   \n",
       "11     0.125000  0.005435   0.086957  0.288043  0.076087  0.103261  0.570652   \n",
       "12     0.115741  0.018519   0.064815  0.296296  0.078704  0.101852  0.509259   \n",
       "\n",
       "        Romance   Mystery         O   History     Sport  Biography  \\\n",
       "Month                                                                \n",
       "01     0.073529  0.066176  0.022059  0.036765  0.007353   0.036765   \n",
       "02     0.148936  0.113475  0.007092  0.021277  0.007092   0.070922   \n",
       "03     0.152542  0.079096  0.005650  0.005650  0.022599   0.067797   \n",
       "04     0.126316  0.068421  0.010526  0.036842  0.026316   0.057895   \n",
       "05     0.150685  0.041096  0.006849  0.013699  0.020548   0.041096   \n",
       "06     0.107143  0.077381  0.011905  0.035714  0.017857   0.065476   \n",
       "07     0.141104  0.079755  0.018405  0.042945  0.012270   0.018405   \n",
       "08     0.100000  0.058824  0.000000  0.011765  0.017647   0.082353   \n",
       "09     0.172775  0.068063  0.010471  0.020942  0.031414   0.109948   \n",
       "10     0.075117  0.131455  0.018779  0.032864  0.037559   0.098592   \n",
       "11     0.114130  0.032609  0.016304  0.043478  0.032609   0.152174   \n",
       "12     0.078704  0.041667  0.009259  0.041667  0.018519   0.134259   \n",
       "\n",
       "       Documentary       War   Musical     Music      News  \n",
       "Month                                                       \n",
       "01        0.066176  0.000000  0.000000  0.022059  0.000000  \n",
       "02        0.092199  0.028369  0.007092  0.028369  0.000000  \n",
       "03        0.050847  0.022599  0.011299  0.022599  0.000000  \n",
       "04        0.068421  0.021053  0.000000  0.015789  0.000000  \n",
       "05        0.095890  0.013699  0.006849  0.013699  0.000000  \n",
       "06        0.077381  0.023810  0.011905  0.053571  0.000000  \n",
       "07        0.085890  0.000000  0.006135  0.018405  0.000000  \n",
       "08        0.076471  0.023529  0.000000  0.064706  0.000000  \n",
       "09        0.089005  0.010471  0.005236  0.020942  0.005236  \n",
       "10        0.098592  0.018779  0.014085  0.037559  0.000000  \n",
       "11        0.070652  0.010870  0.005435  0.027174  0.000000  \n",
       "12        0.055556  0.004630  0.009259  0.027778  0.000000  "
      ]
     },
     "execution_count": 42,
     "metadata": {},
     "output_type": "execute_result"
    }
   ],
   "source": [
    "month_df = df.groupby(['Month']).mean()\n",
    "month_df"
   ]
  },
  {
   "cell_type": "code",
   "execution_count": null,
   "metadata": {},
   "outputs": [],
   "source": []
  },
  {
   "cell_type": "code",
   "execution_count": null,
   "metadata": {},
   "outputs": [],
   "source": []
  },
  {
   "cell_type": "code",
   "execution_count": 43,
   "metadata": {},
   "outputs": [],
   "source": [
    "df3 = df.merge(files_dict['bom_movie_gross'], how='inner', left_on='movie', right_on='title')"
   ]
  },
  {
   "cell_type": "code",
   "execution_count": 44,
   "metadata": {},
   "outputs": [],
   "source": [
    "df3.drop(['title', 'domestic_gross_y', 'foreign_gross', 'year', 'tconst'], axis=1, inplace=True)"
   ]
  },
  {
   "cell_type": "code",
   "execution_count": null,
   "metadata": {},
   "outputs": [],
   "source": []
  },
  {
   "cell_type": "code",
   "execution_count": null,
   "metadata": {},
   "outputs": [],
   "source": []
  },
  {
   "cell_type": "code",
   "execution_count": null,
   "metadata": {},
   "outputs": [],
   "source": []
  },
  {
   "cell_type": "code",
   "execution_count": 45,
   "metadata": {},
   "outputs": [],
   "source": [
    "vote_df = df.merge(files_dict['tmdb_movies'], left_on='movie', right_on='original_title', how='left')\n"
   ]
  },
  {
   "cell_type": "code",
   "execution_count": 46,
   "metadata": {},
   "outputs": [],
   "source": [
    "vote_df.drop(['Unnamed: 0', 'genre_ids', 'id', 'original_language', 'original_title', 'title', 'release_date_y'], axis=1, inplace=True)"
   ]
  },
  {
   "cell_type": "code",
   "execution_count": 47,
   "metadata": {},
   "outputs": [
    {
     "data": {
      "text/html": [
       "<div>\n",
       "<style scoped>\n",
       "    .dataframe tbody tr th:only-of-type {\n",
       "        vertical-align: middle;\n",
       "    }\n",
       "\n",
       "    .dataframe tbody tr th {\n",
       "        vertical-align: top;\n",
       "    }\n",
       "\n",
       "    .dataframe thead th {\n",
       "        text-align: right;\n",
       "    }\n",
       "</style>\n",
       "<table border=\"1\" class=\"dataframe\">\n",
       "  <thead>\n",
       "    <tr style=\"text-align: right;\">\n",
       "      <th></th>\n",
       "      <th>release_date_x</th>\n",
       "      <th>movie</th>\n",
       "      <th>production_budget</th>\n",
       "      <th>domestic_gross</th>\n",
       "      <th>worldwide_gross</th>\n",
       "      <th>tconst</th>\n",
       "      <th>runtime_minutes</th>\n",
       "      <th>genres</th>\n",
       "      <th>directors</th>\n",
       "      <th>profit_margin</th>\n",
       "      <th>Month</th>\n",
       "      <th>Horror</th>\n",
       "      <th>Action</th>\n",
       "      <th>Adventure</th>\n",
       "      <th>Fantasy</th>\n",
       "      <th>Sci-Fi</th>\n",
       "      <th>Thriller</th>\n",
       "      <th>Western</th>\n",
       "      <th>Animation</th>\n",
       "      <th>Comedy</th>\n",
       "      <th>Family</th>\n",
       "      <th>Crime</th>\n",
       "      <th>Drama</th>\n",
       "      <th>Romance</th>\n",
       "      <th>Mystery</th>\n",
       "      <th>O</th>\n",
       "      <th>History</th>\n",
       "      <th>Sport</th>\n",
       "      <th>Biography</th>\n",
       "      <th>Documentary</th>\n",
       "      <th>War</th>\n",
       "      <th>Musical</th>\n",
       "      <th>Music</th>\n",
       "      <th>News</th>\n",
       "      <th>popularity</th>\n",
       "      <th>vote_average</th>\n",
       "      <th>vote_count</th>\n",
       "    </tr>\n",
       "  </thead>\n",
       "  <tbody>\n",
       "    <tr>\n",
       "      <th>0</th>\n",
       "      <td>2015-07-10</td>\n",
       "      <td>The Gallows</td>\n",
       "      <td>100000</td>\n",
       "      <td>22764410</td>\n",
       "      <td>41656474</td>\n",
       "      <td>tt2309260</td>\n",
       "      <td>81.0</td>\n",
       "      <td>[Horror, Mystery, Thriller]</td>\n",
       "      <td>nm4000389</td>\n",
       "      <td>99.759941</td>\n",
       "      <td>07</td>\n",
       "      <td>1.0</td>\n",
       "      <td>0.0</td>\n",
       "      <td>0.0</td>\n",
       "      <td>0.0</td>\n",
       "      <td>0.0</td>\n",
       "      <td>1.0</td>\n",
       "      <td>0.0</td>\n",
       "      <td>0.0</td>\n",
       "      <td>0.0</td>\n",
       "      <td>0.0</td>\n",
       "      <td>0.0</td>\n",
       "      <td>0.0</td>\n",
       "      <td>0.0</td>\n",
       "      <td>1.0</td>\n",
       "      <td>0.0</td>\n",
       "      <td>0.0</td>\n",
       "      <td>0.0</td>\n",
       "      <td>0.0</td>\n",
       "      <td>0.0</td>\n",
       "      <td>0.0</td>\n",
       "      <td>0.0</td>\n",
       "      <td>0.0</td>\n",
       "      <td>0.0</td>\n",
       "      <td>9.166</td>\n",
       "      <td>4.8</td>\n",
       "      <td>591.0</td>\n",
       "    </tr>\n",
       "    <tr>\n",
       "      <th>1</th>\n",
       "      <td>1942-08-13</td>\n",
       "      <td>Bambi</td>\n",
       "      <td>858000</td>\n",
       "      <td>102797000</td>\n",
       "      <td>268000000</td>\n",
       "      <td>tt2668120</td>\n",
       "      <td>58.0</td>\n",
       "      <td>[Biography, Documentary]</td>\n",
       "      <td>nm0509852</td>\n",
       "      <td>99.679851</td>\n",
       "      <td>08</td>\n",
       "      <td>0.0</td>\n",
       "      <td>0.0</td>\n",
       "      <td>0.0</td>\n",
       "      <td>0.0</td>\n",
       "      <td>0.0</td>\n",
       "      <td>0.0</td>\n",
       "      <td>0.0</td>\n",
       "      <td>0.0</td>\n",
       "      <td>0.0</td>\n",
       "      <td>0.0</td>\n",
       "      <td>0.0</td>\n",
       "      <td>0.0</td>\n",
       "      <td>0.0</td>\n",
       "      <td>0.0</td>\n",
       "      <td>0.0</td>\n",
       "      <td>0.0</td>\n",
       "      <td>0.0</td>\n",
       "      <td>1.0</td>\n",
       "      <td>1.0</td>\n",
       "      <td>0.0</td>\n",
       "      <td>0.0</td>\n",
       "      <td>0.0</td>\n",
       "      <td>0.0</td>\n",
       "      <td>NaN</td>\n",
       "      <td>NaN</td>\n",
       "      <td>NaN</td>\n",
       "    </tr>\n",
       "  </tbody>\n",
       "</table>\n",
       "</div>"
      ],
      "text/plain": [
       "  release_date_x        movie  production_budget  domestic_gross  \\\n",
       "0     2015-07-10  The Gallows             100000        22764410   \n",
       "1     1942-08-13        Bambi             858000       102797000   \n",
       "\n",
       "   worldwide_gross     tconst  runtime_minutes                       genres  \\\n",
       "0         41656474  tt2309260             81.0  [Horror, Mystery, Thriller]   \n",
       "1        268000000  tt2668120             58.0     [Biography, Documentary]   \n",
       "\n",
       "   directors  profit_margin Month  Horror  Action  Adventure  Fantasy  Sci-Fi  \\\n",
       "0  nm4000389      99.759941    07     1.0     0.0        0.0      0.0     0.0   \n",
       "1  nm0509852      99.679851    08     0.0     0.0        0.0      0.0     0.0   \n",
       "\n",
       "   Thriller  Western  Animation  Comedy  Family  Crime  Drama  Romance  \\\n",
       "0       1.0      0.0        0.0     0.0     0.0    0.0    0.0      0.0   \n",
       "1       0.0      0.0        0.0     0.0     0.0    0.0    0.0      0.0   \n",
       "\n",
       "   Mystery    O  History  Sport  Biography  Documentary  War  Musical  Music  \\\n",
       "0      1.0  0.0      0.0    0.0        0.0          0.0  0.0      0.0    0.0   \n",
       "1      0.0  0.0      0.0    0.0        1.0          1.0  0.0      0.0    0.0   \n",
       "\n",
       "   News  popularity  vote_average  vote_count  \n",
       "0   0.0       9.166           4.8       591.0  \n",
       "1   0.0         NaN           NaN         NaN  "
      ]
     },
     "execution_count": 47,
     "metadata": {},
     "output_type": "execute_result"
    }
   ],
   "source": [
    "vote_df.drop_duplicates(subset='movie', inplace=True)\n",
    "vote_df.head(2)"
   ]
  },
  {
   "cell_type": "code",
   "execution_count": 48,
   "metadata": {
    "scrolled": true
   },
   "outputs": [
    {
     "data": {
      "text/plain": [
       "movie\n",
       "The Gallows                        99.759941\n",
       "Bambi                              99.679851\n",
       "Rocky                              99.555556\n",
       "Snow White and the Seven Dwarfs    99.195352\n",
       "The Devil Inside                   99.017291\n",
       "Name: profit_margin, dtype: float64"
      ]
     },
     "execution_count": 48,
     "metadata": {},
     "output_type": "execute_result"
    }
   ],
   "source": [
    "top_movie_profit = vote_df.groupby(['movie']).mean()['profit_margin'].sort_values( ascending=False)[:10]\n",
    "top_movie_profit.head()"
   ]
  },
  {
   "cell_type": "code",
   "execution_count": null,
   "metadata": {},
   "outputs": [],
   "source": []
  },
  {
   "cell_type": "code",
   "execution_count": null,
   "metadata": {},
   "outputs": [],
   "source": []
  },
  {
   "cell_type": "code",
   "execution_count": null,
   "metadata": {},
   "outputs": [],
   "source": []
  },
  {
   "cell_type": "code",
   "execution_count": null,
   "metadata": {},
   "outputs": [],
   "source": []
  },
  {
   "cell_type": "code",
   "execution_count": null,
   "metadata": {},
   "outputs": [],
   "source": []
  },
  {
   "cell_type": "code",
   "execution_count": null,
   "metadata": {},
   "outputs": [],
   "source": []
  },
  {
   "cell_type": "code",
   "execution_count": null,
   "metadata": {},
   "outputs": [],
   "source": []
  },
  {
   "cell_type": "code",
   "execution_count": null,
   "metadata": {},
   "outputs": [],
   "source": []
  },
  {
   "cell_type": "code",
   "execution_count": null,
   "metadata": {},
   "outputs": [],
   "source": []
  },
  {
   "cell_type": "code",
   "execution_count": null,
   "metadata": {},
   "outputs": [],
   "source": []
  },
  {
   "cell_type": "code",
   "execution_count": null,
   "metadata": {},
   "outputs": [],
   "source": []
  },
  {
   "cell_type": "markdown",
   "metadata": {},
   "source": [
    "                                                   .\n",
    "                                                   .\n",
    "                                                   . \n",
    "                                                   .\n",
    "                                                   .\n",
    "                                                   .\n",
    "                                                   .\n",
    "                                                   .\n",
    "                                                   .\n",
    "                                CREATE GROUPBY WITH CLEAN GRAPHS\n",
    "                                                   .\n",
    "                                                   .\n",
    "                                                   . \n",
    "                                                   .\n",
    "                                                   .\n",
    "                                                   .\n",
    "                                                   .\n",
    "                                                   .\n",
    "                                                   ."
   ]
  },
  {
   "cell_type": "code",
   "execution_count": 49,
   "metadata": {},
   "outputs": [
    {
     "data": {
      "image/png": "[encoded data removed]",
      "text/plain": [
       "<Figure size 936x576 with 1 Axes>"
      ]
     },
     "metadata": {
      "needs_background": "light"
     },
     "output_type": "display_data"
    }
   ],
   "source": [
    "top_movie_profit.plot(kind='barh', figsize=(13,8))\n",
    "plt.title('Top 10 Most Profitable Movies')\n",
    "plt.xlabel('Progit Margin %')\n",
    "plt.ylabel('Movies')\n",
    "plt.show()"
   ]
  },
  {
   "cell_type": "code",
   "execution_count": null,
   "metadata": {},
   "outputs": [],
   "source": []
  },
  {
   "cell_type": "code",
   "execution_count": null,
   "metadata": {},
   "outputs": [],
   "source": []
  },
  {
   "cell_type": "code",
   "execution_count": null,
   "metadata": {},
   "outputs": [],
   "source": []
  },
  {
   "cell_type": "code",
   "execution_count": null,
   "metadata": {},
   "outputs": [],
   "source": []
  },
  {
   "cell_type": "code",
   "execution_count": null,
   "metadata": {},
   "outputs": [],
   "source": []
  },
  {
   "cell_type": "code",
   "execution_count": 50,
   "metadata": {},
   "outputs": [
    {
     "data": {
      "text/plain": [
       "directors\n",
       "nm0000095      69.928155\n",
       "nm0000108      53.787166\n",
       "nm0000110      68.349085\n",
       "nm0000123      63.152517\n",
       "nm0000127       4.437028\n",
       "                ...     \n",
       "nm9822619      84.699951\n",
       "nm9856424      58.104911\n",
       "nm9893430      84.842131\n",
       "nm9932335   -3103.789186\n",
       "nm9949004      65.859617\n",
       "Name: profit_margin, Length: 1586, dtype: float64"
      ]
     },
     "execution_count": 50,
     "metadata": {},
     "output_type": "execute_result"
    }
   ],
   "source": [
    "\n",
    "director_profit_df = df.groupby('directors')['profit_margin'].mean()\n",
    "director_profit_df"
   ]
  },
  {
   "cell_type": "code",
   "execution_count": 51,
   "metadata": {},
   "outputs": [
    {
     "data": {
      "text/plain": [
       "directors\n",
       "nm4000389    99.759941\n",
       "nm0509852    99.679851\n",
       "nm1126847    99.555556\n",
       "nm8856734    99.195352\n",
       "nm0068587    99.017291\n",
       "nm0831321    98.953712\n",
       "nm0300174    98.446341\n",
       "nm0131969    98.415694\n",
       "nm0931095    98.309974\n",
       "nm1406121    98.207659\n",
       "nm1443502    98.042041\n",
       "nm0662086    97.642161\n",
       "nm1413364    97.585006\n",
       "nm0910852    97.263562\n",
       "nm5770452    97.212641\n",
       "nm4318159    96.775886\n",
       "nm1581380    96.639932\n",
       "nm4691473    96.500000\n",
       "nm1160962    96.499041\n",
       "nm1491669    96.320721\n",
       "Name: profit_margin, dtype: float64"
      ]
     },
     "execution_count": 51,
     "metadata": {},
     "output_type": "execute_result"
    }
   ],
   "source": [
    "dir_top_20 = director_profit_df.sort_values(ascending=False)[:20]\n",
    "dir_top_20"
   ]
  },
  {
   "cell_type": "code",
   "execution_count": 52,
   "metadata": {},
   "outputs": [
    {
     "data": {
      "image/png": "[encoded data removed]",
      "text/plain": [
       "<Figure size 936x576 with 1 Axes>"
      ]
     },
     "metadata": {
      "needs_background": "light"
     },
     "output_type": "display_data"
    }
   ],
   "source": [
    "dir_top_20.plot(kind='bar', figsize=(13,8))\n",
    "plt.title('Top 25 Most Profitable Directors')\n",
    "plt.xlabel('Directors')\n",
    "plt.ylabel('Margin Profit %')\n",
    "plt.legend()\n",
    "plt.grid(True)\n",
    "\n",
    "plt.show()"
   ]
  },
  {
   "cell_type": "code",
   "execution_count": null,
   "metadata": {},
   "outputs": [],
   "source": []
  },
  {
   "cell_type": "code",
   "execution_count": null,
   "metadata": {},
   "outputs": [],
   "source": []
  },
  {
   "cell_type": "code",
   "execution_count": null,
   "metadata": {},
   "outputs": [],
   "source": [
    "\n"
   ]
  },
  {
   "cell_type": "code",
   "execution_count": null,
   "metadata": {},
   "outputs": [],
   "source": [
    "\n"
   ]
  },
  {
   "cell_type": "code",
   "execution_count": 53,
   "metadata": {},
   "outputs": [
    {
     "data": {
      "text/plain": [
       "Month\n",
       "01    6.625542e+07\n",
       "02    1.080380e+08\n",
       "03    1.230380e+08\n",
       "04    9.216675e+07\n",
       "05    1.852245e+08\n",
       "06    2.001523e+08\n",
       "07    1.625193e+08\n",
       "08    7.934778e+07\n",
       "09    5.990691e+07\n",
       "10    6.804305e+07\n",
       "11    1.638438e+08\n",
       "12    1.499949e+08\n",
       "Name: worldwide_gross, dtype: float64"
      ]
     },
     "execution_count": 53,
     "metadata": {},
     "output_type": "execute_result"
    }
   ],
   "source": [
    "month_gross_df = df.groupby(['Month'])['worldwide_gross'].mean()\n",
    "month_gross_df"
   ]
  },
  {
   "cell_type": "code",
   "execution_count": 54,
   "metadata": {},
   "outputs": [
    {
     "data": {
      "text/plain": [
       "Month\n",
       "06    2.001523e+08\n",
       "05    1.852245e+08\n",
       "11    1.638438e+08\n",
       "07    1.625193e+08\n",
       "12    1.499949e+08\n",
       "03    1.230380e+08\n",
       "02    1.080380e+08\n",
       "04    9.216675e+07\n",
       "08    7.934778e+07\n",
       "10    6.804305e+07\n",
       "01    6.625542e+07\n",
       "09    5.990691e+07\n",
       "Name: worldwide_gross, dtype: float64"
      ]
     },
     "execution_count": 54,
     "metadata": {},
     "output_type": "execute_result"
    }
   ],
   "source": [
    "month_gross_df.sort_values(ascending=False)"
   ]
  },
  {
   "cell_type": "code",
   "execution_count": 55,
   "metadata": {},
   "outputs": [
    {
     "data": {
      "image/png": "[encoded data removed]",
      "text/plain": [
       "<Figure size 432x288 with 1 Axes>"
      ]
     },
     "metadata": {
      "needs_background": "light"
     },
     "output_type": "display_data"
    }
   ],
   "source": [
    "month_gross_df.plot(kind='line')\n",
    "plt.title('Worldwide Gross Profit by Release Months')\n",
    "plt.xlabel('Worldwide Gross Profit')\n",
    "plt.legend()\n",
    "plt.show()"
   ]
  },
  {
   "cell_type": "code",
   "execution_count": null,
   "metadata": {},
   "outputs": [],
   "source": [
    "\n"
   ]
  },
  {
   "cell_type": "code",
   "execution_count": 56,
   "metadata": {},
   "outputs": [
    {
     "data": {
      "text/html": [
       "<div>\n",
       "<style scoped>\n",
       "    .dataframe tbody tr th:only-of-type {\n",
       "        vertical-align: middle;\n",
       "    }\n",
       "\n",
       "    .dataframe tbody tr th {\n",
       "        vertical-align: top;\n",
       "    }\n",
       "\n",
       "    .dataframe thead th {\n",
       "        text-align: right;\n",
       "    }\n",
       "</style>\n",
       "<table border=\"1\" class=\"dataframe\">\n",
       "  <thead>\n",
       "    <tr style=\"text-align: right;\">\n",
       "      <th></th>\n",
       "      <th>release_date_x</th>\n",
       "      <th>movie</th>\n",
       "      <th>production_budget</th>\n",
       "      <th>domestic_gross</th>\n",
       "      <th>worldwide_gross</th>\n",
       "      <th>tconst</th>\n",
       "      <th>runtime_minutes</th>\n",
       "      <th>genres</th>\n",
       "      <th>directors</th>\n",
       "      <th>profit_margin</th>\n",
       "      <th>Month</th>\n",
       "      <th>Horror</th>\n",
       "      <th>Action</th>\n",
       "      <th>Adventure</th>\n",
       "      <th>Fantasy</th>\n",
       "      <th>Sci-Fi</th>\n",
       "      <th>Thriller</th>\n",
       "      <th>Western</th>\n",
       "      <th>Animation</th>\n",
       "      <th>Comedy</th>\n",
       "      <th>Family</th>\n",
       "      <th>Crime</th>\n",
       "      <th>Drama</th>\n",
       "      <th>Romance</th>\n",
       "      <th>Mystery</th>\n",
       "      <th>O</th>\n",
       "      <th>History</th>\n",
       "      <th>Sport</th>\n",
       "      <th>Biography</th>\n",
       "      <th>Documentary</th>\n",
       "      <th>War</th>\n",
       "      <th>Musical</th>\n",
       "      <th>Music</th>\n",
       "      <th>News</th>\n",
       "      <th>popularity</th>\n",
       "      <th>vote_average</th>\n",
       "      <th>vote_count</th>\n",
       "    </tr>\n",
       "  </thead>\n",
       "  <tbody>\n",
       "    <tr>\n",
       "      <th>0</th>\n",
       "      <td>2015-07-10</td>\n",
       "      <td>The Gallows</td>\n",
       "      <td>100000</td>\n",
       "      <td>22764410</td>\n",
       "      <td>41656474</td>\n",
       "      <td>tt2309260</td>\n",
       "      <td>81.0</td>\n",
       "      <td>[Horror, Mystery, Thriller]</td>\n",
       "      <td>nm4000389</td>\n",
       "      <td>99.759941</td>\n",
       "      <td>07</td>\n",
       "      <td>1.0</td>\n",
       "      <td>0.0</td>\n",
       "      <td>0.0</td>\n",
       "      <td>0.0</td>\n",
       "      <td>0.0</td>\n",
       "      <td>1.0</td>\n",
       "      <td>0.0</td>\n",
       "      <td>0.0</td>\n",
       "      <td>0.0</td>\n",
       "      <td>0.0</td>\n",
       "      <td>0.0</td>\n",
       "      <td>0.0</td>\n",
       "      <td>0.0</td>\n",
       "      <td>1.0</td>\n",
       "      <td>0.0</td>\n",
       "      <td>0.0</td>\n",
       "      <td>0.0</td>\n",
       "      <td>0.0</td>\n",
       "      <td>0.0</td>\n",
       "      <td>0.0</td>\n",
       "      <td>0.0</td>\n",
       "      <td>0.0</td>\n",
       "      <td>0.0</td>\n",
       "      <td>9.166</td>\n",
       "      <td>4.8</td>\n",
       "      <td>591.0</td>\n",
       "    </tr>\n",
       "    <tr>\n",
       "      <th>1</th>\n",
       "      <td>1942-08-13</td>\n",
       "      <td>Bambi</td>\n",
       "      <td>858000</td>\n",
       "      <td>102797000</td>\n",
       "      <td>268000000</td>\n",
       "      <td>tt2668120</td>\n",
       "      <td>58.0</td>\n",
       "      <td>[Biography, Documentary]</td>\n",
       "      <td>nm0509852</td>\n",
       "      <td>99.679851</td>\n",
       "      <td>08</td>\n",
       "      <td>0.0</td>\n",
       "      <td>0.0</td>\n",
       "      <td>0.0</td>\n",
       "      <td>0.0</td>\n",
       "      <td>0.0</td>\n",
       "      <td>0.0</td>\n",
       "      <td>0.0</td>\n",
       "      <td>0.0</td>\n",
       "      <td>0.0</td>\n",
       "      <td>0.0</td>\n",
       "      <td>0.0</td>\n",
       "      <td>0.0</td>\n",
       "      <td>0.0</td>\n",
       "      <td>0.0</td>\n",
       "      <td>0.0</td>\n",
       "      <td>0.0</td>\n",
       "      <td>0.0</td>\n",
       "      <td>1.0</td>\n",
       "      <td>1.0</td>\n",
       "      <td>0.0</td>\n",
       "      <td>0.0</td>\n",
       "      <td>0.0</td>\n",
       "      <td>0.0</td>\n",
       "      <td>NaN</td>\n",
       "      <td>NaN</td>\n",
       "      <td>NaN</td>\n",
       "    </tr>\n",
       "    <tr>\n",
       "      <th>2</th>\n",
       "      <td>1976-11-21</td>\n",
       "      <td>Rocky</td>\n",
       "      <td>1000000</td>\n",
       "      <td>117235147</td>\n",
       "      <td>225000000</td>\n",
       "      <td>tt3080284</td>\n",
       "      <td>136.0</td>\n",
       "      <td>[Action, Comedy, Drama]</td>\n",
       "      <td>nm1126847</td>\n",
       "      <td>99.555556</td>\n",
       "      <td>11</td>\n",
       "      <td>0.0</td>\n",
       "      <td>1.0</td>\n",
       "      <td>0.0</td>\n",
       "      <td>0.0</td>\n",
       "      <td>0.0</td>\n",
       "      <td>0.0</td>\n",
       "      <td>0.0</td>\n",
       "      <td>0.0</td>\n",
       "      <td>1.0</td>\n",
       "      <td>0.0</td>\n",
       "      <td>0.0</td>\n",
       "      <td>1.0</td>\n",
       "      <td>0.0</td>\n",
       "      <td>0.0</td>\n",
       "      <td>0.0</td>\n",
       "      <td>0.0</td>\n",
       "      <td>0.0</td>\n",
       "      <td>0.0</td>\n",
       "      <td>0.0</td>\n",
       "      <td>0.0</td>\n",
       "      <td>0.0</td>\n",
       "      <td>0.0</td>\n",
       "      <td>0.0</td>\n",
       "      <td>NaN</td>\n",
       "      <td>NaN</td>\n",
       "      <td>NaN</td>\n",
       "    </tr>\n",
       "  </tbody>\n",
       "</table>\n",
       "</div>"
      ],
      "text/plain": [
       "  release_date_x        movie  production_budget  domestic_gross  \\\n",
       "0     2015-07-10  The Gallows             100000        22764410   \n",
       "1     1942-08-13        Bambi             858000       102797000   \n",
       "2     1976-11-21        Rocky            1000000       117235147   \n",
       "\n",
       "   worldwide_gross     tconst  runtime_minutes                       genres  \\\n",
       "0         41656474  tt2309260             81.0  [Horror, Mystery, Thriller]   \n",
       "1        268000000  tt2668120             58.0     [Biography, Documentary]   \n",
       "2        225000000  tt3080284            136.0      [Action, Comedy, Drama]   \n",
       "\n",
       "   directors  profit_margin Month  Horror  Action  Adventure  Fantasy  Sci-Fi  \\\n",
       "0  nm4000389      99.759941    07     1.0     0.0        0.0      0.0     0.0   \n",
       "1  nm0509852      99.679851    08     0.0     0.0        0.0      0.0     0.0   \n",
       "2  nm1126847      99.555556    11     0.0     1.0        0.0      0.0     0.0   \n",
       "\n",
       "   Thriller  Western  Animation  Comedy  Family  Crime  Drama  Romance  \\\n",
       "0       1.0      0.0        0.0     0.0     0.0    0.0    0.0      0.0   \n",
       "1       0.0      0.0        0.0     0.0     0.0    0.0    0.0      0.0   \n",
       "2       0.0      0.0        0.0     1.0     0.0    0.0    1.0      0.0   \n",
       "\n",
       "   Mystery    O  History  Sport  Biography  Documentary  War  Musical  Music  \\\n",
       "0      1.0  0.0      0.0    0.0        0.0          0.0  0.0      0.0    0.0   \n",
       "1      0.0  0.0      0.0    0.0        1.0          1.0  0.0      0.0    0.0   \n",
       "2      0.0  0.0      0.0    0.0        0.0          0.0  0.0      0.0    0.0   \n",
       "\n",
       "   News  popularity  vote_average  vote_count  \n",
       "0   0.0       9.166           4.8       591.0  \n",
       "1   0.0         NaN           NaN         NaN  \n",
       "2   0.0         NaN           NaN         NaN  "
      ]
     },
     "execution_count": 56,
     "metadata": {},
     "output_type": "execute_result"
    }
   ],
   "source": [
    "vote_df.head(3)"
   ]
  },
  {
   "cell_type": "code",
   "execution_count": 57,
   "metadata": {},
   "outputs": [],
   "source": [
    "top_vote_v_count = vote_df.groupby('movie').max().sort_values(['vote_count', 'vote_average'], ascending=False)['vote_average'][:25]"
   ]
  },
  {
   "cell_type": "code",
   "execution_count": 58,
   "metadata": {},
   "outputs": [
    {
     "data": {
      "image/png": "[encoded data removed]",
      "text/plain": [
       "<Figure size 936x576 with 1 Axes>"
      ]
     },
     "metadata": {
      "needs_background": "light"
     },
     "output_type": "display_data"
    }
   ],
   "source": [
    "top_vote_v_count.plot(kind='bar', figsize=(13, 8))\n",
    "plt.title('Top 25 Movies With the Most & Best Review')\n",
    "plt.ylabel('Vote Average')\n",
    "plt.xlabel('Movies')\n",
    "plt.ylim([0,10])\n",
    "plt.show()"
   ]
  },
  {
   "cell_type": "code",
   "execution_count": null,
   "metadata": {},
   "outputs": [],
   "source": []
  },
  {
   "cell_type": "code",
   "execution_count": null,
   "metadata": {},
   "outputs": [],
   "source": []
  },
  {
   "cell_type": "code",
   "execution_count": null,
   "metadata": {},
   "outputs": [],
   "source": []
  },
  {
   "cell_type": "code",
   "execution_count": null,
   "metadata": {},
   "outputs": [],
   "source": []
  },
  {
   "cell_type": "code",
   "execution_count": null,
   "metadata": {},
   "outputs": [],
   "source": []
  },
  {
   "cell_type": "code",
   "execution_count": null,
   "metadata": {},
   "outputs": [],
   "source": []
  },
  {
   "cell_type": "code",
   "execution_count": null,
   "metadata": {},
   "outputs": [],
   "source": []
  },
  {
   "cell_type": "code",
   "execution_count": null,
   "metadata": {},
   "outputs": [],
   "source": []
  },
  {
   "cell_type": "code",
   "execution_count": null,
   "metadata": {},
   "outputs": [],
   "source": []
  },
  {
   "cell_type": "code",
   "execution_count": null,
   "metadata": {},
   "outputs": [],
   "source": []
  },
  {
   "cell_type": "code",
   "execution_count": null,
   "metadata": {},
   "outputs": [],
   "source": []
  },
  {
   "cell_type": "code",
   "execution_count": null,
   "metadata": {},
   "outputs": [],
   "source": []
  },
  {
   "cell_type": "code",
   "execution_count": null,
   "metadata": {},
   "outputs": [],
   "source": []
  },
  {
   "cell_type": "code",
   "execution_count": null,
   "metadata": {},
   "outputs": [],
   "source": []
  },
  {
   "cell_type": "code",
   "execution_count": null,
   "metadata": {},
   "outputs": [],
   "source": []
  },
  {
   "cell_type": "code",
   "execution_count": null,
   "metadata": {},
   "outputs": [],
   "source": []
  },
  {
   "cell_type": "code",
   "execution_count": null,
   "metadata": {},
   "outputs": [],
   "source": []
  },
  {
   "cell_type": "code",
   "execution_count": null,
   "metadata": {},
   "outputs": [],
   "source": []
  },
  {
   "cell_type": "code",
   "execution_count": null,
   "metadata": {},
   "outputs": [],
   "source": []
  },
  {
   "cell_type": "code",
   "execution_count": null,
   "metadata": {},
   "outputs": [],
   "source": []
  },
  {
   "cell_type": "code",
   "execution_count": null,
   "metadata": {},
   "outputs": [],
   "source": []
  },
  {
   "cell_type": "code",
   "execution_count": null,
   "metadata": {},
   "outputs": [],
   "source": []
  },
  {
   "cell_type": "code",
   "execution_count": null,
   "metadata": {},
   "outputs": [],
   "source": []
  },
  {
   "cell_type": "code",
   "execution_count": null,
   "metadata": {},
   "outputs": [],
   "source": []
  },
  {
   "cell_type": "code",
   "execution_count": null,
   "metadata": {},
   "outputs": [],
   "source": []
  },
  {
   "cell_type": "code",
   "execution_count": null,
   "metadata": {},
   "outputs": [],
   "source": []
  },
  {
   "cell_type": "code",
   "execution_count": null,
   "metadata": {},
   "outputs": [],
   "source": []
  },
  {
   "cell_type": "code",
   "execution_count": null,
   "metadata": {},
   "outputs": [],
   "source": []
  },
  {
   "cell_type": "code",
   "execution_count": null,
   "metadata": {},
   "outputs": [],
   "source": []
  },
  {
   "cell_type": "code",
   "execution_count": null,
   "metadata": {},
   "outputs": [],
   "source": []
  },
  {
   "cell_type": "code",
   "execution_count": null,
   "metadata": {},
   "outputs": [],
   "source": []
  },
  {
   "cell_type": "code",
   "execution_count": null,
   "metadata": {},
   "outputs": [],
   "source": []
  },
  {
   "cell_type": "code",
   "execution_count": null,
   "metadata": {},
   "outputs": [],
   "source": []
  },
  {
   "cell_type": "code",
   "execution_count": null,
   "metadata": {},
   "outputs": [],
   "source": []
  },
  {
   "cell_type": "code",
   "execution_count": null,
   "metadata": {},
   "outputs": [],
   "source": []
  },
  {
   "cell_type": "code",
   "execution_count": null,
   "metadata": {},
   "outputs": [],
   "source": []
  },
  {
   "cell_type": "code",
   "execution_count": null,
   "metadata": {},
   "outputs": [],
   "source": []
  },
  {
   "cell_type": "code",
   "execution_count": null,
   "metadata": {},
   "outputs": [],
   "source": []
  },
  {
   "cell_type": "code",
   "execution_count": null,
   "metadata": {},
   "outputs": [],
   "source": []
  },
  {
   "cell_type": "code",
   "execution_count": null,
   "metadata": {},
   "outputs": [],
   "source": []
  },
  {
   "cell_type": "code",
   "execution_count": null,
   "metadata": {},
   "outputs": [],
   "source": []
  },
  {
   "cell_type": "code",
   "execution_count": null,
   "metadata": {},
   "outputs": [],
   "source": []
  },
  {
   "cell_type": "code",
   "execution_count": null,
   "metadata": {},
   "outputs": [],
   "source": []
  },
  {
   "cell_type": "code",
   "execution_count": null,
   "metadata": {},
   "outputs": [],
   "source": []
  },
  {
   "cell_type": "code",
   "execution_count": null,
   "metadata": {},
   "outputs": [],
   "source": []
  },
  {
   "cell_type": "code",
   "execution_count": null,
   "metadata": {},
   "outputs": [],
   "source": []
  },
  {
   "cell_type": "code",
   "execution_count": null,
   "metadata": {},
   "outputs": [],
   "source": []
  },
  {
   "cell_type": "markdown",
   "metadata": {},
   "source": [
    "                    MERGING ALL DF WITH GENRES\n",
    "                    "
   ]
  },
  {
   "cell_type": "code",
   "execution_count": 59,
   "metadata": {},
   "outputs": [
    {
     "ename": "NameError",
     "evalue": "name 'popu_budget_gross' is not defined",
     "output_type": "error",
     "traceback": [
      "\u001b[0;31m---------------------------------------------------------------------------\u001b[0m",
      "\u001b[0;31mNameError\u001b[0m                                 Traceback (most recent call last)",
      "\u001b[0;32m<ipython-input-59-72f9ce5bc8de>\u001b[0m in \u001b[0;36m<module>\u001b[0;34m\u001b[0m\n\u001b[0;32m----> 1\u001b[0;31m \u001b[0mdf\u001b[0m \u001b[0;34m=\u001b[0m \u001b[0mpopu_budget_gross\u001b[0m\u001b[0;34m.\u001b[0m\u001b[0mmerge\u001b[0m\u001b[0;34m(\u001b[0m\u001b[0mfiles_dict\u001b[0m\u001b[0;34m[\u001b[0m\u001b[0;34m'imdb_title_basics'\u001b[0m\u001b[0;34m]\u001b[0m\u001b[0;34m,\u001b[0m \u001b[0mleft_on\u001b[0m\u001b[0;34m=\u001b[0m\u001b[0;34m'title'\u001b[0m\u001b[0;34m,\u001b[0m \u001b[0mright_on\u001b[0m\u001b[0;34m=\u001b[0m\u001b[0;34m'primary_title'\u001b[0m\u001b[0;34m)\u001b[0m\u001b[0;34m\u001b[0m\u001b[0;34m\u001b[0m\u001b[0m\n\u001b[0m",
      "\u001b[0;31mNameError\u001b[0m: name 'popu_budget_gross' is not defined"
     ]
    }
   ],
   "source": [
    "df = popu_budget_gross.merge(files_dict['imdb_title_basics'], left_on='title', right_on='primary_title')"
   ]
  },
  {
   "cell_type": "code",
   "execution_count": null,
   "metadata": {},
   "outputs": [],
   "source": [
    "df.drop(['original_title', 'primary_title', \"start_year\", 'genre_ids', 'popularity'], axis=1, inplace=True)\n"
   ]
  },
  {
   "cell_type": "code",
   "execution_count": null,
   "metadata": {},
   "outputs": [],
   "source": [
    "df"
   ]
  },
  {
   "cell_type": "code",
   "execution_count": null,
   "metadata": {},
   "outputs": [],
   "source": [
    "df.genres = df.genres.str.replace(',', ' ').str.split()"
   ]
  },
  {
   "cell_type": "code",
   "execution_count": null,
   "metadata": {},
   "outputs": [],
   "source": [
    "df.genres.fillna('N', inplace=True)"
   ]
  },
  {
   "cell_type": "code",
   "execution_count": null,
   "metadata": {},
   "outputs": [],
   "source": [
    "genre_unique = []\n",
    "for genres in df.genres:\n",
    "    for genre in genres:\n",
    "        if genre=='N':\n",
    "            continue\n",
    "        if genre not in genre_unique:\n",
    "            genre_unique.append(genre)\n",
    "genre_unique"
   ]
  },
  {
   "cell_type": "code",
   "execution_count": null,
   "metadata": {},
   "outputs": [],
   "source": [
    "for genre in genre_unique:\n",
    "    df[genre] = np.zeros(shape=df.shape[0])"
   ]
  },
  {
   "cell_type": "code",
   "execution_count": null,
   "metadata": {},
   "outputs": [],
   "source": [
    "df.head()"
   ]
  },
  {
   "cell_type": "code",
   "execution_count": null,
   "metadata": {},
   "outputs": [],
   "source": [
    "for index, row in df.iterrows():\n",
    "    for word in row['genres']:\n",
    "        if word != 'N':\n",
    "            df.loc[index, word] = 1\n",
    "\n",
    "# Add comments \n"
   ]
  },
  {
   "cell_type": "code",
   "execution_count": null,
   "metadata": {},
   "outputs": [],
   "source": []
  },
  {
   "cell_type": "code",
   "execution_count": null,
   "metadata": {},
   "outputs": [],
   "source": []
  },
  {
   "cell_type": "code",
   "execution_count": null,
   "metadata": {},
   "outputs": [],
   "source": []
  },
  {
   "cell_type": "code",
   "execution_count": null,
   "metadata": {},
   "outputs": [],
   "source": []
  },
  {
   "cell_type": "code",
   "execution_count": null,
   "metadata": {},
   "outputs": [],
   "source": []
  },
  {
   "cell_type": "markdown",
   "metadata": {},
   "source": [
    "                                CREATING ACCURATE GROUPBY TABLES"
   ]
  },
  {
   "cell_type": "code",
   "execution_count": null,
   "metadata": {},
   "outputs": [],
   "source": [
    "df_all = df.merge(files_dict['imdb_title_crew'], left_on='tconst', right_on='tconst')"
   ]
  },
  {
   "cell_type": "code",
   "execution_count": null,
   "metadata": {},
   "outputs": [],
   "source": [
    "df_all.drop(['writers'], axis=1, inplace=True)"
   ]
  },
  {
   "cell_type": "code",
   "execution_count": null,
   "metadata": {},
   "outputs": [],
   "source": [
    "df_all.directors = df_all.directors.str.split(',').str[0]"
   ]
  },
  {
   "cell_type": "code",
   "execution_count": null,
   "metadata": {
    "scrolled": true
   },
   "outputs": [],
   "source": [
    "df_all.rename(columns= {'Months_x': 'Months'}, inplace=True)\n"
   ]
  },
  {
   "cell_type": "code",
   "execution_count": null,
   "metadata": {},
   "outputs": [],
   "source": [
    "df_all.info()"
   ]
  },
  {
   "cell_type": "code",
   "execution_count": null,
   "metadata": {},
   "outputs": [],
   "source": [
    "df_all.tconst.duplicated().sum()"
   ]
  },
  {
   "cell_type": "code",
   "execution_count": null,
   "metadata": {},
   "outputs": [],
   "source": [
    "df_all.drop_duplicates(subset='title', inplace=True)"
   ]
  },
  {
   "cell_type": "code",
   "execution_count": null,
   "metadata": {},
   "outputs": [],
   "source": [
    "df_all.title.duplicated().sum()"
   ]
  },
  {
   "cell_type": "code",
   "execution_count": null,
   "metadata": {},
   "outputs": [],
   "source": [
    "df_all.info()"
   ]
  },
  {
   "cell_type": "code",
   "execution_count": null,
   "metadata": {},
   "outputs": [],
   "source": [
    "directors_stats = df_all.groupby(['directors'], sort=True).mean()\n",
    "directors_stats"
   ]
  },
  {
   "cell_type": "code",
   "execution_count": null,
   "metadata": {},
   "outputs": [],
   "source": [
    "directors_stats = df_all.groupby(['directors', 'title'], sort=False)['profit_margin_percent'].mean()\n",
    "directors_stats.dropna(inplace=True)"
   ]
  },
  {
   "cell_type": "code",
   "execution_count": null,
   "metadata": {},
   "outputs": [],
   "source": [
    "directors_stats.head()\n",
    "\n",
    "# Which directors have the highest profit margins?\n",
    "# Which directors have the higest worldwide gross?\n",
    "# which directors have the highesst domestic gross?"
   ]
  },
  {
   "cell_type": "code",
   "execution_count": null,
   "metadata": {},
   "outputs": [],
   "source": [
    "plt.style.use('seaborn-pastel')\n"
   ]
  },
  {
   "cell_type": "code",
   "execution_count": null,
   "metadata": {},
   "outputs": [],
   "source": [
    "top_profitMargin_directors = directors_stats.sort_values(ascending=False).head(50)\n",
    "top_profitMargin_directors"
   ]
  },
  {
   "cell_type": "code",
   "execution_count": null,
   "metadata": {},
   "outputs": [],
   "source": [
    "top_profitMargin_directors.plot(kind='bar', figsize=(13, 8))\n",
    "plt.title('Average Profit-Margin of Top 25 Directors')\n",
    "plt.ylabel('Profit Margin')\n",
    "plt.xlabel('Directors')\n",
    "plt.grid(True)"
   ]
  },
  {
   "cell_type": "code",
   "execution_count": null,
   "metadata": {},
   "outputs": [],
   "source": []
  },
  {
   "cell_type": "code",
   "execution_count": null,
   "metadata": {},
   "outputs": [],
   "source": []
  },
  {
   "cell_type": "code",
   "execution_count": null,
   "metadata": {},
   "outputs": [],
   "source": []
  },
  {
   "cell_type": "code",
   "execution_count": null,
   "metadata": {},
   "outputs": [],
   "source": []
  },
  {
   "cell_type": "code",
   "execution_count": null,
   "metadata": {},
   "outputs": [],
   "source": [
    "months_stats = df_all.groupby(['Months', 'Family']).mean()"
   ]
  },
  {
   "cell_type": "code",
   "execution_count": null,
   "metadata": {},
   "outputs": [],
   "source": [
    "months_stats.head(10)\n",
    "# what months have the highest domestic_gross?\n",
    "# Which months have worldwide gross?\n",
    "# which months have the highest domestic_gross?\n",
    "# Which months have which genre highest release?"
   ]
  },
  {
   "cell_type": "code",
   "execution_count": null,
   "metadata": {},
   "outputs": [],
   "source": []
  },
  {
   "cell_type": "code",
   "execution_count": null,
   "metadata": {},
   "outputs": [],
   "source": []
  },
  {
   "cell_type": "code",
   "execution_count": null,
   "metadata": {},
   "outputs": [],
   "source": [
    "studio_stats = df_all.groupby(['studio']).mean()"
   ]
  },
  {
   "cell_type": "code",
   "execution_count": null,
   "metadata": {},
   "outputs": [],
   "source": [
    "studio_stats.head()\n",
    "# What studios have the highest average profit_margin?\n",
    "# Which studios have the biggest worldwide_gross?"
   ]
  },
  {
   "cell_type": "code",
   "execution_count": null,
   "metadata": {},
   "outputs": [],
   "source": []
  },
  {
   "cell_type": "code",
   "execution_count": null,
   "metadata": {},
   "outputs": [],
   "source": []
  },
  {
   "cell_type": "code",
   "execution_count": null,
   "metadata": {},
   "outputs": [],
   "source": []
  },
  {
   "cell_type": "code",
   "execution_count": null,
   "metadata": {},
   "outputs": [],
   "source": []
  },
  {
   "cell_type": "code",
   "execution_count": null,
   "metadata": {},
   "outputs": [],
   "source": []
  },
  {
   "cell_type": "code",
   "execution_count": null,
   "metadata": {},
   "outputs": [],
   "source": []
  },
  {
   "cell_type": "code",
   "execution_count": null,
   "metadata": {},
   "outputs": [],
   "source": []
  },
  {
   "cell_type": "markdown",
   "metadata": {},
   "source": [
    "                        TRYING TO CREATE GENRES COLUMN TO BETTER UNDERSTAND DATA VS GENRE\n",
    "                                            COLUMNS IN ALL_IMDB_DF"
   ]
  },
  {
   "cell_type": "code",
   "execution_count": null,
   "metadata": {},
   "outputs": [],
   "source": [
    "popu_budget_gross.head(3)"
   ]
  },
  {
   "cell_type": "code",
   "execution_count": null,
   "metadata": {},
   "outputs": [],
   "source": [
    "popu_budget_gross.genre_ids = popu_budget_gross.genre_ids.str.replace(',', ' ').str.replace('[', '').str.replace(']', '').str.split()\n",
    "popu_budget_gross.genre_ids"
   ]
  },
  {
   "cell_type": "code",
   "execution_count": null,
   "metadata": {
    "scrolled": true
   },
   "outputs": [],
   "source": [
    "popu_budget_gross.genre_ids.isnull().sum()"
   ]
  },
  {
   "cell_type": "code",
   "execution_count": null,
   "metadata": {},
   "outputs": [],
   "source": [
    "popu_budget_gross.head()"
   ]
  },
  {
   "cell_type": "code",
   "execution_count": null,
   "metadata": {},
   "outputs": [],
   "source": [
    "list_ids = []\n",
    "\n",
    "for genre in popu_budget_gross.genre_ids:\n",
    "    for ids in genre:\n",
    "        if ids in list_ids:\n",
    "            pass\n",
    "        if ids not in list_ids:\n",
    "            list_ids.append(ids)\n",
    "            \n",
    "list_ids\n",
    "\n",
    "\n",
    "# for genre in all_imdb_df.genres:\n",
    "#     list_of_genres = genre.split()\n",
    "#     for x in list_of_genres:\n",
    "#         if x == 'NONE':\n",
    "#             pass\n",
    "#         elif x not in all_genres:   \n",
    "#             all_genres.append(x)\n",
    "#         else:\n",
    "#             pass\n"
   ]
  },
  {
   "cell_type": "code",
   "execution_count": null,
   "metadata": {},
   "outputs": [],
   "source": [
    "for genre in list_ids:\n",
    "    popu_budget_gross[genre] = np.zeros(shape=popu_budget_gross.shape[0])"
   ]
  },
  {
   "cell_type": "code",
   "execution_count": null,
   "metadata": {},
   "outputs": [],
   "source": [
    "for index, row in popu_budget_gross.iterrows():\n",
    "#     split_words = row['genres'].split()\n",
    "    for ids in row['genre_ids']:\n",
    "        popu_budget_gross.loc[index, ids] = 1"
   ]
  },
  {
   "cell_type": "code",
   "execution_count": null,
   "metadata": {},
   "outputs": [],
   "source": [
    "popu_budget_gross.head()"
   ]
  },
  {
   "cell_type": "code",
   "execution_count": null,
   "metadata": {},
   "outputs": [],
   "source": []
  },
  {
   "cell_type": "code",
   "execution_count": null,
   "metadata": {},
   "outputs": [],
   "source": []
  },
  {
   "cell_type": "code",
   "execution_count": null,
   "metadata": {},
   "outputs": [],
   "source": []
  },
  {
   "cell_type": "code",
   "execution_count": null,
   "metadata": {},
   "outputs": [],
   "source": []
  },
  {
   "cell_type": "code",
   "execution_count": null,
   "metadata": {},
   "outputs": [],
   "source": []
  },
  {
   "cell_type": "markdown",
   "metadata": {},
   "source": [
    "                        TRYING TO CREATE GENRES COLUMN TO BETTER UNDERSTAND DATA VS GENRE\n",
    "                                            COLUMNS IN ALL_IMDB_DF"
   ]
  },
  {
   "cell_type": "code",
   "execution_count": null,
   "metadata": {},
   "outputs": [],
   "source": []
  },
  {
   "cell_type": "code",
   "execution_count": null,
   "metadata": {
    "scrolled": false
   },
   "outputs": [],
   "source": [
    "all_imdb_df.head(3)"
   ]
  },
  {
   "cell_type": "code",
   "execution_count": null,
   "metadata": {
    "scrolled": true
   },
   "outputs": [],
   "source": [
    "all_imdb_df.info()"
   ]
  },
  {
   "cell_type": "code",
   "execution_count": null,
   "metadata": {},
   "outputs": [],
   "source": [
    "all_imdb_df.genres = all_imdb_df.genres.str.replace(',', ' ')"
   ]
  },
  {
   "cell_type": "code",
   "execution_count": null,
   "metadata": {},
   "outputs": [],
   "source": [
    "all_imdb_df.genres.isnull().sum()"
   ]
  },
  {
   "cell_type": "code",
   "execution_count": null,
   "metadata": {},
   "outputs": [],
   "source": [
    "all_imdb_df.genres.fillna('NONE', inplace=True)"
   ]
  },
  {
   "cell_type": "code",
   "execution_count": null,
   "metadata": {},
   "outputs": [],
   "source": [
    "all_imdb_df.genres.isna().sum()"
   ]
  },
  {
   "cell_type": "code",
   "execution_count": null,
   "metadata": {},
   "outputs": [],
   "source": [
    "all_genres = []\n",
    "for genre in all_imdb_df.genres:\n",
    "    list_of_genres = genre.split()\n",
    "    for x in list_of_genres:\n",
    "        if x == 'NONE':\n",
    "            pass\n",
    "        elif x not in all_genres:   \n",
    "            all_genres.append(x)\n",
    "        else:\n",
    "            pass\n",
    "\n",
    "        \n",
    "        \n",
    "\n",
    "all_genres\n"
   ]
  },
  {
   "cell_type": "code",
   "execution_count": null,
   "metadata": {
    "scrolled": true
   },
   "outputs": [],
   "source": [
    "for genre in all_genres:\n",
    "    all_imdb_df[genre] = np.zeros(shape=all_imdb_df.shape[0])\n",
    "    \n",
    "                                \n",
    "all_imdb_df.drop(['primary_title'], axis=1, inplace=True)\n"
   ]
  },
  {
   "cell_type": "code",
   "execution_count": null,
   "metadata": {},
   "outputs": [],
   "source": [
    "all_imdb_df.info()"
   ]
  },
  {
   "cell_type": "code",
   "execution_count": null,
   "metadata": {},
   "outputs": [],
   "source": [
    "all_imdb_df.genres.value_counts()"
   ]
  },
  {
   "cell_type": "code",
   "execution_count": null,
   "metadata": {},
   "outputs": [],
   "source": [
    "# THIS IS TRIAL CODE!!!!! HOW TO SOLVE THE PROBLEM ABOUT ADDING VALUES TO COLUMNS\n",
    "\n",
    "first_genres = ['Action', 'Adventure', 'Sci-Fi']\n",
    "for genre in first_genres:\n",
    "    all_imdb_df.loc[0, genre] = 0\n",
    "    # all_imdb_df.loc[0, ]\n",
    "all_imdb_df[['Action', 'Adventure', 'Sci-Fi']]"
   ]
  },
  {
   "cell_type": "code",
   "execution_count": null,
   "metadata": {
    "scrolled": true
   },
   "outputs": [],
   "source": [
    "for index, row in all_imdb_df.iterrows():\n",
    "    if index %1000==0:\n",
    "        print(index)\n",
    "    split_words = row['genres'].split()\n",
    "    for word in split_words:\n",
    "        if word != \"NONE\":\n",
    "            all_imdb_df.loc[index, word] = 1\n",
    "\n",
    "# Add comments \n"
   ]
  },
  {
   "cell_type": "code",
   "execution_count": null,
   "metadata": {},
   "outputs": [],
   "source": [
    "pd.set_option('display.max_columns', 500)\n"
   ]
  },
  {
   "cell_type": "code",
   "execution_count": null,
   "metadata": {},
   "outputs": [],
   "source": [
    "all_imdb_df"
   ]
  },
  {
   "cell_type": "code",
   "execution_count": null,
   "metadata": {},
   "outputs": [],
   "source": []
  },
  {
   "cell_type": "code",
   "execution_count": null,
   "metadata": {},
   "outputs": [],
   "source": []
  },
  {
   "cell_type": "code",
   "execution_count": null,
   "metadata": {},
   "outputs": [],
   "source": []
  },
  {
   "cell_type": "markdown",
   "metadata": {},
   "source": [
    "                                CREATING GROUPBY TABLES!!!! AND NAMES!!!\n",
    "                                            popu/budget/gross\n",
    "                                            all_im_df"
   ]
  },
  {
   "cell_type": "code",
   "execution_count": null,
   "metadata": {},
   "outputs": [],
   "source": [
    "studio_sum_budgGross = popu_budget_gross.groupby(['studio', 'title', 'vote_average'])['foreign_gross', 'vote_count', 'production_budget_x', 'domestic_gross',\n",
    "       'worldwide_gross_x'].sum()"
   ]
  },
  {
   "cell_type": "code",
   "execution_count": null,
   "metadata": {},
   "outputs": [],
   "source": [
    "studio_sum_budgGross.head()"
   ]
  },
  {
   "cell_type": "code",
   "execution_count": null,
   "metadata": {
    "scrolled": true
   },
   "outputs": [],
   "source": [
    "months_money = popu_budget_gross.groupby(['Months_x', 'title']).mean()\n",
    "months_money.head()"
   ]
  },
  {
   "cell_type": "code",
   "execution_count": null,
   "metadata": {},
   "outputs": [],
   "source": [
    "popu_budget_gross.keys()"
   ]
  },
  {
   "cell_type": "code",
   "execution_count": null,
   "metadata": {},
   "outputs": [],
   "source": [
    "popu_budget_gross.groupby(['14'])['budget_v_gross_percent_growth'].mean()"
   ]
  },
  {
   "cell_type": "code",
   "execution_count": null,
   "metadata": {},
   "outputs": [],
   "source": []
  },
  {
   "cell_type": "code",
   "execution_count": null,
   "metadata": {},
   "outputs": [],
   "source": []
  },
  {
   "cell_type": "code",
   "execution_count": null,
   "metadata": {},
   "outputs": [],
   "source": []
  },
  {
   "cell_type": "code",
   "execution_count": null,
   "metadata": {},
   "outputs": [],
   "source": []
  },
  {
   "cell_type": "code",
   "execution_count": null,
   "metadata": {},
   "outputs": [],
   "source": []
  },
  {
   "cell_type": "code",
   "execution_count": null,
   "metadata": {},
   "outputs": [],
   "source": [
    "all_imdb_df.keys()"
   ]
  },
  {
   "cell_type": "code",
   "execution_count": null,
   "metadata": {},
   "outputs": [],
   "source": [
    "all_imdb_df.head()"
   ]
  },
  {
   "cell_type": "code",
   "execution_count": null,
   "metadata": {},
   "outputs": [],
   "source": []
  },
  {
   "cell_type": "code",
   "execution_count": null,
   "metadata": {},
   "outputs": [],
   "source": []
  },
  {
   "cell_type": "code",
   "execution_count": null,
   "metadata": {},
   "outputs": [],
   "source": []
  },
  {
   "cell_type": "code",
   "execution_count": null,
   "metadata": {},
   "outputs": [],
   "source": []
  },
  {
   "cell_type": "code",
   "execution_count": null,
   "metadata": {},
   "outputs": [],
   "source": []
  },
  {
   "cell_type": "code",
   "execution_count": null,
   "metadata": {},
   "outputs": [],
   "source": []
  },
  {
   "cell_type": "code",
   "execution_count": null,
   "metadata": {},
   "outputs": [],
   "source": []
  },
  {
   "cell_type": "code",
   "execution_count": null,
   "metadata": {},
   "outputs": [],
   "source": [
    "all_imdb_df.keys()"
   ]
  },
  {
   "cell_type": "code",
   "execution_count": null,
   "metadata": {},
   "outputs": [],
   "source": [
    "genre_rates_avg = {}\n",
    "\n",
    "for column in all_genres:\n",
    "    x = all_imdb_df.groupby([column])['averagerating', 'numvotes'].mean()\n",
    "    x_1 = x.drop([0])\n",
    "    genre_rates_avg[column + \"_rates\"] = x_1\n",
    "genre_rates_avg\n",
    "    \n"
   ]
  },
  {
   "cell_type": "code",
   "execution_count": null,
   "metadata": {},
   "outputs": [],
   "source": []
  },
  {
   "cell_type": "code",
   "execution_count": null,
   "metadata": {},
   "outputs": [],
   "source": []
  },
  {
   "cell_type": "code",
   "execution_count": null,
   "metadata": {},
   "outputs": [],
   "source": []
  },
  {
   "cell_type": "code",
   "execution_count": null,
   "metadata": {},
   "outputs": [],
   "source": []
  },
  {
   "cell_type": "code",
   "execution_count": null,
   "metadata": {},
   "outputs": [],
   "source": []
  },
  {
   "cell_type": "code",
   "execution_count": null,
   "metadata": {},
   "outputs": [],
   "source": []
  }
 ],
 "metadata": {
  "kernelspec": {
   "display_name": "Python [conda env:learn-env] *",
   "language": "python",
   "name": "conda-env-learn-env-py"
  },
  "language_info": {
   "codemirror_mode": {
    "name": "ipython",
    "version": 3
   },
   "file_extension": ".py",
   "mimetype": "text/x-python",
   "name": "python",
   "nbconvert_exporter": "python",
   "pygments_lexer": "ipython3",
   "version": "3.6.9"
  }
 },
 "nbformat": 4,
 "nbformat_minor": 2
}
